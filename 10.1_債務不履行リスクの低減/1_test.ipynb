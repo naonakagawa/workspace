{
 "metadata": {
  "language_info": {
   "codemirror_mode": {
    "name": "ipython",
    "version": 3
   },
   "file_extension": ".py",
   "mimetype": "text/x-python",
   "name": "python",
   "nbconvert_exporter": "python",
   "pygments_lexer": "ipython3",
   "version": "3.7.6-final"
  },
  "orig_nbformat": 2,
  "kernelspec": {
   "name": "Python 3.7.6 64-bit ('base': conda)",
   "display_name": "Python 3.7.6 64-bit ('base': conda)",
   "metadata": {
    "interpreter": {
     "hash": "b3ba2566441a7c06988d0923437866b63cedc61552a5af99d1f4fb67d367b25f"
    }
   }
  }
 },
 "nbformat": 4,
 "nbformat_minor": 2,
 "cells": [
  {
   "cell_type": "code",
   "execution_count": 1,
   "metadata": {},
   "outputs": [
    {
     "output_type": "execute_result",
     "data": {
      "text/plain": [
       "   id    loan_amnt     term  interest_rate grade employment_length  \\\n",
       "0   0   609.296068  3 years       8.421982    A5           0 years   \n",
       "1   1  1183.266999  5 years      10.286776    B1          10 years   \n",
       "2   2   695.783256  3 years      14.723425    C2            1 year   \n",
       "3   3   738.392546  3 years      14.260708    C1           0 years   \n",
       "4   4  1642.400654  5 years      25.217452    E5          10 years   \n",
       "\n",
       "              purpose  credit_score application_type loan_status  \n",
       "0  debt_consolidation    714.061803       Individual   FullyPaid  \n",
       "1         credit_card    697.706701       Individual  ChargedOff  \n",
       "2  debt_consolidation    656.419357       Individual   FullyPaid  \n",
       "3         credit_card    657.906852       Individual   FullyPaid  \n",
       "4  debt_consolidation    662.972297       Individual   FullyPaid  "
      ],
      "text/html": "<div>\n<style scoped>\n    .dataframe tbody tr th:only-of-type {\n        vertical-align: middle;\n    }\n\n    .dataframe tbody tr th {\n        vertical-align: top;\n    }\n\n    .dataframe thead th {\n        text-align: right;\n    }\n</style>\n<table border=\"1\" class=\"dataframe\">\n  <thead>\n    <tr style=\"text-align: right;\">\n      <th></th>\n      <th>id</th>\n      <th>loan_amnt</th>\n      <th>term</th>\n      <th>interest_rate</th>\n      <th>grade</th>\n      <th>employment_length</th>\n      <th>purpose</th>\n      <th>credit_score</th>\n      <th>application_type</th>\n      <th>loan_status</th>\n    </tr>\n  </thead>\n  <tbody>\n    <tr>\n      <th>0</th>\n      <td>0</td>\n      <td>609.296068</td>\n      <td>3 years</td>\n      <td>8.421982</td>\n      <td>A5</td>\n      <td>0 years</td>\n      <td>debt_consolidation</td>\n      <td>714.061803</td>\n      <td>Individual</td>\n      <td>FullyPaid</td>\n    </tr>\n    <tr>\n      <th>1</th>\n      <td>1</td>\n      <td>1183.266999</td>\n      <td>5 years</td>\n      <td>10.286776</td>\n      <td>B1</td>\n      <td>10 years</td>\n      <td>credit_card</td>\n      <td>697.706701</td>\n      <td>Individual</td>\n      <td>ChargedOff</td>\n    </tr>\n    <tr>\n      <th>2</th>\n      <td>2</td>\n      <td>695.783256</td>\n      <td>3 years</td>\n      <td>14.723425</td>\n      <td>C2</td>\n      <td>1 year</td>\n      <td>debt_consolidation</td>\n      <td>656.419357</td>\n      <td>Individual</td>\n      <td>FullyPaid</td>\n    </tr>\n    <tr>\n      <th>3</th>\n      <td>3</td>\n      <td>738.392546</td>\n      <td>3 years</td>\n      <td>14.260708</td>\n      <td>C1</td>\n      <td>0 years</td>\n      <td>credit_card</td>\n      <td>657.906852</td>\n      <td>Individual</td>\n      <td>FullyPaid</td>\n    </tr>\n    <tr>\n      <th>4</th>\n      <td>4</td>\n      <td>1642.400654</td>\n      <td>5 years</td>\n      <td>25.217452</td>\n      <td>E5</td>\n      <td>10 years</td>\n      <td>debt_consolidation</td>\n      <td>662.972297</td>\n      <td>Individual</td>\n      <td>FullyPaid</td>\n    </tr>\n  </tbody>\n</table>\n</div>"
     },
     "metadata": {},
     "execution_count": 1
    }
   ],
   "source": [
    "# Chapter1\n",
    "# NN構築試行\n",
    "import numpy as np\n",
    "import pandas as pd\n",
    "import tensorflow as tf\n",
    "from sklearn.model_selection import train_test_split\n",
    "from sklearn.metrics import confusion_matrix, accuracy_score  # モデルの評価を行うための関数\n",
    "# 学習データ読み込み\n",
    "data = pd.read_csv(\"train.csv\")\n",
    "data.head()"
   ]
  },
  {
   "cell_type": "code",
   "execution_count": 2,
   "metadata": {},
   "outputs": [],
   "source": [
    "# # Chapter2\n",
    "# 学習の再現を行うために乱数シードを固定するためのコード\n",
    "import os\n",
    "import random as rn\n",
    "from tensorflow.compat.v1.keras import backend as K\n",
    "\n",
    "os.environ['PYTHONHASHSEED'] = '0'\n",
    "np.random.seed(0)\n",
    "rn.seed(0)\n",
    "\n",
    "tf.compat.v1.set_random_seed(0)\n",
    "sess = tf.compat.v1.Session(graph=tf.compat.v1.get_default_graph())\n",
    "K.set_session(sess)\n",
    "\n",
    "pd.set_option(\"max_columns\", None)\n",
    "pd.set_option('max_rows', None)"
   ]
  },
  {
   "cell_type": "code",
   "execution_count": 3,
   "metadata": {},
   "outputs": [],
   "source": [
    "# print(\"デフォルトした人:\", len(data[data[\"loan_status\"]==\"ChargedOff\"]))\n",
    "# print(\"デフォルトしていない人:\", len(data[data[\"loan_status\"]==\"FullyPaid\"]))"
   ]
  },
  {
   "cell_type": "code",
   "execution_count": 4,
   "metadata": {},
   "outputs": [],
   "source": [
    "#Down Dampling\n",
    "Train1 = data.where(data[\"loan_status\"] == \"ChargedOff\").dropna()\n",
    "Train2 = data.where(data[\"loan_status\"] == \"FullyPaid\").dropna()\n",
    "Train3 = Train2.sample(n=len(Train1), random_state=0)\n",
    "TrainData = pd.concat([Train1, Train3])"
   ]
  },
  {
   "cell_type": "code",
   "execution_count": 5,
   "metadata": {},
   "outputs": [],
   "source": [
    "TrainData.shape\n",
    "data = TrainData"
   ]
  },
  {
   "cell_type": "code",
   "execution_count": 6,
   "metadata": {},
   "outputs": [
    {
     "output_type": "execute_result",
     "data": {
      "text/plain": [
       "      id    loan_amnt     term  interest_rate grade employment_length  \\\n",
       "1    1.0  1183.266999  5 years      10.286776    B1          10 years   \n",
       "7    7.0  2147.822844  5 years      23.738449    A3          10 years   \n",
       "9    9.0   701.824350  3 years      11.321683    B4           0 years   \n",
       "12  12.0  1244.631171  3 years      18.932798    D3           0 years   \n",
       "24  24.0  2278.044730  5 years      13.757983    C5            1 year   \n",
       "\n",
       "               purpose  credit_score application_type loan_status  \n",
       "1          credit_card    697.706701       Individual  ChargedOff  \n",
       "7   debt_consolidation    656.789397       Individual  ChargedOff  \n",
       "9          credit_card    656.609116       Individual  ChargedOff  \n",
       "12  debt_consolidation    656.933143       Individual  ChargedOff  \n",
       "24         credit_card    719.038856       Individual  ChargedOff  "
      ],
      "text/html": "<div>\n<style scoped>\n    .dataframe tbody tr th:only-of-type {\n        vertical-align: middle;\n    }\n\n    .dataframe tbody tr th {\n        vertical-align: top;\n    }\n\n    .dataframe thead th {\n        text-align: right;\n    }\n</style>\n<table border=\"1\" class=\"dataframe\">\n  <thead>\n    <tr style=\"text-align: right;\">\n      <th></th>\n      <th>id</th>\n      <th>loan_amnt</th>\n      <th>term</th>\n      <th>interest_rate</th>\n      <th>grade</th>\n      <th>employment_length</th>\n      <th>purpose</th>\n      <th>credit_score</th>\n      <th>application_type</th>\n      <th>loan_status</th>\n    </tr>\n  </thead>\n  <tbody>\n    <tr>\n      <th>1</th>\n      <td>1.0</td>\n      <td>1183.266999</td>\n      <td>5 years</td>\n      <td>10.286776</td>\n      <td>B1</td>\n      <td>10 years</td>\n      <td>credit_card</td>\n      <td>697.706701</td>\n      <td>Individual</td>\n      <td>ChargedOff</td>\n    </tr>\n    <tr>\n      <th>7</th>\n      <td>7.0</td>\n      <td>2147.822844</td>\n      <td>5 years</td>\n      <td>23.738449</td>\n      <td>A3</td>\n      <td>10 years</td>\n      <td>debt_consolidation</td>\n      <td>656.789397</td>\n      <td>Individual</td>\n      <td>ChargedOff</td>\n    </tr>\n    <tr>\n      <th>9</th>\n      <td>9.0</td>\n      <td>701.824350</td>\n      <td>3 years</td>\n      <td>11.321683</td>\n      <td>B4</td>\n      <td>0 years</td>\n      <td>credit_card</td>\n      <td>656.609116</td>\n      <td>Individual</td>\n      <td>ChargedOff</td>\n    </tr>\n    <tr>\n      <th>12</th>\n      <td>12.0</td>\n      <td>1244.631171</td>\n      <td>3 years</td>\n      <td>18.932798</td>\n      <td>D3</td>\n      <td>0 years</td>\n      <td>debt_consolidation</td>\n      <td>656.933143</td>\n      <td>Individual</td>\n      <td>ChargedOff</td>\n    </tr>\n    <tr>\n      <th>24</th>\n      <td>24.0</td>\n      <td>2278.044730</td>\n      <td>5 years</td>\n      <td>13.757983</td>\n      <td>C5</td>\n      <td>1 year</td>\n      <td>credit_card</td>\n      <td>719.038856</td>\n      <td>Individual</td>\n      <td>ChargedOff</td>\n    </tr>\n  </tbody>\n</table>\n</div>"
     },
     "metadata": {},
     "execution_count": 6
    }
   ],
   "source": [
    "data.head()"
   ]
  },
  {
   "cell_type": "code",
   "execution_count": 7,
   "metadata": {},
   "outputs": [],
   "source": [
    "# Chapter3\n",
    "# def pre_process(input_data):\n",
    "# データ前処理\n",
    "# One-Hotエンコーディング\n",
    "# pre_X = input_data.drop([\"loan_status\", \"id\"], axis=1).replace({\n",
    "pre_X = data.drop([\"loan_status\"], axis=1).replace({\n",
    "    \"A1\": 1, \"A2\": 2, \"A3\": 3, \"A4\": 4, \"A5\": 5,\n",
    "    \"B1\": 6, \"B2\": 7, \"B3\": 8, \"B4\": 9, \"B5\": 10,\n",
    "    \"C1\": 11, \"C2\": 12, \"C3\": 13, \"C4\": 14, \"C5\": 15,\n",
    "    \"D1\": 16, \"D2\": 17, \"D3\": 18, \"D4\": 19, \"D5\": 20,\n",
    "    \"E1\": 21, \"E2\": 22, \"E3\": 23, \"E4\": 24, \"E5\": 25,\n",
    "    \"F1\": 26, \"F2\": 27, \"F3\": 28, \"F4\": 29, \"F5\": 30,\n",
    "    \"0 year\": 0, \"0 years\": 0, \"1 years\": 1, \"1 year\": 1, \"2 years\": 2, \"3 years\": 3, \"4 years\": 4, \"5 years\": 5,\n",
    "    \"6 years\": 6, \"7 years\": 7, \"8 years\": 8, \"9 years\": 9, \"10 years\": 10\n",
    "}).astype({\n",
    "    \"term\": \"int8\",\n",
    "    \"grade\": \"int8\",\n",
    "    \"employment_length\": \"int8\",\n",
    "})\n",
    "pre_y = data[\"loan_status\"]\n",
    "X = pd.get_dummies(pre_X)\n",
    "y = pre_y.replace({\"ChargedOff\": 1, \"FullyPaid\": 0})\n",
    "# pre_X_train, pre_X_test = train_test_split(X, test_size=0.1, shuffle=False)\n",
    "# y_train, y_test = train_test_split(y, test_size=0.1, shuffle=False)\n",
    "\n",
    "# X_train = X\n",
    "# X_test = X\n",
    "y_train = y\n",
    "y_test = y\n",
    "\n",
    "# 加工が終わった時点でCSVに出すと、ほかのモデルでの使いまわしがきく。\n",
    "# # Min-Maxスケーリング\n",
    "# X_train = ((pre_X_train - pre_X_train.min()) / (pre_X_train.max() - pre_X_train.min()))\n",
    "X_train = ((X - X.min()) / (X.max() - X.min()))\n",
    "# X_train = pre_X_train\n",
    "# # Min-Maxスケーリング\n",
    "# X_test = ((pre_X_test - pre_X_test.min()) / (pre_X_test.max() - pre_X_test.min()))\n",
    "X_test = ((X - X.min()) / (X.max() - X.min()))\n",
    "# X_test = pre_X_test\n",
    "    # return X_train, X_test, y_train, y_test\n",
    "# X_train, X_test, y_train, y_test = pre_process(data)"
   ]
  },
  {
   "cell_type": "code",
   "execution_count": 8,
   "metadata": {},
   "outputs": [],
   "source": [
    "# pre_X_train.head()"
   ]
  },
  {
   "cell_type": "code",
   "execution_count": 9,
   "metadata": {},
   "outputs": [
    {
     "output_type": "stream",
     "name": "stdout",
     "text": [
      "訓練データの特徴量 (84712, 18)\n訓練データのターゲット (84712,)\n"
     ]
    }
   ],
   "source": [
    "print(\"訓練データの特徴量\", X_train.shape)\n",
    "print(\"訓練データのターゲット\", y_train.shape)\n"
   ]
  },
  {
   "cell_type": "code",
   "execution_count": 10,
   "metadata": {},
   "outputs": [],
   "source": [
    "from tensorflow import keras  # Keras\n",
    "from tensorflow.keras.layers import Dense, LSTM, Dropout\n",
    "from tensorflow.keras.metrics import binary_accuracy, Accuracy\n",
    "# Keras以外を利用するのも一つの手段。\n",
    "model = keras.models.Sequential()\n",
    "model.add(Dense(units=17, activation=tf.nn.relu)) \n",
    "model.add(keras.layers.BatchNormalization())  # バッチ正規化層\n",
    "model.add(Dense(units=100, activation=tf.nn.relu)) \n",
    "model.add(keras.layers.BatchNormalization())  # バッチ正規化層\n",
    "model.add(Dense(units=2, activation=tf.nn.softmax))  # 出力層（活性化関数はソフトマックス関数）\n",
    "model.compile(optimizer = keras.optimizers.SGD(lr=0.1),\n",
    "           loss=\"sparse_categorical_crossentropy\",\n",
    "           metrics=\"accuracy\")\n",
    "        #    f1scoreにするのがよい"
   ]
  },
  {
   "cell_type": "code",
   "execution_count": 11,
   "metadata": {},
   "outputs": [
    {
     "output_type": "stream",
     "name": "stdout",
     "text": [
      "Epoch 1/100\n",
      "WARNING:tensorflow:Layer dense is casting an input tensor from dtype float64 to the layer's dtype of float32, which is new behavior in TensorFlow 2.  The layer has dtype float32 because its dtype defaults to floatx.\n",
      "\n",
      "If you intended to run this layer in float32, you can safely ignore this warning. If in doubt, this warning is likely only an issue if you are porting a TensorFlow 1.X model to TensorFlow 2.\n",
      "\n",
      "To change all layers to have dtype float64 by default, call `tf.keras.backend.set_floatx('float64')`. To change just this layer, pass dtype='float64' to the layer constructor. If you are the author of this layer, you can disable autocasting by passing autocast=False to the base Layer constructor.\n",
      "\n",
      "678/678 [==============================] - 4s 6ms/step - loss: 0.6222 - accuracy: 0.6647 - val_loss: 0.9423 - val_accuracy: 0.1644\n",
      "Epoch 2/100\n",
      "678/678 [==============================] - 1s 2ms/step - loss: 0.6081 - accuracy: 0.6741 - val_loss: 0.9402 - val_accuracy: 0.2530\n",
      "Epoch 3/100\n",
      "678/678 [==============================] - 1s 2ms/step - loss: 0.6059 - accuracy: 0.6759 - val_loss: 0.9319 - val_accuracy: 0.2935\n",
      "Epoch 4/100\n",
      "678/678 [==============================] - 1s 2ms/step - loss: 0.6047 - accuracy: 0.6759 - val_loss: 0.8956 - val_accuracy: 0.3428\n",
      "Epoch 5/100\n",
      "678/678 [==============================] - 1s 2ms/step - loss: 0.6037 - accuracy: 0.6768 - val_loss: 0.8530 - val_accuracy: 0.3037\n",
      "Epoch 6/100\n",
      "678/678 [==============================] - 1s 2ms/step - loss: 0.6019 - accuracy: 0.6772 - val_loss: 0.8648 - val_accuracy: 0.4302\n",
      "Epoch 7/100\n",
      "678/678 [==============================] - 1s 2ms/step - loss: 0.6007 - accuracy: 0.6786 - val_loss: 0.9181 - val_accuracy: 0.3313\n",
      "Epoch 8/100\n",
      "678/678 [==============================] - 1s 2ms/step - loss: 0.5999 - accuracy: 0.6805 - val_loss: 0.9100 - val_accuracy: 0.2707\n",
      "Epoch 9/100\n",
      "678/678 [==============================] - 1s 2ms/step - loss: 0.5990 - accuracy: 0.6797 - val_loss: 0.8572 - val_accuracy: 0.4378\n",
      "Epoch 10/100\n",
      "678/678 [==============================] - 1s 2ms/step - loss: 0.5995 - accuracy: 0.6792 - val_loss: 0.8582 - val_accuracy: 0.3492\n",
      "Epoch 11/100\n",
      "678/678 [==============================] - 1s 2ms/step - loss: 0.5993 - accuracy: 0.6797 - val_loss: 0.8825 - val_accuracy: 0.3031\n",
      "Epoch 12/100\n",
      "678/678 [==============================] - 1s 2ms/step - loss: 0.5988 - accuracy: 0.6813 - val_loss: 0.8926 - val_accuracy: 0.2713\n",
      "Epoch 13/100\n",
      "678/678 [==============================] - 1s 2ms/step - loss: 0.5974 - accuracy: 0.6811 - val_loss: 0.8645 - val_accuracy: 0.3469\n",
      "Epoch 14/100\n",
      "678/678 [==============================] - 1s 2ms/step - loss: 0.5974 - accuracy: 0.6817 - val_loss: 0.8894 - val_accuracy: 0.3280\n",
      "Epoch 15/100\n",
      "678/678 [==============================] - 1s 2ms/step - loss: 0.5970 - accuracy: 0.6817 - val_loss: 0.9606 - val_accuracy: 0.2632\n",
      "Epoch 16/100\n",
      "678/678 [==============================] - 1s 2ms/step - loss: 0.5965 - accuracy: 0.6810 - val_loss: 0.8630 - val_accuracy: 0.3116\n",
      "Epoch 17/100\n",
      "678/678 [==============================] - 1s 2ms/step - loss: 0.5971 - accuracy: 0.6808 - val_loss: 0.8723 - val_accuracy: 0.3120\n",
      "Epoch 18/100\n",
      "678/678 [==============================] - 1s 2ms/step - loss: 0.5962 - accuracy: 0.6819 - val_loss: 0.8736 - val_accuracy: 0.3259\n",
      "Epoch 19/100\n",
      "678/678 [==============================] - 1s 2ms/step - loss: 0.5966 - accuracy: 0.6828 - val_loss: 0.8994 - val_accuracy: 0.2871\n",
      "Epoch 20/100\n",
      "678/678 [==============================] - 1s 2ms/step - loss: 0.5958 - accuracy: 0.6830 - val_loss: 0.8775 - val_accuracy: 0.3604\n",
      "Epoch 21/100\n",
      "678/678 [==============================] - 1s 2ms/step - loss: 0.5950 - accuracy: 0.6825 - val_loss: 0.9303 - val_accuracy: 0.3063\n",
      "Epoch 22/100\n",
      "678/678 [==============================] - 1s 2ms/step - loss: 0.5953 - accuracy: 0.6823 - val_loss: 0.9145 - val_accuracy: 0.3230\n",
      "Epoch 23/100\n",
      "678/678 [==============================] - 1s 2ms/step - loss: 0.5949 - accuracy: 0.6822 - val_loss: 0.8732 - val_accuracy: 0.3164\n",
      "Epoch 24/100\n",
      "678/678 [==============================] - 1s 2ms/step - loss: 0.5953 - accuracy: 0.6815 - val_loss: 0.8524 - val_accuracy: 0.3079\n",
      "Epoch 25/100\n",
      "678/678 [==============================] - 1s 2ms/step - loss: 0.5947 - accuracy: 0.6830 - val_loss: 0.9481 - val_accuracy: 0.2753\n",
      "Epoch 26/100\n",
      "678/678 [==============================] - 1s 2ms/step - loss: 0.5941 - accuracy: 0.6840 - val_loss: 0.8862 - val_accuracy: 0.3367\n",
      "Epoch 27/100\n",
      "678/678 [==============================] - 1s 2ms/step - loss: 0.5941 - accuracy: 0.6834 - val_loss: 0.8853 - val_accuracy: 0.3066\n",
      "Epoch 28/100\n",
      "678/678 [==============================] - 1s 2ms/step - loss: 0.5938 - accuracy: 0.6838 - val_loss: 0.8928 - val_accuracy: 0.3037\n",
      "Epoch 29/100\n",
      "678/678 [==============================] - 1s 2ms/step - loss: 0.5940 - accuracy: 0.6836 - val_loss: 0.8353 - val_accuracy: 0.3586\n",
      "Epoch 30/100\n",
      "678/678 [==============================] - 1s 2ms/step - loss: 0.5931 - accuracy: 0.6836 - val_loss: 0.8895 - val_accuracy: 0.2842\n",
      "Epoch 31/100\n",
      "678/678 [==============================] - 1s 2ms/step - loss: 0.5938 - accuracy: 0.6834 - val_loss: 0.8940 - val_accuracy: 0.3218\n",
      "Epoch 32/100\n",
      "678/678 [==============================] - 1s 2ms/step - loss: 0.5934 - accuracy: 0.6838 - val_loss: 0.8775 - val_accuracy: 0.3089\n",
      "Epoch 33/100\n",
      "678/678 [==============================] - 1s 2ms/step - loss: 0.5933 - accuracy: 0.6830 - val_loss: 0.8844 - val_accuracy: 0.3106\n",
      "Epoch 34/100\n",
      "678/678 [==============================] - 1s 2ms/step - loss: 0.5935 - accuracy: 0.6827 - val_loss: 0.8629 - val_accuracy: 0.3128\n",
      "Epoch 35/100\n",
      "678/678 [==============================] - 2s 2ms/step - loss: 0.5926 - accuracy: 0.6835 - val_loss: 0.8942 - val_accuracy: 0.3169\n",
      "Epoch 36/100\n",
      "678/678 [==============================] - 1s 2ms/step - loss: 0.5929 - accuracy: 0.6840 - val_loss: 0.8724 - val_accuracy: 0.3227\n",
      "Epoch 37/100\n",
      "678/678 [==============================] - 1s 2ms/step - loss: 0.5931 - accuracy: 0.6832 - val_loss: 0.8712 - val_accuracy: 0.3213\n",
      "Epoch 38/100\n",
      "678/678 [==============================] - 1s 2ms/step - loss: 0.5930 - accuracy: 0.6843 - val_loss: 0.8936 - val_accuracy: 0.2907\n",
      "Epoch 39/100\n",
      "678/678 [==============================] - 1s 2ms/step - loss: 0.5922 - accuracy: 0.6857 - val_loss: 0.8523 - val_accuracy: 0.2882\n",
      "Epoch 40/100\n",
      "678/678 [==============================] - 1s 2ms/step - loss: 0.5921 - accuracy: 0.6841 - val_loss: 0.8803 - val_accuracy: 0.2940\n",
      "Epoch 41/100\n",
      "678/678 [==============================] - 1s 2ms/step - loss: 0.5922 - accuracy: 0.6849 - val_loss: 0.9412 - val_accuracy: 0.2917\n",
      "Epoch 42/100\n",
      "678/678 [==============================] - 1s 2ms/step - loss: 0.5923 - accuracy: 0.6844 - val_loss: 0.8420 - val_accuracy: 0.4059\n",
      "Epoch 43/100\n",
      "678/678 [==============================] - 1s 2ms/step - loss: 0.5919 - accuracy: 0.6851 - val_loss: 0.9000 - val_accuracy: 0.3060\n",
      "Epoch 44/100\n",
      "678/678 [==============================] - 1s 2ms/step - loss: 0.5918 - accuracy: 0.6842 - val_loss: 0.8498 - val_accuracy: 0.3078\n",
      "Epoch 45/100\n",
      "678/678 [==============================] - 1s 2ms/step - loss: 0.5917 - accuracy: 0.6861 - val_loss: 0.9156 - val_accuracy: 0.3044\n",
      "Epoch 46/100\n",
      "678/678 [==============================] - 1s 2ms/step - loss: 0.5915 - accuracy: 0.6850 - val_loss: 0.8641 - val_accuracy: 0.3801\n",
      "Epoch 47/100\n",
      "678/678 [==============================] - 1s 2ms/step - loss: 0.5912 - accuracy: 0.6842 - val_loss: 0.8571 - val_accuracy: 0.3152\n",
      "Epoch 48/100\n",
      "678/678 [==============================] - 1s 2ms/step - loss: 0.5911 - accuracy: 0.6846 - val_loss: 0.8896 - val_accuracy: 0.3250\n",
      "Epoch 49/100\n",
      "678/678 [==============================] - 1s 2ms/step - loss: 0.5907 - accuracy: 0.6859 - val_loss: 0.8352 - val_accuracy: 0.3743\n",
      "Epoch 50/100\n",
      "678/678 [==============================] - 1s 2ms/step - loss: 0.5912 - accuracy: 0.6841 - val_loss: 0.9191 - val_accuracy: 0.3066\n",
      "Epoch 51/100\n",
      "678/678 [==============================] - 1s 2ms/step - loss: 0.5904 - accuracy: 0.6855 - val_loss: 0.8678 - val_accuracy: 0.3223\n",
      "Epoch 52/100\n",
      "678/678 [==============================] - 1s 2ms/step - loss: 0.5902 - accuracy: 0.6850 - val_loss: 0.8706 - val_accuracy: 0.2964\n",
      "Epoch 53/100\n",
      "678/678 [==============================] - 2s 2ms/step - loss: 0.5906 - accuracy: 0.6855 - val_loss: 0.8249 - val_accuracy: 0.3074\n",
      "Epoch 54/100\n",
      "678/678 [==============================] - 1s 2ms/step - loss: 0.5911 - accuracy: 0.6849 - val_loss: 0.8947 - val_accuracy: 0.2906\n",
      "Epoch 55/100\n",
      "678/678 [==============================] - 1s 2ms/step - loss: 0.5911 - accuracy: 0.6838 - val_loss: 0.8742 - val_accuracy: 0.3315\n",
      "Epoch 56/100\n",
      "678/678 [==============================] - 1s 2ms/step - loss: 0.5905 - accuracy: 0.6847 - val_loss: 0.8868 - val_accuracy: 0.3113\n",
      "Epoch 57/100\n",
      "678/678 [==============================] - 1s 2ms/step - loss: 0.5905 - accuracy: 0.6862 - val_loss: 0.9102 - val_accuracy: 0.3237\n",
      "Epoch 58/100\n",
      "678/678 [==============================] - 1s 2ms/step - loss: 0.5904 - accuracy: 0.6851 - val_loss: 0.9259 - val_accuracy: 0.2817\n",
      "Epoch 59/100\n",
      "678/678 [==============================] - 1s 2ms/step - loss: 0.5900 - accuracy: 0.6852 - val_loss: 0.8972 - val_accuracy: 0.3251\n",
      "Epoch 60/100\n",
      "678/678 [==============================] - 1s 2ms/step - loss: 0.5903 - accuracy: 0.6840 - val_loss: 0.9032 - val_accuracy: 0.2994\n",
      "Epoch 61/100\n",
      "678/678 [==============================] - 1s 2ms/step - loss: 0.5902 - accuracy: 0.6852 - val_loss: 0.9314 - val_accuracy: 0.2739\n",
      "Epoch 62/100\n",
      "678/678 [==============================] - 1s 2ms/step - loss: 0.5909 - accuracy: 0.6854 - val_loss: 0.8992 - val_accuracy: 0.3160\n",
      "Epoch 63/100\n",
      "678/678 [==============================] - 1s 2ms/step - loss: 0.5904 - accuracy: 0.6861 - val_loss: 0.8627 - val_accuracy: 0.3458\n",
      "Epoch 64/100\n",
      "678/678 [==============================] - 1s 2ms/step - loss: 0.5903 - accuracy: 0.6849 - val_loss: 0.9083 - val_accuracy: 0.3041\n",
      "Epoch 65/100\n",
      "678/678 [==============================] - 1s 2ms/step - loss: 0.5897 - accuracy: 0.6863 - val_loss: 0.8645 - val_accuracy: 0.3057\n",
      "Epoch 66/100\n",
      "678/678 [==============================] - 1s 2ms/step - loss: 0.5895 - accuracy: 0.6850 - val_loss: 0.8871 - val_accuracy: 0.3081\n",
      "Epoch 67/100\n",
      "678/678 [==============================] - 1s 2ms/step - loss: 0.5893 - accuracy: 0.6859 - val_loss: 0.8489 - val_accuracy: 0.3361\n",
      "Epoch 68/100\n",
      "678/678 [==============================] - 1s 2ms/step - loss: 0.5897 - accuracy: 0.6859 - val_loss: 0.9683 - val_accuracy: 0.2665\n",
      "Epoch 69/100\n",
      "678/678 [==============================] - 1s 2ms/step - loss: 0.5898 - accuracy: 0.6858 - val_loss: 0.8182 - val_accuracy: 0.3926\n",
      "Epoch 70/100\n",
      "678/678 [==============================] - 1s 2ms/step - loss: 0.5896 - accuracy: 0.6856 - val_loss: 0.8896 - val_accuracy: 0.2897\n",
      "Epoch 71/100\n",
      "678/678 [==============================] - 1s 2ms/step - loss: 0.5898 - accuracy: 0.6852 - val_loss: 0.8946 - val_accuracy: 0.2925\n",
      "Epoch 72/100\n",
      "678/678 [==============================] - 1s 2ms/step - loss: 0.5889 - accuracy: 0.6864 - val_loss: 0.9092 - val_accuracy: 0.3110\n",
      "Epoch 73/100\n",
      "678/678 [==============================] - 1s 2ms/step - loss: 0.5891 - accuracy: 0.6865 - val_loss: 0.8628 - val_accuracy: 0.3305\n",
      "Epoch 74/100\n",
      "678/678 [==============================] - 1s 2ms/step - loss: 0.5891 - accuracy: 0.6860 - val_loss: 0.8655 - val_accuracy: 0.3028\n",
      "Epoch 75/100\n",
      "678/678 [==============================] - 1s 2ms/step - loss: 0.5892 - accuracy: 0.6863 - val_loss: 0.8408 - val_accuracy: 0.3286\n",
      "Epoch 76/100\n",
      "678/678 [==============================] - 1s 2ms/step - loss: 0.5893 - accuracy: 0.6854 - val_loss: 0.9345 - val_accuracy: 0.2639\n",
      "Epoch 77/100\n",
      "678/678 [==============================] - 1s 2ms/step - loss: 0.5887 - accuracy: 0.6867 - val_loss: 0.8820 - val_accuracy: 0.3460\n",
      "Epoch 78/100\n",
      "678/678 [==============================] - 1s 2ms/step - loss: 0.5894 - accuracy: 0.6854 - val_loss: 0.8170 - val_accuracy: 0.3612\n",
      "Epoch 79/100\n",
      "678/678 [==============================] - 1s 2ms/step - loss: 0.5892 - accuracy: 0.6869 - val_loss: 0.8793 - val_accuracy: 0.3108\n",
      "Epoch 80/100\n",
      "678/678 [==============================] - 1s 2ms/step - loss: 0.5893 - accuracy: 0.6863 - val_loss: 0.8487 - val_accuracy: 0.3110\n",
      "Epoch 81/100\n",
      "678/678 [==============================] - 1s 2ms/step - loss: 0.5887 - accuracy: 0.6861 - val_loss: 0.8124 - val_accuracy: 0.3989\n",
      "Epoch 82/100\n",
      "678/678 [==============================] - 1s 2ms/step - loss: 0.5886 - accuracy: 0.6848 - val_loss: 0.8641 - val_accuracy: 0.3430\n",
      "Epoch 83/100\n",
      "678/678 [==============================] - 1s 2ms/step - loss: 0.5889 - accuracy: 0.6864 - val_loss: 0.8782 - val_accuracy: 0.2781\n",
      "Epoch 84/100\n",
      "678/678 [==============================] - 1s 2ms/step - loss: 0.5889 - accuracy: 0.6862 - val_loss: 0.9207 - val_accuracy: 0.2857\n",
      "Epoch 85/100\n",
      "678/678 [==============================] - 1s 2ms/step - loss: 0.5890 - accuracy: 0.6868 - val_loss: 0.9304 - val_accuracy: 0.3195\n",
      "Epoch 86/100\n",
      "678/678 [==============================] - 1s 2ms/step - loss: 0.5887 - accuracy: 0.6867 - val_loss: 0.9047 - val_accuracy: 0.3199\n",
      "Epoch 87/100\n",
      "678/678 [==============================] - 1s 2ms/step - loss: 0.5885 - accuracy: 0.6871 - val_loss: 0.8133 - val_accuracy: 0.3773\n",
      "Epoch 88/100\n",
      "678/678 [==============================] - 1s 2ms/step - loss: 0.5889 - accuracy: 0.6850 - val_loss: 0.8643 - val_accuracy: 0.3258\n",
      "Epoch 89/100\n",
      "678/678 [==============================] - 1s 2ms/step - loss: 0.5886 - accuracy: 0.6857 - val_loss: 0.8909 - val_accuracy: 0.3209\n",
      "Epoch 90/100\n",
      "678/678 [==============================] - 1s 2ms/step - loss: 0.5885 - accuracy: 0.6867 - val_loss: 0.8848 - val_accuracy: 0.3230\n",
      "Epoch 91/100\n",
      "678/678 [==============================] - 1s 2ms/step - loss: 0.5884 - accuracy: 0.6866 - val_loss: 0.9169 - val_accuracy: 0.2583\n",
      "Epoch 92/100\n",
      "678/678 [==============================] - 1s 2ms/step - loss: 0.5885 - accuracy: 0.6865 - val_loss: 0.8578 - val_accuracy: 0.3632\n",
      "Epoch 93/100\n",
      "678/678 [==============================] - 1s 2ms/step - loss: 0.5884 - accuracy: 0.6858 - val_loss: 0.9253 - val_accuracy: 0.3007\n",
      "Epoch 94/100\n",
      "678/678 [==============================] - 1s 2ms/step - loss: 0.5878 - accuracy: 0.6864 - val_loss: 0.8825 - val_accuracy: 0.3577\n",
      "Epoch 95/100\n",
      "678/678 [==============================] - 1s 2ms/step - loss: 0.5880 - accuracy: 0.6857 - val_loss: 0.9320 - val_accuracy: 0.2618\n",
      "Epoch 96/100\n",
      "678/678 [==============================] - 1s 2ms/step - loss: 0.5885 - accuracy: 0.6860 - val_loss: 0.8815 - val_accuracy: 0.3412\n",
      "Epoch 97/100\n",
      "678/678 [==============================] - 1s 2ms/step - loss: 0.5882 - accuracy: 0.6866 - val_loss: 0.8652 - val_accuracy: 0.3539\n",
      "Epoch 98/100\n",
      "678/678 [==============================] - 1s 2ms/step - loss: 0.5889 - accuracy: 0.6865 - val_loss: 0.8750 - val_accuracy: 0.3299\n",
      "Epoch 99/100\n",
      "678/678 [==============================] - 1s 2ms/step - loss: 0.5883 - accuracy: 0.6872 - val_loss: 0.8140 - val_accuracy: 0.3948\n",
      "Epoch 100/100\n",
      "678/678 [==============================] - 1s 2ms/step - loss: 0.5883 - accuracy: 0.6850 - val_loss: 0.8328 - val_accuracy: 0.3787\n"
     ]
    }
   ],
   "source": [
    "history = model.fit(x=X_train,\n",
    "       y=y_train,\n",
    "       batch_size=100,  # バッチサイズ\n",
    "       epochs=100,  # エポック数\n",
    "       validation_split=0.2,  # 検証データの割合\n",
    "       verbose=1)  # 進捗の確認を行うか（0:行わない, 1:行う）"
   ]
  },
  {
   "cell_type": "code",
   "execution_count": 12,
   "metadata": {},
   "outputs": [
    {
     "output_type": "stream",
     "name": "stdout",
     "text": [
      "[[16187 26169]\n [ 5594 36762]]\n"
     ]
    }
   ],
   "source": [
    "# 混同行列による評価\n",
    "y_proba = model.predict(X_test)\n",
    "y_pred = np.argmax(y_proba, axis=1)\n",
    "confmat = confusion_matrix(y_test, y_pred)\n",
    "print(confmat)"
   ]
  },
  {
   "cell_type": "code",
   "execution_count": 13,
   "metadata": {},
   "outputs": [
    {
     "output_type": "stream",
     "name": "stdout",
     "text": [
      "正解率: 0.6250472188119747\n"
     ]
    }
   ],
   "source": [
    "# 正答率による評価\n",
    "print(\"正解率:\", accuracy_score(y_test, y_pred))"
   ]
  },
  {
   "cell_type": "code",
   "execution_count": 14,
   "metadata": {},
   "outputs": [
    {
     "output_type": "stream",
     "name": "stdout",
     "text": [
      "    y  y_pred\n1   1       0\n7   1       1\n9   1       1\n12  1       1\n24  1       1\n"
     ]
    }
   ],
   "source": [
    "print(pd.DataFrame({'y': y_test, 'y_pred': y_pred}).head())  # 実際のクラスと分類結果を上から5つだけ表示"
   ]
  },
  {
   "cell_type": "code",
   "execution_count": 15,
   "metadata": {},
   "outputs": [
    {
     "output_type": "stream",
     "name": "stdout",
     "text": [
      "回帰係数:\n                           Name  Coefficients\n6                  credit_score -1.918146e-01\n0                            id -1.080256e-02\n5             employment_length  8.147682e-03\n4                         grade  3.802709e-02\n2                          term  5.125555e-02\n1                     loan_amnt  5.847499e-02\n3                 interest_rate  6.008798e-01\n11                purpose_house  2.795343e+10\n15       purpose_small_business  2.795343e+10\n7                   purpose_car  2.795343e+10\n10     purpose_home_improvement  2.795343e+10\n8           purpose_credit_card  2.795343e+10\n14                purpose_other  2.795343e+10\n9    purpose_debt_consolidation  2.795343e+10\n13              purpose_medical  2.795343e+10\n12       purpose_major_purchase  2.795343e+10\n17   application_type_Joint App  5.214775e+12\n16  application_type_Individual  5.214775e+12\n切片: -5242728544542.257\n決定係数: 0.12068743619739596\n"
     ]
    }
   ],
   "source": [
    "# 重回帰\n",
    "from sklearn import linear_model  # 線形回帰を行うためのモジュール\n",
    "# 変数の準備\n",
    "# X = data_oh.drop([\"loan_status_ChargedOff\", \"loan_status_FullyPaid\"], axis=1)  # 説明変数の設定\n",
    "# y = data_oh[\"loan_status_FullyPaid\"]  # 目的変数の設定\n",
    "\n",
    "# 学習\n",
    "lr = linear_model.LinearRegression()  # 線形回帰モデルのインスタンスを作成\n",
    "lr.fit(X_train, y_train)  # 回帰の実行\n",
    "\n",
    "# 結果の確認\n",
    "print(\"回帰係数:\")\n",
    "print(pd.DataFrame({\"Name\": X_train.columns,\n",
    "                    \"Coefficients\": lr.coef_}).sort_values(by='Coefficients'))  # 回帰係数\n",
    "print(\"切片:\", lr.intercept_)  # 切片\n",
    "print(\"決定係数:\", lr.score(X_train, y_train))  # 決定係数"
   ]
  },
  {
   "cell_type": "code",
   "execution_count": 16,
   "metadata": {},
   "outputs": [
    {
     "output_type": "execute_result",
     "data": {
      "text/plain": [
       "          id  loan_amnt  term  interest_rate     grade  employment_length  \\\n",
       "1   0.000000   0.242699   1.0       0.206435  0.172414                1.0   \n",
       "7   0.000025   0.516423   1.0       0.814364  0.068966                1.0   \n",
       "9   0.000033   0.106075   0.0       0.253206  0.275862                0.0   \n",
       "12  0.000045   0.260113   0.0       0.597179  0.586207                0.0   \n",
       "24  0.000095   0.553377   1.0       0.363311  0.482759                0.1   \n",
       "\n",
       "    credit_score  purpose_car  purpose_credit_card  \\\n",
       "1       0.278140          0.0                  1.0   \n",
       "7       0.008612          0.0                  0.0   \n",
       "9       0.007425          0.0                  1.0   \n",
       "12      0.009559          0.0                  0.0   \n",
       "24      0.418657          0.0                  1.0   \n",
       "\n",
       "    purpose_debt_consolidation  purpose_home_improvement  purpose_house  \\\n",
       "1                          0.0                       0.0            0.0   \n",
       "7                          1.0                       0.0            0.0   \n",
       "9                          0.0                       0.0            0.0   \n",
       "12                         1.0                       0.0            0.0   \n",
       "24                         0.0                       0.0            0.0   \n",
       "\n",
       "    purpose_major_purchase  purpose_medical  purpose_other  \\\n",
       "1                      0.0              0.0            0.0   \n",
       "7                      0.0              0.0            0.0   \n",
       "9                      0.0              0.0            0.0   \n",
       "12                     0.0              0.0            0.0   \n",
       "24                     0.0              0.0            0.0   \n",
       "\n",
       "    purpose_small_business  application_type_Individual  \\\n",
       "1                      0.0                          1.0   \n",
       "7                      0.0                          1.0   \n",
       "9                      0.0                          1.0   \n",
       "12                     0.0                          1.0   \n",
       "24                     0.0                          1.0   \n",
       "\n",
       "    application_type_Joint App  \n",
       "1                          0.0  \n",
       "7                          0.0  \n",
       "9                          0.0  \n",
       "12                         0.0  \n",
       "24                         0.0  "
      ],
      "text/html": "<div>\n<style scoped>\n    .dataframe tbody tr th:only-of-type {\n        vertical-align: middle;\n    }\n\n    .dataframe tbody tr th {\n        vertical-align: top;\n    }\n\n    .dataframe thead th {\n        text-align: right;\n    }\n</style>\n<table border=\"1\" class=\"dataframe\">\n  <thead>\n    <tr style=\"text-align: right;\">\n      <th></th>\n      <th>id</th>\n      <th>loan_amnt</th>\n      <th>term</th>\n      <th>interest_rate</th>\n      <th>grade</th>\n      <th>employment_length</th>\n      <th>credit_score</th>\n      <th>purpose_car</th>\n      <th>purpose_credit_card</th>\n      <th>purpose_debt_consolidation</th>\n      <th>purpose_home_improvement</th>\n      <th>purpose_house</th>\n      <th>purpose_major_purchase</th>\n      <th>purpose_medical</th>\n      <th>purpose_other</th>\n      <th>purpose_small_business</th>\n      <th>application_type_Individual</th>\n      <th>application_type_Joint App</th>\n    </tr>\n  </thead>\n  <tbody>\n    <tr>\n      <th>1</th>\n      <td>0.000000</td>\n      <td>0.242699</td>\n      <td>1.0</td>\n      <td>0.206435</td>\n      <td>0.172414</td>\n      <td>1.0</td>\n      <td>0.278140</td>\n      <td>0.0</td>\n      <td>1.0</td>\n      <td>0.0</td>\n      <td>0.0</td>\n      <td>0.0</td>\n      <td>0.0</td>\n      <td>0.0</td>\n      <td>0.0</td>\n      <td>0.0</td>\n      <td>1.0</td>\n      <td>0.0</td>\n    </tr>\n    <tr>\n      <th>7</th>\n      <td>0.000025</td>\n      <td>0.516423</td>\n      <td>1.0</td>\n      <td>0.814364</td>\n      <td>0.068966</td>\n      <td>1.0</td>\n      <td>0.008612</td>\n      <td>0.0</td>\n      <td>0.0</td>\n      <td>1.0</td>\n      <td>0.0</td>\n      <td>0.0</td>\n      <td>0.0</td>\n      <td>0.0</td>\n      <td>0.0</td>\n      <td>0.0</td>\n      <td>1.0</td>\n      <td>0.0</td>\n    </tr>\n    <tr>\n      <th>9</th>\n      <td>0.000033</td>\n      <td>0.106075</td>\n      <td>0.0</td>\n      <td>0.253206</td>\n      <td>0.275862</td>\n      <td>0.0</td>\n      <td>0.007425</td>\n      <td>0.0</td>\n      <td>1.0</td>\n      <td>0.0</td>\n      <td>0.0</td>\n      <td>0.0</td>\n      <td>0.0</td>\n      <td>0.0</td>\n      <td>0.0</td>\n      <td>0.0</td>\n      <td>1.0</td>\n      <td>0.0</td>\n    </tr>\n    <tr>\n      <th>12</th>\n      <td>0.000045</td>\n      <td>0.260113</td>\n      <td>0.0</td>\n      <td>0.597179</td>\n      <td>0.586207</td>\n      <td>0.0</td>\n      <td>0.009559</td>\n      <td>0.0</td>\n      <td>0.0</td>\n      <td>1.0</td>\n      <td>0.0</td>\n      <td>0.0</td>\n      <td>0.0</td>\n      <td>0.0</td>\n      <td>0.0</td>\n      <td>0.0</td>\n      <td>1.0</td>\n      <td>0.0</td>\n    </tr>\n    <tr>\n      <th>24</th>\n      <td>0.000095</td>\n      <td>0.553377</td>\n      <td>1.0</td>\n      <td>0.363311</td>\n      <td>0.482759</td>\n      <td>0.1</td>\n      <td>0.418657</td>\n      <td>0.0</td>\n      <td>1.0</td>\n      <td>0.0</td>\n      <td>0.0</td>\n      <td>0.0</td>\n      <td>0.0</td>\n      <td>0.0</td>\n      <td>0.0</td>\n      <td>0.0</td>\n      <td>1.0</td>\n      <td>0.0</td>\n    </tr>\n  </tbody>\n</table>\n</div>"
     },
     "metadata": {},
     "execution_count": 16
    }
   ],
   "source": [
    "X_train.head()"
   ]
  },
  {
   "cell_type": "code",
   "execution_count": 17,
   "metadata": {},
   "outputs": [],
   "source": [
    "# # ランダムフォレスト\n",
    "# # データ前処理\n",
    "# # データ分割\n",
    "# X = data.drop([\"id\", \"term\", \"grade\", \"employment_length\", \"purpose\", \"application_type\", \"loan_status\"], axis=1)\n",
    "# y_train = data[\"loan_status\"].values\n",
    "# # # Min-Maxスケーリング\n",
    "# X = ((X - X.min()) / (X.max() - X.min()))"
   ]
  },
  {
   "cell_type": "code",
   "execution_count": 18,
   "metadata": {},
   "outputs": [
    {
     "output_type": "stream",
     "name": "stdout",
     "text": [
      "    y  y_pred\n1   1       0\n7   1       1\n9   1       0\n12  1       1\n24  1       1\n"
     ]
    }
   ],
   "source": [
    "from sklearn.ensemble import RandomForestClassifier  # ランダムフォレストを実行するためのクラス\n",
    "# 学習\n",
    "RFC = RandomForestClassifier(max_depth=3, random_state=1)  # ランダムフォレストのインスタンスを作成\n",
    "RFC.fit(X_train, y_train)  # ランダムフォレストの学習\n",
    "\n",
    "# 分類結果の確認\n",
    "y_pred = RFC.predict(X_train)  # 分類結果\n",
    "print(pd.DataFrame({'y': y_train, 'y_pred': y_pred}).head())  # 実際のクラスと分類結果を上から5つだけ表示"
   ]
  },
  {
   "cell_type": "code",
   "execution_count": 19,
   "metadata": {},
   "outputs": [
    {
     "output_type": "stream",
     "name": "stdout",
     "text": [
      "正解率: 0.6392836906223439\n"
     ]
    }
   ],
   "source": [
    "# コード例2\n",
    "# モデルの精度（正解率）の確認\n",
    "print('正解率:', RFC.score(X_train, y_train))"
   ]
  },
  {
   "cell_type": "code",
   "execution_count": 20,
   "metadata": {},
   "outputs": [
    {
     "output_type": "stream",
     "name": "stdout",
     "text": [
      "[[16187 26169]\n [ 5594 36762]]\n"
     ]
    }
   ],
   "source": [
    "# 混同行列による評価\n",
    "y_proba = model.predict(X_train)\n",
    "y_pred = np.argmax(y_proba, axis=1)\n",
    "confmat = confusion_matrix(y_train, y_pred)\n",
    "print(confmat)"
   ]
  },
  {
   "cell_type": "code",
   "execution_count": 21,
   "metadata": {},
   "outputs": [],
   "source": [
    "# history.history[\"val_accuracy\"]\n",
    "np.savetxt(\"C:\\work\\AI\\hoge.dat\", y_pred)"
   ]
  },
  {
   "cell_type": "code",
   "execution_count": 22,
   "metadata": {},
   "outputs": [],
   "source": [
    "# # データ前処理\n",
    "\n",
    "# data_test = pd.read_csv(\"test.csv\")\n",
    "# # 事前処理\n",
    "# X_train, X_test, y_train, y_test = pre_process(data_test)\n",
    "# data_test_oh.head()"
   ]
  },
  {
   "cell_type": "code",
   "execution_count": 23,
   "metadata": {},
   "outputs": [
    {
     "output_type": "execute_result",
     "data": {
      "text/plain": [
       "          id  loan_amnt  term  interest_rate     grade  employment_length  \\\n",
       "1   0.000000   0.242699   1.0       0.206435  0.172414                1.0   \n",
       "7   0.000025   0.516423   1.0       0.814364  0.068966                1.0   \n",
       "9   0.000033   0.106075   0.0       0.253206  0.275862                0.0   \n",
       "12  0.000045   0.260113   0.0       0.597179  0.586207                0.0   \n",
       "24  0.000095   0.553377   1.0       0.363311  0.482759                0.1   \n",
       "\n",
       "    credit_score  purpose_car  purpose_credit_card  \\\n",
       "1       0.278140          0.0                  1.0   \n",
       "7       0.008612          0.0                  0.0   \n",
       "9       0.007425          0.0                  1.0   \n",
       "12      0.009559          0.0                  0.0   \n",
       "24      0.418657          0.0                  1.0   \n",
       "\n",
       "    purpose_debt_consolidation  purpose_home_improvement  purpose_house  \\\n",
       "1                          0.0                       0.0            0.0   \n",
       "7                          1.0                       0.0            0.0   \n",
       "9                          0.0                       0.0            0.0   \n",
       "12                         1.0                       0.0            0.0   \n",
       "24                         0.0                       0.0            0.0   \n",
       "\n",
       "    purpose_major_purchase  purpose_medical  purpose_other  \\\n",
       "1                      0.0              0.0            0.0   \n",
       "7                      0.0              0.0            0.0   \n",
       "9                      0.0              0.0            0.0   \n",
       "12                     0.0              0.0            0.0   \n",
       "24                     0.0              0.0            0.0   \n",
       "\n",
       "    purpose_small_business  application_type_Individual  \\\n",
       "1                      0.0                          1.0   \n",
       "7                      0.0                          1.0   \n",
       "9                      0.0                          1.0   \n",
       "12                     0.0                          1.0   \n",
       "24                     0.0                          1.0   \n",
       "\n",
       "    application_type_Joint App  \n",
       "1                          0.0  \n",
       "7                          0.0  \n",
       "9                          0.0  \n",
       "12                         0.0  \n",
       "24                         0.0  "
      ],
      "text/html": "<div>\n<style scoped>\n    .dataframe tbody tr th:only-of-type {\n        vertical-align: middle;\n    }\n\n    .dataframe tbody tr th {\n        vertical-align: top;\n    }\n\n    .dataframe thead th {\n        text-align: right;\n    }\n</style>\n<table border=\"1\" class=\"dataframe\">\n  <thead>\n    <tr style=\"text-align: right;\">\n      <th></th>\n      <th>id</th>\n      <th>loan_amnt</th>\n      <th>term</th>\n      <th>interest_rate</th>\n      <th>grade</th>\n      <th>employment_length</th>\n      <th>credit_score</th>\n      <th>purpose_car</th>\n      <th>purpose_credit_card</th>\n      <th>purpose_debt_consolidation</th>\n      <th>purpose_home_improvement</th>\n      <th>purpose_house</th>\n      <th>purpose_major_purchase</th>\n      <th>purpose_medical</th>\n      <th>purpose_other</th>\n      <th>purpose_small_business</th>\n      <th>application_type_Individual</th>\n      <th>application_type_Joint App</th>\n    </tr>\n  </thead>\n  <tbody>\n    <tr>\n      <th>1</th>\n      <td>0.000000</td>\n      <td>0.242699</td>\n      <td>1.0</td>\n      <td>0.206435</td>\n      <td>0.172414</td>\n      <td>1.0</td>\n      <td>0.278140</td>\n      <td>0.0</td>\n      <td>1.0</td>\n      <td>0.0</td>\n      <td>0.0</td>\n      <td>0.0</td>\n      <td>0.0</td>\n      <td>0.0</td>\n      <td>0.0</td>\n      <td>0.0</td>\n      <td>1.0</td>\n      <td>0.0</td>\n    </tr>\n    <tr>\n      <th>7</th>\n      <td>0.000025</td>\n      <td>0.516423</td>\n      <td>1.0</td>\n      <td>0.814364</td>\n      <td>0.068966</td>\n      <td>1.0</td>\n      <td>0.008612</td>\n      <td>0.0</td>\n      <td>0.0</td>\n      <td>1.0</td>\n      <td>0.0</td>\n      <td>0.0</td>\n      <td>0.0</td>\n      <td>0.0</td>\n      <td>0.0</td>\n      <td>0.0</td>\n      <td>1.0</td>\n      <td>0.0</td>\n    </tr>\n    <tr>\n      <th>9</th>\n      <td>0.000033</td>\n      <td>0.106075</td>\n      <td>0.0</td>\n      <td>0.253206</td>\n      <td>0.275862</td>\n      <td>0.0</td>\n      <td>0.007425</td>\n      <td>0.0</td>\n      <td>1.0</td>\n      <td>0.0</td>\n      <td>0.0</td>\n      <td>0.0</td>\n      <td>0.0</td>\n      <td>0.0</td>\n      <td>0.0</td>\n      <td>0.0</td>\n      <td>1.0</td>\n      <td>0.0</td>\n    </tr>\n    <tr>\n      <th>12</th>\n      <td>0.000045</td>\n      <td>0.260113</td>\n      <td>0.0</td>\n      <td>0.597179</td>\n      <td>0.586207</td>\n      <td>0.0</td>\n      <td>0.009559</td>\n      <td>0.0</td>\n      <td>0.0</td>\n      <td>1.0</td>\n      <td>0.0</td>\n      <td>0.0</td>\n      <td>0.0</td>\n      <td>0.0</td>\n      <td>0.0</td>\n      <td>0.0</td>\n      <td>1.0</td>\n      <td>0.0</td>\n    </tr>\n    <tr>\n      <th>24</th>\n      <td>0.000095</td>\n      <td>0.553377</td>\n      <td>1.0</td>\n      <td>0.363311</td>\n      <td>0.482759</td>\n      <td>0.1</td>\n      <td>0.418657</td>\n      <td>0.0</td>\n      <td>1.0</td>\n      <td>0.0</td>\n      <td>0.0</td>\n      <td>0.0</td>\n      <td>0.0</td>\n      <td>0.0</td>\n      <td>0.0</td>\n      <td>0.0</td>\n      <td>1.0</td>\n      <td>0.0</td>\n    </tr>\n  </tbody>\n</table>\n</div>"
     },
     "metadata": {},
     "execution_count": 23
    }
   ],
   "source": [
    "X_train.head()"
   ]
  },
  {
   "cell_type": "code",
   "execution_count": null,
   "metadata": {},
   "outputs": [],
   "source": []
  }
 ]
}