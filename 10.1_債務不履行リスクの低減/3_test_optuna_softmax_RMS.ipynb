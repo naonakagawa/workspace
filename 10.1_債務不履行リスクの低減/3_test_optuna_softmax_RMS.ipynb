{
 "metadata": {
  "language_info": {
   "codemirror_mode": {
    "name": "ipython",
    "version": 3
   },
   "file_extension": ".py",
   "mimetype": "text/x-python",
   "name": "python",
   "nbconvert_exporter": "python",
   "pygments_lexer": "ipython3",
   "version": "3.7.6-final"
  },
  "orig_nbformat": 2,
  "kernelspec": {
   "name": "Python 3.7.6 64-bit ('base': conda)",
   "display_name": "Python 3.7.6 64-bit ('base': conda)",
   "metadata": {
    "interpreter": {
     "hash": "b3ba2566441a7c06988d0923437866b63cedc61552a5af99d1f4fb67d367b25f"
    }
   }
  }
 },
 "nbformat": 4,
 "nbformat_minor": 2,
 "cells": [
  {
   "cell_type": "code",
   "execution_count": 69,
   "metadata": {},
   "outputs": [
    {
     "output_type": "execute_result",
     "data": {
      "text/plain": [
       "   id    loan_amnt     term  interest_rate grade employment_length  \\\n",
       "0   0   609.296068  3 years       8.421982    A5           0 years   \n",
       "1   1  1183.266999  5 years      10.286776    B1          10 years   \n",
       "2   2   695.783256  3 years      14.723425    C2            1 year   \n",
       "3   3   738.392546  3 years      14.260708    C1           0 years   \n",
       "4   4  1642.400654  5 years      25.217452    E5          10 years   \n",
       "\n",
       "              purpose  credit_score application_type loan_status  \n",
       "0  debt_consolidation    714.061803       Individual   FullyPaid  \n",
       "1         credit_card    697.706701       Individual  ChargedOff  \n",
       "2  debt_consolidation    656.419357       Individual   FullyPaid  \n",
       "3         credit_card    657.906852       Individual   FullyPaid  \n",
       "4  debt_consolidation    662.972297       Individual   FullyPaid  "
      ],
      "text/html": "<div>\n<style scoped>\n    .dataframe tbody tr th:only-of-type {\n        vertical-align: middle;\n    }\n\n    .dataframe tbody tr th {\n        vertical-align: top;\n    }\n\n    .dataframe thead th {\n        text-align: right;\n    }\n</style>\n<table border=\"1\" class=\"dataframe\">\n  <thead>\n    <tr style=\"text-align: right;\">\n      <th></th>\n      <th>id</th>\n      <th>loan_amnt</th>\n      <th>term</th>\n      <th>interest_rate</th>\n      <th>grade</th>\n      <th>employment_length</th>\n      <th>purpose</th>\n      <th>credit_score</th>\n      <th>application_type</th>\n      <th>loan_status</th>\n    </tr>\n  </thead>\n  <tbody>\n    <tr>\n      <th>0</th>\n      <td>0</td>\n      <td>609.296068</td>\n      <td>3 years</td>\n      <td>8.421982</td>\n      <td>A5</td>\n      <td>0 years</td>\n      <td>debt_consolidation</td>\n      <td>714.061803</td>\n      <td>Individual</td>\n      <td>FullyPaid</td>\n    </tr>\n    <tr>\n      <th>1</th>\n      <td>1</td>\n      <td>1183.266999</td>\n      <td>5 years</td>\n      <td>10.286776</td>\n      <td>B1</td>\n      <td>10 years</td>\n      <td>credit_card</td>\n      <td>697.706701</td>\n      <td>Individual</td>\n      <td>ChargedOff</td>\n    </tr>\n    <tr>\n      <th>2</th>\n      <td>2</td>\n      <td>695.783256</td>\n      <td>3 years</td>\n      <td>14.723425</td>\n      <td>C2</td>\n      <td>1 year</td>\n      <td>debt_consolidation</td>\n      <td>656.419357</td>\n      <td>Individual</td>\n      <td>FullyPaid</td>\n    </tr>\n    <tr>\n      <th>3</th>\n      <td>3</td>\n      <td>738.392546</td>\n      <td>3 years</td>\n      <td>14.260708</td>\n      <td>C1</td>\n      <td>0 years</td>\n      <td>credit_card</td>\n      <td>657.906852</td>\n      <td>Individual</td>\n      <td>FullyPaid</td>\n    </tr>\n    <tr>\n      <th>4</th>\n      <td>4</td>\n      <td>1642.400654</td>\n      <td>5 years</td>\n      <td>25.217452</td>\n      <td>E5</td>\n      <td>10 years</td>\n      <td>debt_consolidation</td>\n      <td>662.972297</td>\n      <td>Individual</td>\n      <td>FullyPaid</td>\n    </tr>\n  </tbody>\n</table>\n</div>"
     },
     "metadata": {},
     "execution_count": 69
    }
   ],
   "source": [
    "# Chapter1\n",
    "# NN構築試行\n",
    "import numpy as np\n",
    "import pandas as pd\n",
    "import tensorflow as tf\n",
    "from sklearn.model_selection import train_test_split\n",
    "from sklearn.metrics import confusion_matrix, accuracy_score  # モデルの評価を行うための関数\n",
    "from keras import metrics\n",
    "# 学習データ読み込み\n",
    "data = pd.read_csv(\"train.csv\")\n",
    "data.head()"
   ]
  },
  {
   "cell_type": "code",
   "execution_count": 70,
   "metadata": {},
   "outputs": [],
   "source": [
    "# # Chapter2\n",
    "# 学習の再現を行うために乱数シードを固定するためのコード\n",
    "import os\n",
    "import random as rn\n",
    "from tensorflow.compat.v1.keras import backend as K\n",
    "\n",
    "os.environ['PYTHONHASHSEED'] = '0'\n",
    "np.random.seed(0)\n",
    "rn.seed(0)\n",
    "\n",
    "tf.compat.v1.set_random_seed(0)\n",
    "sess = tf.compat.v1.Session(graph=tf.compat.v1.get_default_graph())\n",
    "K.set_session(sess)\n",
    "\n",
    "pd.set_option(\"max_columns\", None)\n",
    "pd.set_option('max_rows', None)"
   ]
  },
  {
   "cell_type": "code",
   "execution_count": 71,
   "metadata": {},
   "outputs": [],
   "source": [
    "# print(\"デフォルトした人:\", len(data[data[\"loan_status\"]==\"ChargedOff\"]))\n",
    "# print(\"デフォルトしていない人:\", len(data[data[\"loan_status\"]==\"FullyPaid\"]))"
   ]
  },
  {
   "cell_type": "code",
   "execution_count": 72,
   "metadata": {},
   "outputs": [],
   "source": [
    "#Down Dampling\n",
    "Train1 = data.where(data[\"loan_status\"] == \"ChargedOff\").dropna()\n",
    "Train2 = data.where(data[\"loan_status\"] == \"FullyPaid\").dropna()\n",
    "Train3 = Train2.sample(n=len(Train1), random_state=0)\n",
    "TrainData = pd.concat([Train1, Train3])"
   ]
  },
  {
   "cell_type": "code",
   "execution_count": 73,
   "metadata": {},
   "outputs": [],
   "source": [
    "TrainData.shape\n",
    "data = TrainData"
   ]
  },
  {
   "cell_type": "code",
   "execution_count": 74,
   "metadata": {},
   "outputs": [
    {
     "output_type": "execute_result",
     "data": {
      "text/plain": [
       "      id    loan_amnt     term  interest_rate grade employment_length  \\\n",
       "1    1.0  1183.266999  5 years      10.286776    B1          10 years   \n",
       "7    7.0  2147.822844  5 years      23.738449    A3          10 years   \n",
       "9    9.0   701.824350  3 years      11.321683    B4           0 years   \n",
       "12  12.0  1244.631171  3 years      18.932798    D3           0 years   \n",
       "24  24.0  2278.044730  5 years      13.757983    C5            1 year   \n",
       "\n",
       "               purpose  credit_score application_type loan_status  \n",
       "1          credit_card    697.706701       Individual  ChargedOff  \n",
       "7   debt_consolidation    656.789397       Individual  ChargedOff  \n",
       "9          credit_card    656.609116       Individual  ChargedOff  \n",
       "12  debt_consolidation    656.933143       Individual  ChargedOff  \n",
       "24         credit_card    719.038856       Individual  ChargedOff  "
      ],
      "text/html": "<div>\n<style scoped>\n    .dataframe tbody tr th:only-of-type {\n        vertical-align: middle;\n    }\n\n    .dataframe tbody tr th {\n        vertical-align: top;\n    }\n\n    .dataframe thead th {\n        text-align: right;\n    }\n</style>\n<table border=\"1\" class=\"dataframe\">\n  <thead>\n    <tr style=\"text-align: right;\">\n      <th></th>\n      <th>id</th>\n      <th>loan_amnt</th>\n      <th>term</th>\n      <th>interest_rate</th>\n      <th>grade</th>\n      <th>employment_length</th>\n      <th>purpose</th>\n      <th>credit_score</th>\n      <th>application_type</th>\n      <th>loan_status</th>\n    </tr>\n  </thead>\n  <tbody>\n    <tr>\n      <th>1</th>\n      <td>1.0</td>\n      <td>1183.266999</td>\n      <td>5 years</td>\n      <td>10.286776</td>\n      <td>B1</td>\n      <td>10 years</td>\n      <td>credit_card</td>\n      <td>697.706701</td>\n      <td>Individual</td>\n      <td>ChargedOff</td>\n    </tr>\n    <tr>\n      <th>7</th>\n      <td>7.0</td>\n      <td>2147.822844</td>\n      <td>5 years</td>\n      <td>23.738449</td>\n      <td>A3</td>\n      <td>10 years</td>\n      <td>debt_consolidation</td>\n      <td>656.789397</td>\n      <td>Individual</td>\n      <td>ChargedOff</td>\n    </tr>\n    <tr>\n      <th>9</th>\n      <td>9.0</td>\n      <td>701.824350</td>\n      <td>3 years</td>\n      <td>11.321683</td>\n      <td>B4</td>\n      <td>0 years</td>\n      <td>credit_card</td>\n      <td>656.609116</td>\n      <td>Individual</td>\n      <td>ChargedOff</td>\n    </tr>\n    <tr>\n      <th>12</th>\n      <td>12.0</td>\n      <td>1244.631171</td>\n      <td>3 years</td>\n      <td>18.932798</td>\n      <td>D3</td>\n      <td>0 years</td>\n      <td>debt_consolidation</td>\n      <td>656.933143</td>\n      <td>Individual</td>\n      <td>ChargedOff</td>\n    </tr>\n    <tr>\n      <th>24</th>\n      <td>24.0</td>\n      <td>2278.044730</td>\n      <td>5 years</td>\n      <td>13.757983</td>\n      <td>C5</td>\n      <td>1 year</td>\n      <td>credit_card</td>\n      <td>719.038856</td>\n      <td>Individual</td>\n      <td>ChargedOff</td>\n    </tr>\n  </tbody>\n</table>\n</div>"
     },
     "metadata": {},
     "execution_count": 74
    }
   ],
   "source": [
    "data.head()"
   ]
  },
  {
   "cell_type": "code",
   "execution_count": 75,
   "metadata": {},
   "outputs": [],
   "source": [
    "# Chapter3\n",
    "# def pre_process(input_data):\n",
    "# データ前処理\n",
    "# One-Hotエンコーディング\n",
    "# pre_X = input_data.drop([\"loan_status\", \"id\"], axis=1).replace({\n",
    "pre_X = data.drop([\"loan_status\",\"id\"], axis=1).replace({\n",
    "    \"A1\": 1, \"A2\": 2, \"A3\": 3, \"A4\": 4, \"A5\": 5,\n",
    "    \"B1\": 6, \"B2\": 7, \"B3\": 8, \"B4\": 9, \"B5\": 10,\n",
    "    \"C1\": 11, \"C2\": 12, \"C3\": 13, \"C4\": 14, \"C5\": 15,\n",
    "    \"D1\": 16, \"D2\": 17, \"D3\": 18, \"D4\": 19, \"D5\": 20,\n",
    "    \"E1\": 21, \"E2\": 22, \"E3\": 23, \"E4\": 24, \"E5\": 25,\n",
    "    \"F1\": 26, \"F2\": 27, \"F3\": 28, \"F4\": 29, \"F5\": 30,\n",
    "    \"0 year\": 0, \"0 years\": 0, \"1 years\": 1, \"1 year\": 1, \"2 years\": 2, \"3 years\": 3, \"4 years\": 4, \"5 years\": 5,\n",
    "    \"6 years\": 6, \"7 years\": 7, \"8 years\": 8, \"9 years\": 9, \"10 years\": 10,\n",
    "    \"Individual\": 1, \"Joint App\": 0,\n",
    "    \"purpose_car\": 0,\"purpose_credit_card\": 1,\"purpose_debt_consolidation\": 1,\"purpose_home_improvement\": 0,\"purpose_house\": 0,\"purpose_major_purchase\": 0,\"purpose_medical\": 0,\"purpose_other\": 0,\"purpose_small_business\": 0,\n",
    "}).astype({\n",
    "    \"term\": \"int8\",\n",
    "    \"grade\": \"int8\",\n",
    "    \"employment_length\": \"int8\",\n",
    "    \"application_type\": \"int8\",\n",
    "})\n",
    "pre_y = data[\"loan_status\"]\n",
    "X = pd.get_dummies(pre_X)\n",
    "y = pre_y.replace({\"ChargedOff\": 1, \"FullyPaid\": 0})\n",
    "# pre_X_train, pre_X_test = train_test_split(X, test_size=0.1, shuffle=False)\n",
    "# y_train, y_test = train_test_split(y, test_size=0.1, shuffle=False)\n",
    "\n",
    "# X_train = X\n",
    "# X_test = X\n",
    "y_train = y\n",
    "y_test = y\n",
    "\n",
    "# 加工が終わった時点でCSVに出すと、ほかのモデルでの使いまわしがきく。\n",
    "# # Min-Maxスケーリング\n",
    "# X_train = ((pre_X_train - pre_X_train.min()) / (pre_X_train.max() - pre_X_train.min()))\n",
    "pre_X_train = ((X - X.min()) / (X.max() - X.min()))\n",
    "# X_train = pre_X_train\n",
    "# # Min-Maxスケーリング\n",
    "# X_test = ((pre_X_test - pre_X_test.min()) / (pre_X_test.max() - pre_X_test.min()))\n",
    "pre_X_test = ((X - X.min()) / (X.max() - X.min()))\n",
    "# X_test = pre_X_test\n",
    "    # return X_train, X_test, y_train, y_test\n",
    "# X_train, X_test, y_train, y_test = pre_process(data)"
   ]
  },
  {
   "cell_type": "code",
   "execution_count": 76,
   "metadata": {},
   "outputs": [
    {
     "output_type": "execute_result",
     "data": {
      "text/plain": [
       "    loan_amnt  term  interest_rate     grade  employment_length  credit_score  \\\n",
       "1    0.242699   1.0       0.206435  0.172414                1.0      0.278140   \n",
       "7    0.516423   1.0       0.814364  0.068966                1.0      0.008612   \n",
       "9    0.106075   0.0       0.253206  0.275862                0.0      0.007425   \n",
       "12   0.260113   0.0       0.597179  0.586207                0.0      0.009559   \n",
       "24   0.553377   1.0       0.363311  0.482759                0.1      0.418657   \n",
       "\n",
       "    application_type  purpose_car  purpose_credit_card  \\\n",
       "1                1.0          0.0                  1.0   \n",
       "7                1.0          0.0                  0.0   \n",
       "9                1.0          0.0                  1.0   \n",
       "12               1.0          0.0                  0.0   \n",
       "24               1.0          0.0                  1.0   \n",
       "\n",
       "    purpose_debt_consolidation  purpose_home_improvement  purpose_house  \\\n",
       "1                          0.0                       0.0            0.0   \n",
       "7                          1.0                       0.0            0.0   \n",
       "9                          0.0                       0.0            0.0   \n",
       "12                         1.0                       0.0            0.0   \n",
       "24                         0.0                       0.0            0.0   \n",
       "\n",
       "    purpose_major_purchase  purpose_medical  purpose_other  \\\n",
       "1                      0.0              0.0            0.0   \n",
       "7                      0.0              0.0            0.0   \n",
       "9                      0.0              0.0            0.0   \n",
       "12                     0.0              0.0            0.0   \n",
       "24                     0.0              0.0            0.0   \n",
       "\n",
       "    purpose_small_business  \n",
       "1                      0.0  \n",
       "7                      0.0  \n",
       "9                      0.0  \n",
       "12                     0.0  \n",
       "24                     0.0  "
      ],
      "text/html": "<div>\n<style scoped>\n    .dataframe tbody tr th:only-of-type {\n        vertical-align: middle;\n    }\n\n    .dataframe tbody tr th {\n        vertical-align: top;\n    }\n\n    .dataframe thead th {\n        text-align: right;\n    }\n</style>\n<table border=\"1\" class=\"dataframe\">\n  <thead>\n    <tr style=\"text-align: right;\">\n      <th></th>\n      <th>loan_amnt</th>\n      <th>term</th>\n      <th>interest_rate</th>\n      <th>grade</th>\n      <th>employment_length</th>\n      <th>credit_score</th>\n      <th>application_type</th>\n      <th>purpose_car</th>\n      <th>purpose_credit_card</th>\n      <th>purpose_debt_consolidation</th>\n      <th>purpose_home_improvement</th>\n      <th>purpose_house</th>\n      <th>purpose_major_purchase</th>\n      <th>purpose_medical</th>\n      <th>purpose_other</th>\n      <th>purpose_small_business</th>\n    </tr>\n  </thead>\n  <tbody>\n    <tr>\n      <th>1</th>\n      <td>0.242699</td>\n      <td>1.0</td>\n      <td>0.206435</td>\n      <td>0.172414</td>\n      <td>1.0</td>\n      <td>0.278140</td>\n      <td>1.0</td>\n      <td>0.0</td>\n      <td>1.0</td>\n      <td>0.0</td>\n      <td>0.0</td>\n      <td>0.0</td>\n      <td>0.0</td>\n      <td>0.0</td>\n      <td>0.0</td>\n      <td>0.0</td>\n    </tr>\n    <tr>\n      <th>7</th>\n      <td>0.516423</td>\n      <td>1.0</td>\n      <td>0.814364</td>\n      <td>0.068966</td>\n      <td>1.0</td>\n      <td>0.008612</td>\n      <td>1.0</td>\n      <td>0.0</td>\n      <td>0.0</td>\n      <td>1.0</td>\n      <td>0.0</td>\n      <td>0.0</td>\n      <td>0.0</td>\n      <td>0.0</td>\n      <td>0.0</td>\n      <td>0.0</td>\n    </tr>\n    <tr>\n      <th>9</th>\n      <td>0.106075</td>\n      <td>0.0</td>\n      <td>0.253206</td>\n      <td>0.275862</td>\n      <td>0.0</td>\n      <td>0.007425</td>\n      <td>1.0</td>\n      <td>0.0</td>\n      <td>1.0</td>\n      <td>0.0</td>\n      <td>0.0</td>\n      <td>0.0</td>\n      <td>0.0</td>\n      <td>0.0</td>\n      <td>0.0</td>\n      <td>0.0</td>\n    </tr>\n    <tr>\n      <th>12</th>\n      <td>0.260113</td>\n      <td>0.0</td>\n      <td>0.597179</td>\n      <td>0.586207</td>\n      <td>0.0</td>\n      <td>0.009559</td>\n      <td>1.0</td>\n      <td>0.0</td>\n      <td>0.0</td>\n      <td>1.0</td>\n      <td>0.0</td>\n      <td>0.0</td>\n      <td>0.0</td>\n      <td>0.0</td>\n      <td>0.0</td>\n      <td>0.0</td>\n    </tr>\n    <tr>\n      <th>24</th>\n      <td>0.553377</td>\n      <td>1.0</td>\n      <td>0.363311</td>\n      <td>0.482759</td>\n      <td>0.1</td>\n      <td>0.418657</td>\n      <td>1.0</td>\n      <td>0.0</td>\n      <td>1.0</td>\n      <td>0.0</td>\n      <td>0.0</td>\n      <td>0.0</td>\n      <td>0.0</td>\n      <td>0.0</td>\n      <td>0.0</td>\n      <td>0.0</td>\n    </tr>\n  </tbody>\n</table>\n</div>"
     },
     "metadata": {},
     "execution_count": 76
    }
   ],
   "source": [
    "pre_X_train.head()"
   ]
  },
  {
   "cell_type": "code",
   "execution_count": 77,
   "metadata": {},
   "outputs": [],
   "source": [
    "pre_X_train = pre_X_train.astype(\"float32\")\n",
    "X_train = pre_X_train.drop([\"purpose_home_improvement\", \"purpose_house\", \"purpose_major_purchase\", \"purpose_medical\", \"purpose_other\", \"purpose_small_business\", \"purpose_car\",\"purpose_credit_card\"], axis=1).astype({\n",
    "    \"term\": \"int8\",\n",
    "    \"grade\": \"int8\",\n",
    "    \"employment_length\": \"int8\",\n",
    "    \"application_type\": \"int8\",\n",
    "    \"purpose_debt_consolidation\": \"int8\",\n",
    "})\n",
    "X_test = X_train"
   ]
  },
  {
   "cell_type": "code",
   "execution_count": 78,
   "metadata": {},
   "outputs": [
    {
     "output_type": "stream",
     "name": "stdout",
     "text": [
      "訓練データの特徴量 (84712, 8)\n",
      "訓練データのターゲット (84712,)\n"
     ]
    }
   ],
   "source": [
    "print(\"訓練データの特徴量\", X_train.shape)\n",
    "print(\"訓練データのターゲット\", y_train.shape)\n"
   ]
  },
  {
   "cell_type": "code",
   "execution_count": 79,
   "metadata": {},
   "outputs": [],
   "source": [
    "from tensorflow import keras  # Keras\n",
    "from tensorflow.keras.layers import Dense, LSTM, Dropout\n",
    "from tensorflow.keras.metrics import binary_accuracy, Accuracy\n",
    "from tensorflow.keras.layers import SimpleRNN\n",
    "import optuna\n",
    "\n",
    "\n",
    "def create_model(units1, units2):\n",
    "    keras.backend.clear_session()\n",
    "    # Keras以外を利用するのも一つの手段。\n",
    "    model = keras.models.Sequential()\n",
    "    model.add(Dense(units=units1, activation=tf.nn.relu)) \n",
    "    # model.add(Dropout(0.5))\n",
    "    model.add(keras.layers.BatchNormalization())  # バッチ正規化層\n",
    "    model.add(Dense(units=units2, activation=tf.nn.relu)) \n",
    "    # model.add(Dropout(0.5))\n",
    "    model.add(keras.layers.BatchNormalization())  # バッチ正規化層\n",
    "    model.add(Dense(units=1, activation=\"sigmoid\"))  # 出力層（活性化関数はソフトマックス関数）\n",
    "    model.compile(optimizer = keras.optimizers.RMSprop(lr=0.001),\n",
    "           loss=\"binary_crossentropy\",\n",
    "            metrics=\"accuracy\")\n",
    "         #    f1scoreにするのがよい\n",
    "\n",
    "    return model\n",
    "\n",
    "def objective(trial):\n",
    "    keras.backend.clear_session()\n",
    "    # 調整したいハイパーパラメータの設定\n",
    "    # n_layer = trial.suggest_int('n_layer', 1, 2) # 追加する層を1-3から選ぶ\n",
    "    units1 = int(trial.suggest_discrete_uniform('units1', 100, 500, 1)) # ユニット数\n",
    "    units2 = int(trial.suggest_discrete_uniform('units2', 100, 500, 1)) # ユニット数\n",
    "    epochs = int(trial.suggest_discrete_uniform('epochs', 3000, 3100, 10)) # ユニット数\n",
    "\n",
    "    model = create_model(units1, units2)\n",
    "\n",
    "        # (5)学習を実行してください\n",
    "    es_cb = keras.callbacks.EarlyStopping(monitor = \"val_loss\", patience = 3)\n",
    "    history = model.fit(x = X_train,\n",
    "        y = y_train,\n",
    "        batch_size = 1024, # バッチサイズ\n",
    "        # epochs = 100, # エポック数\n",
    "        epochs = epochs, # エポック数\n",
    "        validation_split = 0.2, # 検証データの割合\n",
    "        # callbacks = [es_cb], # 早期終了の設定\n",
    "        verbose = 0) # 進捗の確認を行うか（0:行わない, 1:行う）\n",
    "\n",
    "    # return history.history[\"loss\"][-1]\n",
    "    # return history.history[\"val_loss\"][-1]\n",
    "    # return 1 - history.history[\"accuracy\"][-1]\n",
    "    return 1 - history.history[\"val_accuracy\"][-1]\n",
    "\n"
   ]
  },
  {
   "cell_type": "code",
   "execution_count": 80,
   "metadata": {
    "tags": []
   },
   "outputs": [
    {
     "output_type": "error",
     "ename": "KeyboardInterrupt",
     "evalue": "",
     "traceback": [
      "\u001b[1;31m---------------------------------------------------------------------------\u001b[0m",
      "\u001b[1;31mKeyboardInterrupt\u001b[0m                         Traceback (most recent call last)",
      "\u001b[1;32m<ipython-input-80-59dfbea0c2b8>\u001b[0m in \u001b[0;36m<module>\u001b[1;34m\u001b[0m\n\u001b[0;32m      1\u001b[0m \u001b[0mstudy\u001b[0m \u001b[1;33m=\u001b[0m \u001b[0moptuna\u001b[0m\u001b[1;33m.\u001b[0m\u001b[0mcreate_study\u001b[0m\u001b[1;33m(\u001b[0m\u001b[1;33m)\u001b[0m\u001b[1;33m\u001b[0m\u001b[1;33m\u001b[0m\u001b[0m\n\u001b[1;32m----> 2\u001b[1;33m \u001b[0mstudy\u001b[0m\u001b[1;33m.\u001b[0m\u001b[0moptimize\u001b[0m\u001b[1;33m(\u001b[0m\u001b[0mobjective\u001b[0m\u001b[1;33m,\u001b[0m \u001b[0mn_trials\u001b[0m\u001b[1;33m=\u001b[0m\u001b[1;36m1\u001b[0m\u001b[1;33m)\u001b[0m\u001b[1;33m\u001b[0m\u001b[1;33m\u001b[0m\u001b[0m\n\u001b[0m",
      "\u001b[1;32mC:\\ProgramData\\Anaconda3\\lib\\site-packages\\optuna\\study.py\u001b[0m in \u001b[0;36moptimize\u001b[1;34m(self, func, n_trials, timeout, n_jobs, catch, callbacks, gc_after_trial, show_progress_bar)\u001b[0m\n\u001b[0;32m    290\u001b[0m             \u001b[1;32mif\u001b[0m \u001b[0mn_jobs\u001b[0m \u001b[1;33m==\u001b[0m \u001b[1;36m1\u001b[0m\u001b[1;33m:\u001b[0m\u001b[1;33m\u001b[0m\u001b[1;33m\u001b[0m\u001b[0m\n\u001b[0;32m    291\u001b[0m                 self._optimize_sequential(\n\u001b[1;32m--> 292\u001b[1;33m                     \u001b[0mfunc\u001b[0m\u001b[1;33m,\u001b[0m \u001b[0mn_trials\u001b[0m\u001b[1;33m,\u001b[0m \u001b[0mtimeout\u001b[0m\u001b[1;33m,\u001b[0m \u001b[0mcatch\u001b[0m\u001b[1;33m,\u001b[0m \u001b[0mcallbacks\u001b[0m\u001b[1;33m,\u001b[0m \u001b[0mgc_after_trial\u001b[0m\u001b[1;33m,\u001b[0m \u001b[1;32mNone\u001b[0m\u001b[1;33m\u001b[0m\u001b[1;33m\u001b[0m\u001b[0m\n\u001b[0m\u001b[0;32m    293\u001b[0m                 )\n\u001b[0;32m    294\u001b[0m             \u001b[1;32melse\u001b[0m\u001b[1;33m:\u001b[0m\u001b[1;33m\u001b[0m\u001b[1;33m\u001b[0m\u001b[0m\n",
      "\u001b[1;32mC:\\ProgramData\\Anaconda3\\lib\\site-packages\\optuna\\study.py\u001b[0m in \u001b[0;36m_optimize_sequential\u001b[1;34m(self, func, n_trials, timeout, catch, callbacks, gc_after_trial, time_start)\u001b[0m\n\u001b[0;32m    652\u001b[0m                     \u001b[1;32mbreak\u001b[0m\u001b[1;33m\u001b[0m\u001b[1;33m\u001b[0m\u001b[0m\n\u001b[0;32m    653\u001b[0m \u001b[1;33m\u001b[0m\u001b[0m\n\u001b[1;32m--> 654\u001b[1;33m             \u001b[0mself\u001b[0m\u001b[1;33m.\u001b[0m\u001b[0m_run_trial_and_callbacks\u001b[0m\u001b[1;33m(\u001b[0m\u001b[0mfunc\u001b[0m\u001b[1;33m,\u001b[0m \u001b[0mcatch\u001b[0m\u001b[1;33m,\u001b[0m \u001b[0mcallbacks\u001b[0m\u001b[1;33m,\u001b[0m \u001b[0mgc_after_trial\u001b[0m\u001b[1;33m)\u001b[0m\u001b[1;33m\u001b[0m\u001b[1;33m\u001b[0m\u001b[0m\n\u001b[0m\u001b[0;32m    655\u001b[0m \u001b[1;33m\u001b[0m\u001b[0m\n\u001b[0;32m    656\u001b[0m             \u001b[0mself\u001b[0m\u001b[1;33m.\u001b[0m\u001b[0m_progress_bar\u001b[0m\u001b[1;33m.\u001b[0m\u001b[0mupdate\u001b[0m\u001b[1;33m(\u001b[0m\u001b[1;33m(\u001b[0m\u001b[0mdatetime\u001b[0m\u001b[1;33m.\u001b[0m\u001b[0mdatetime\u001b[0m\u001b[1;33m.\u001b[0m\u001b[0mnow\u001b[0m\u001b[1;33m(\u001b[0m\u001b[1;33m)\u001b[0m \u001b[1;33m-\u001b[0m \u001b[0mtime_start\u001b[0m\u001b[1;33m)\u001b[0m\u001b[1;33m.\u001b[0m\u001b[0mtotal_seconds\u001b[0m\u001b[1;33m(\u001b[0m\u001b[1;33m)\u001b[0m\u001b[1;33m)\u001b[0m\u001b[1;33m\u001b[0m\u001b[1;33m\u001b[0m\u001b[0m\n",
      "\u001b[1;32mC:\\ProgramData\\Anaconda3\\lib\\site-packages\\optuna\\study.py\u001b[0m in \u001b[0;36m_run_trial_and_callbacks\u001b[1;34m(self, func, catch, callbacks, gc_after_trial)\u001b[0m\n\u001b[0;32m    683\u001b[0m         \u001b[1;31m# type: (...) -> None\u001b[0m\u001b[1;33m\u001b[0m\u001b[1;33m\u001b[0m\u001b[1;33m\u001b[0m\u001b[0m\n\u001b[0;32m    684\u001b[0m \u001b[1;33m\u001b[0m\u001b[0m\n\u001b[1;32m--> 685\u001b[1;33m         \u001b[0mtrial\u001b[0m \u001b[1;33m=\u001b[0m \u001b[0mself\u001b[0m\u001b[1;33m.\u001b[0m\u001b[0m_run_trial\u001b[0m\u001b[1;33m(\u001b[0m\u001b[0mfunc\u001b[0m\u001b[1;33m,\u001b[0m \u001b[0mcatch\u001b[0m\u001b[1;33m,\u001b[0m \u001b[0mgc_after_trial\u001b[0m\u001b[1;33m)\u001b[0m\u001b[1;33m\u001b[0m\u001b[1;33m\u001b[0m\u001b[0m\n\u001b[0m\u001b[0;32m    686\u001b[0m         \u001b[1;32mif\u001b[0m \u001b[0mcallbacks\u001b[0m \u001b[1;32mis\u001b[0m \u001b[1;32mnot\u001b[0m \u001b[1;32mNone\u001b[0m\u001b[1;33m:\u001b[0m\u001b[1;33m\u001b[0m\u001b[1;33m\u001b[0m\u001b[0m\n\u001b[0;32m    687\u001b[0m             \u001b[0mfrozen_trial\u001b[0m \u001b[1;33m=\u001b[0m \u001b[0mcopy\u001b[0m\u001b[1;33m.\u001b[0m\u001b[0mdeepcopy\u001b[0m\u001b[1;33m(\u001b[0m\u001b[0mself\u001b[0m\u001b[1;33m.\u001b[0m\u001b[0m_storage\u001b[0m\u001b[1;33m.\u001b[0m\u001b[0mget_trial\u001b[0m\u001b[1;33m(\u001b[0m\u001b[0mtrial\u001b[0m\u001b[1;33m.\u001b[0m\u001b[0m_trial_id\u001b[0m\u001b[1;33m)\u001b[0m\u001b[1;33m)\u001b[0m\u001b[1;33m\u001b[0m\u001b[1;33m\u001b[0m\u001b[0m\n",
      "\u001b[1;32mC:\\ProgramData\\Anaconda3\\lib\\site-packages\\optuna\\study.py\u001b[0m in \u001b[0;36m_run_trial\u001b[1;34m(self, func, catch, gc_after_trial)\u001b[0m\n\u001b[0;32m    707\u001b[0m \u001b[1;33m\u001b[0m\u001b[0m\n\u001b[0;32m    708\u001b[0m         \u001b[1;32mtry\u001b[0m\u001b[1;33m:\u001b[0m\u001b[1;33m\u001b[0m\u001b[1;33m\u001b[0m\u001b[0m\n\u001b[1;32m--> 709\u001b[1;33m             \u001b[0mresult\u001b[0m \u001b[1;33m=\u001b[0m \u001b[0mfunc\u001b[0m\u001b[1;33m(\u001b[0m\u001b[0mtrial\u001b[0m\u001b[1;33m)\u001b[0m\u001b[1;33m\u001b[0m\u001b[1;33m\u001b[0m\u001b[0m\n\u001b[0m\u001b[0;32m    710\u001b[0m         \u001b[1;32mexcept\u001b[0m \u001b[0mexceptions\u001b[0m\u001b[1;33m.\u001b[0m\u001b[0mTrialPruned\u001b[0m \u001b[1;32mas\u001b[0m \u001b[0me\u001b[0m\u001b[1;33m:\u001b[0m\u001b[1;33m\u001b[0m\u001b[1;33m\u001b[0m\u001b[0m\n\u001b[0;32m    711\u001b[0m             \u001b[0mmessage\u001b[0m \u001b[1;33m=\u001b[0m \u001b[1;34m\"Trial {} pruned. {}\"\u001b[0m\u001b[1;33m.\u001b[0m\u001b[0mformat\u001b[0m\u001b[1;33m(\u001b[0m\u001b[0mtrial_number\u001b[0m\u001b[1;33m,\u001b[0m \u001b[0mstr\u001b[0m\u001b[1;33m(\u001b[0m\u001b[0me\u001b[0m\u001b[1;33m)\u001b[0m\u001b[1;33m)\u001b[0m\u001b[1;33m\u001b[0m\u001b[1;33m\u001b[0m\u001b[0m\n",
      "\u001b[1;32m<ipython-input-79-c18c775ba56f>\u001b[0m in \u001b[0;36mobjective\u001b[1;34m(trial)\u001b[0m\n\u001b[0;32m     43\u001b[0m         \u001b[0mvalidation_split\u001b[0m \u001b[1;33m=\u001b[0m \u001b[1;36m0.2\u001b[0m\u001b[1;33m,\u001b[0m \u001b[1;31m# 検証データの割合\u001b[0m\u001b[1;33m\u001b[0m\u001b[1;33m\u001b[0m\u001b[0m\n\u001b[0;32m     44\u001b[0m         \u001b[1;31m# callbacks = [es_cb], # 早期終了の設定\u001b[0m\u001b[1;33m\u001b[0m\u001b[1;33m\u001b[0m\u001b[1;33m\u001b[0m\u001b[0m\n\u001b[1;32m---> 45\u001b[1;33m         verbose = 0) # 進捗の確認を行うか（0:行わない, 1:行う）\n\u001b[0m\u001b[0;32m     46\u001b[0m \u001b[1;33m\u001b[0m\u001b[0m\n\u001b[0;32m     47\u001b[0m     \u001b[1;31m# return history.history[\"loss\"][-1]\u001b[0m\u001b[1;33m\u001b[0m\u001b[1;33m\u001b[0m\u001b[1;33m\u001b[0m\u001b[0m\n",
      "\u001b[1;32m~\\AppData\\Roaming\\Python\\Python37\\site-packages\\tensorflow\\python\\keras\\engine\\training.py\u001b[0m in \u001b[0;36m_method_wrapper\u001b[1;34m(self, *args, **kwargs)\u001b[0m\n\u001b[0;32m    106\u001b[0m   \u001b[1;32mdef\u001b[0m \u001b[0m_method_wrapper\u001b[0m\u001b[1;33m(\u001b[0m\u001b[0mself\u001b[0m\u001b[1;33m,\u001b[0m \u001b[1;33m*\u001b[0m\u001b[0margs\u001b[0m\u001b[1;33m,\u001b[0m \u001b[1;33m**\u001b[0m\u001b[0mkwargs\u001b[0m\u001b[1;33m)\u001b[0m\u001b[1;33m:\u001b[0m\u001b[1;33m\u001b[0m\u001b[1;33m\u001b[0m\u001b[0m\n\u001b[0;32m    107\u001b[0m     \u001b[1;32mif\u001b[0m \u001b[1;32mnot\u001b[0m \u001b[0mself\u001b[0m\u001b[1;33m.\u001b[0m\u001b[0m_in_multi_worker_mode\u001b[0m\u001b[1;33m(\u001b[0m\u001b[1;33m)\u001b[0m\u001b[1;33m:\u001b[0m  \u001b[1;31m# pylint: disable=protected-access\u001b[0m\u001b[1;33m\u001b[0m\u001b[1;33m\u001b[0m\u001b[0m\n\u001b[1;32m--> 108\u001b[1;33m       \u001b[1;32mreturn\u001b[0m \u001b[0mmethod\u001b[0m\u001b[1;33m(\u001b[0m\u001b[0mself\u001b[0m\u001b[1;33m,\u001b[0m \u001b[1;33m*\u001b[0m\u001b[0margs\u001b[0m\u001b[1;33m,\u001b[0m \u001b[1;33m**\u001b[0m\u001b[0mkwargs\u001b[0m\u001b[1;33m)\u001b[0m\u001b[1;33m\u001b[0m\u001b[1;33m\u001b[0m\u001b[0m\n\u001b[0m\u001b[0;32m    109\u001b[0m \u001b[1;33m\u001b[0m\u001b[0m\n\u001b[0;32m    110\u001b[0m     \u001b[1;31m# Running inside `run_distribute_coordinator` already.\u001b[0m\u001b[1;33m\u001b[0m\u001b[1;33m\u001b[0m\u001b[1;33m\u001b[0m\u001b[0m\n",
      "\u001b[1;32m~\\AppData\\Roaming\\Python\\Python37\\site-packages\\tensorflow\\python\\keras\\engine\\training.py\u001b[0m in \u001b[0;36mfit\u001b[1;34m(self, x, y, batch_size, epochs, verbose, callbacks, validation_split, validation_data, shuffle, class_weight, sample_weight, initial_epoch, steps_per_epoch, validation_steps, validation_batch_size, validation_freq, max_queue_size, workers, use_multiprocessing)\u001b[0m\n\u001b[0;32m   1096\u001b[0m                 batch_size=batch_size):\n\u001b[0;32m   1097\u001b[0m               \u001b[0mcallbacks\u001b[0m\u001b[1;33m.\u001b[0m\u001b[0mon_train_batch_begin\u001b[0m\u001b[1;33m(\u001b[0m\u001b[0mstep\u001b[0m\u001b[1;33m)\u001b[0m\u001b[1;33m\u001b[0m\u001b[1;33m\u001b[0m\u001b[0m\n\u001b[1;32m-> 1098\u001b[1;33m               \u001b[0mtmp_logs\u001b[0m \u001b[1;33m=\u001b[0m \u001b[0mtrain_function\u001b[0m\u001b[1;33m(\u001b[0m\u001b[0miterator\u001b[0m\u001b[1;33m)\u001b[0m\u001b[1;33m\u001b[0m\u001b[1;33m\u001b[0m\u001b[0m\n\u001b[0m\u001b[0;32m   1099\u001b[0m               \u001b[1;32mif\u001b[0m \u001b[0mdata_handler\u001b[0m\u001b[1;33m.\u001b[0m\u001b[0mshould_sync\u001b[0m\u001b[1;33m:\u001b[0m\u001b[1;33m\u001b[0m\u001b[1;33m\u001b[0m\u001b[0m\n\u001b[0;32m   1100\u001b[0m                 \u001b[0mcontext\u001b[0m\u001b[1;33m.\u001b[0m\u001b[0masync_wait\u001b[0m\u001b[1;33m(\u001b[0m\u001b[1;33m)\u001b[0m\u001b[1;33m\u001b[0m\u001b[1;33m\u001b[0m\u001b[0m\n",
      "\u001b[1;32m~\\AppData\\Roaming\\Python\\Python37\\site-packages\\tensorflow\\python\\eager\\def_function.py\u001b[0m in \u001b[0;36m__call__\u001b[1;34m(self, *args, **kwds)\u001b[0m\n\u001b[0;32m    778\u001b[0m       \u001b[1;32melse\u001b[0m\u001b[1;33m:\u001b[0m\u001b[1;33m\u001b[0m\u001b[1;33m\u001b[0m\u001b[0m\n\u001b[0;32m    779\u001b[0m         \u001b[0mcompiler\u001b[0m \u001b[1;33m=\u001b[0m \u001b[1;34m\"nonXla\"\u001b[0m\u001b[1;33m\u001b[0m\u001b[1;33m\u001b[0m\u001b[0m\n\u001b[1;32m--> 780\u001b[1;33m         \u001b[0mresult\u001b[0m \u001b[1;33m=\u001b[0m \u001b[0mself\u001b[0m\u001b[1;33m.\u001b[0m\u001b[0m_call\u001b[0m\u001b[1;33m(\u001b[0m\u001b[1;33m*\u001b[0m\u001b[0margs\u001b[0m\u001b[1;33m,\u001b[0m \u001b[1;33m**\u001b[0m\u001b[0mkwds\u001b[0m\u001b[1;33m)\u001b[0m\u001b[1;33m\u001b[0m\u001b[1;33m\u001b[0m\u001b[0m\n\u001b[0m\u001b[0;32m    781\u001b[0m \u001b[1;33m\u001b[0m\u001b[0m\n\u001b[0;32m    782\u001b[0m       \u001b[0mnew_tracing_count\u001b[0m \u001b[1;33m=\u001b[0m \u001b[0mself\u001b[0m\u001b[1;33m.\u001b[0m\u001b[0m_get_tracing_count\u001b[0m\u001b[1;33m(\u001b[0m\u001b[1;33m)\u001b[0m\u001b[1;33m\u001b[0m\u001b[1;33m\u001b[0m\u001b[0m\n",
      "\u001b[1;32m~\\AppData\\Roaming\\Python\\Python37\\site-packages\\tensorflow\\python\\eager\\def_function.py\u001b[0m in \u001b[0;36m_call\u001b[1;34m(self, *args, **kwds)\u001b[0m\n\u001b[0;32m    805\u001b[0m       \u001b[1;31m# In this case we have created variables on the first call, so we run the\u001b[0m\u001b[1;33m\u001b[0m\u001b[1;33m\u001b[0m\u001b[1;33m\u001b[0m\u001b[0m\n\u001b[0;32m    806\u001b[0m       \u001b[1;31m# defunned version which is guaranteed to never create variables.\u001b[0m\u001b[1;33m\u001b[0m\u001b[1;33m\u001b[0m\u001b[1;33m\u001b[0m\u001b[0m\n\u001b[1;32m--> 807\u001b[1;33m       \u001b[1;32mreturn\u001b[0m \u001b[0mself\u001b[0m\u001b[1;33m.\u001b[0m\u001b[0m_stateless_fn\u001b[0m\u001b[1;33m(\u001b[0m\u001b[1;33m*\u001b[0m\u001b[0margs\u001b[0m\u001b[1;33m,\u001b[0m \u001b[1;33m**\u001b[0m\u001b[0mkwds\u001b[0m\u001b[1;33m)\u001b[0m  \u001b[1;31m# pylint: disable=not-callable\u001b[0m\u001b[1;33m\u001b[0m\u001b[1;33m\u001b[0m\u001b[0m\n\u001b[0m\u001b[0;32m    808\u001b[0m     \u001b[1;32melif\u001b[0m \u001b[0mself\u001b[0m\u001b[1;33m.\u001b[0m\u001b[0m_stateful_fn\u001b[0m \u001b[1;32mis\u001b[0m \u001b[1;32mnot\u001b[0m \u001b[1;32mNone\u001b[0m\u001b[1;33m:\u001b[0m\u001b[1;33m\u001b[0m\u001b[1;33m\u001b[0m\u001b[0m\n\u001b[0;32m    809\u001b[0m       \u001b[1;31m# Release the lock early so that multiple threads can perform the call\u001b[0m\u001b[1;33m\u001b[0m\u001b[1;33m\u001b[0m\u001b[1;33m\u001b[0m\u001b[0m\n",
      "\u001b[1;32m~\\AppData\\Roaming\\Python\\Python37\\site-packages\\tensorflow\\python\\eager\\function.py\u001b[0m in \u001b[0;36m__call__\u001b[1;34m(self, *args, **kwargs)\u001b[0m\n\u001b[0;32m   2827\u001b[0m     \u001b[1;32mwith\u001b[0m \u001b[0mself\u001b[0m\u001b[1;33m.\u001b[0m\u001b[0m_lock\u001b[0m\u001b[1;33m:\u001b[0m\u001b[1;33m\u001b[0m\u001b[1;33m\u001b[0m\u001b[0m\n\u001b[0;32m   2828\u001b[0m       \u001b[0mgraph_function\u001b[0m\u001b[1;33m,\u001b[0m \u001b[0margs\u001b[0m\u001b[1;33m,\u001b[0m \u001b[0mkwargs\u001b[0m \u001b[1;33m=\u001b[0m \u001b[0mself\u001b[0m\u001b[1;33m.\u001b[0m\u001b[0m_maybe_define_function\u001b[0m\u001b[1;33m(\u001b[0m\u001b[0margs\u001b[0m\u001b[1;33m,\u001b[0m \u001b[0mkwargs\u001b[0m\u001b[1;33m)\u001b[0m\u001b[1;33m\u001b[0m\u001b[1;33m\u001b[0m\u001b[0m\n\u001b[1;32m-> 2829\u001b[1;33m     \u001b[1;32mreturn\u001b[0m \u001b[0mgraph_function\u001b[0m\u001b[1;33m.\u001b[0m\u001b[0m_filtered_call\u001b[0m\u001b[1;33m(\u001b[0m\u001b[0margs\u001b[0m\u001b[1;33m,\u001b[0m \u001b[0mkwargs\u001b[0m\u001b[1;33m)\u001b[0m  \u001b[1;31m# pylint: disable=protected-access\u001b[0m\u001b[1;33m\u001b[0m\u001b[1;33m\u001b[0m\u001b[0m\n\u001b[0m\u001b[0;32m   2830\u001b[0m \u001b[1;33m\u001b[0m\u001b[0m\n\u001b[0;32m   2831\u001b[0m   \u001b[1;33m@\u001b[0m\u001b[0mproperty\u001b[0m\u001b[1;33m\u001b[0m\u001b[1;33m\u001b[0m\u001b[0m\n",
      "\u001b[1;32m~\\AppData\\Roaming\\Python\\Python37\\site-packages\\tensorflow\\python\\eager\\function.py\u001b[0m in \u001b[0;36m_filtered_call\u001b[1;34m(self, args, kwargs, cancellation_manager)\u001b[0m\n\u001b[0;32m   1846\u001b[0m                            resource_variable_ops.BaseResourceVariable))],\n\u001b[0;32m   1847\u001b[0m         \u001b[0mcaptured_inputs\u001b[0m\u001b[1;33m=\u001b[0m\u001b[0mself\u001b[0m\u001b[1;33m.\u001b[0m\u001b[0mcaptured_inputs\u001b[0m\u001b[1;33m,\u001b[0m\u001b[1;33m\u001b[0m\u001b[1;33m\u001b[0m\u001b[0m\n\u001b[1;32m-> 1848\u001b[1;33m         cancellation_manager=cancellation_manager)\n\u001b[0m\u001b[0;32m   1849\u001b[0m \u001b[1;33m\u001b[0m\u001b[0m\n\u001b[0;32m   1850\u001b[0m   \u001b[1;32mdef\u001b[0m \u001b[0m_call_flat\u001b[0m\u001b[1;33m(\u001b[0m\u001b[0mself\u001b[0m\u001b[1;33m,\u001b[0m \u001b[0margs\u001b[0m\u001b[1;33m,\u001b[0m \u001b[0mcaptured_inputs\u001b[0m\u001b[1;33m,\u001b[0m \u001b[0mcancellation_manager\u001b[0m\u001b[1;33m=\u001b[0m\u001b[1;32mNone\u001b[0m\u001b[1;33m)\u001b[0m\u001b[1;33m:\u001b[0m\u001b[1;33m\u001b[0m\u001b[1;33m\u001b[0m\u001b[0m\n",
      "\u001b[1;32m~\\AppData\\Roaming\\Python\\Python37\\site-packages\\tensorflow\\python\\eager\\function.py\u001b[0m in \u001b[0;36m_call_flat\u001b[1;34m(self, args, captured_inputs, cancellation_manager)\u001b[0m\n\u001b[0;32m   1922\u001b[0m       \u001b[1;31m# No tape is watching; skip to running the function.\u001b[0m\u001b[1;33m\u001b[0m\u001b[1;33m\u001b[0m\u001b[1;33m\u001b[0m\u001b[0m\n\u001b[0;32m   1923\u001b[0m       return self._build_call_outputs(self._inference_function.call(\n\u001b[1;32m-> 1924\u001b[1;33m           ctx, args, cancellation_manager=cancellation_manager))\n\u001b[0m\u001b[0;32m   1925\u001b[0m     forward_backward = self._select_forward_and_backward_functions(\n\u001b[0;32m   1926\u001b[0m         \u001b[0margs\u001b[0m\u001b[1;33m,\u001b[0m\u001b[1;33m\u001b[0m\u001b[1;33m\u001b[0m\u001b[0m\n",
      "\u001b[1;32m~\\AppData\\Roaming\\Python\\Python37\\site-packages\\tensorflow\\python\\eager\\function.py\u001b[0m in \u001b[0;36mcall\u001b[1;34m(self, ctx, args, cancellation_manager)\u001b[0m\n\u001b[0;32m    548\u001b[0m               \u001b[0minputs\u001b[0m\u001b[1;33m=\u001b[0m\u001b[0margs\u001b[0m\u001b[1;33m,\u001b[0m\u001b[1;33m\u001b[0m\u001b[1;33m\u001b[0m\u001b[0m\n\u001b[0;32m    549\u001b[0m               \u001b[0mattrs\u001b[0m\u001b[1;33m=\u001b[0m\u001b[0mattrs\u001b[0m\u001b[1;33m,\u001b[0m\u001b[1;33m\u001b[0m\u001b[1;33m\u001b[0m\u001b[0m\n\u001b[1;32m--> 550\u001b[1;33m               ctx=ctx)\n\u001b[0m\u001b[0;32m    551\u001b[0m         \u001b[1;32melse\u001b[0m\u001b[1;33m:\u001b[0m\u001b[1;33m\u001b[0m\u001b[1;33m\u001b[0m\u001b[0m\n\u001b[0;32m    552\u001b[0m           outputs = execute.execute_with_cancellation(\n",
      "\u001b[1;32m~\\AppData\\Roaming\\Python\\Python37\\site-packages\\tensorflow\\python\\eager\\execute.py\u001b[0m in \u001b[0;36mquick_execute\u001b[1;34m(op_name, num_outputs, inputs, attrs, ctx, name)\u001b[0m\n\u001b[0;32m     58\u001b[0m     \u001b[0mctx\u001b[0m\u001b[1;33m.\u001b[0m\u001b[0mensure_initialized\u001b[0m\u001b[1;33m(\u001b[0m\u001b[1;33m)\u001b[0m\u001b[1;33m\u001b[0m\u001b[1;33m\u001b[0m\u001b[0m\n\u001b[0;32m     59\u001b[0m     tensors = pywrap_tfe.TFE_Py_Execute(ctx._handle, device_name, op_name,\n\u001b[1;32m---> 60\u001b[1;33m                                         inputs, attrs, num_outputs)\n\u001b[0m\u001b[0;32m     61\u001b[0m   \u001b[1;32mexcept\u001b[0m \u001b[0mcore\u001b[0m\u001b[1;33m.\u001b[0m\u001b[0m_NotOkStatusException\u001b[0m \u001b[1;32mas\u001b[0m \u001b[0me\u001b[0m\u001b[1;33m:\u001b[0m\u001b[1;33m\u001b[0m\u001b[1;33m\u001b[0m\u001b[0m\n\u001b[0;32m     62\u001b[0m     \u001b[1;32mif\u001b[0m \u001b[0mname\u001b[0m \u001b[1;32mis\u001b[0m \u001b[1;32mnot\u001b[0m \u001b[1;32mNone\u001b[0m\u001b[1;33m:\u001b[0m\u001b[1;33m\u001b[0m\u001b[1;33m\u001b[0m\u001b[0m\n",
      "\u001b[1;31mKeyboardInterrupt\u001b[0m: "
     ]
    }
   ],
   "source": [
    "study = optuna.create_study()\n",
    "study.optimize(objective, n_trials=1)"
   ]
  },
  {
   "cell_type": "code",
   "execution_count": null,
   "metadata": {},
   "outputs": [],
   "source": [
    "sorted_best_params = sorted(study.best_params.items(), key=lambda x : x[0])\n",
    "best_param = dict()\n",
    "for i, k in sorted_best_params:\n",
    "    print(i + ' : ' + str(k))\n",
    "    best_param[i] = k"
   ]
  },
  {
   "cell_type": "code",
   "execution_count": null,
   "metadata": {},
   "outputs": [],
   "source": [
    "# Keras以外を利用するのも一つの手段。\n",
    "keras.backend.clear_session()\n",
    "model = keras.models.Sequential()\n",
    "\n",
    "model.add(Dense(units=best_param[\"units1\"], activation=tf.nn.relu)) \n",
    "# model.add(Dropout(0.5))\n",
    "model.add(keras.layers.BatchNormalization())  # バッチ正規化層\n",
    "model.add(Dense(units=best_param[\"units2\"], activation=tf.nn.relu)) \n",
    "# model.add(Dropout(0.5))\n",
    "model.add(keras.layers.BatchNormalization())  # バッチ正規化層\n",
    "model.add(Dense(units=1, activation=\"sigmoid\"))  # 出力層（活性化関数はソフトマックス関数）\n",
    "model.compile(optimizer = keras.optimizers.RMSprop(lr=0.001),\n",
    "        loss=\"binary_crossentropy\",\n",
    "        metrics=\"accuracy\")"
   ]
  },
  {
   "cell_type": "code",
   "execution_count": 51,
   "metadata": {
    "tags": [
     "outputPrepend"
    ]
   },
   "outputs": [
    {
     "output_type": "stream",
     "name": "stdout",
     "text": [
      "/2020\n",
      "67/67 [==============================] - 0s 4ms/step - loss: 0.5726 - accuracy: 0.6954 - val_loss: 1.0983 - val_accuracy: 0.2266\n",
      "Epoch 1884/2020\n",
      "67/67 [==============================] - 0s 4ms/step - loss: 0.5737 - accuracy: 0.6937 - val_loss: 1.0336 - val_accuracy: 0.3000\n",
      "Epoch 1885/2020\n",
      "67/67 [==============================] - 0s 4ms/step - loss: 0.5729 - accuracy: 0.6953 - val_loss: 0.9770 - val_accuracy: 0.2753\n",
      "Epoch 1886/2020\n",
      "67/67 [==============================] - 0s 4ms/step - loss: 0.5730 - accuracy: 0.6934 - val_loss: 0.7361 - val_accuracy: 0.4570\n",
      "Epoch 1887/2020\n",
      "67/67 [==============================] - 0s 4ms/step - loss: 0.5731 - accuracy: 0.6939 - val_loss: 0.9036 - val_accuracy: 0.4238\n",
      "Epoch 1888/2020\n",
      "67/67 [==============================] - 0s 4ms/step - loss: 0.5727 - accuracy: 0.6944 - val_loss: 0.8216 - val_accuracy: 0.5130\n",
      "Epoch 1889/2020\n",
      "67/67 [==============================] - 0s 4ms/step - loss: 0.5731 - accuracy: 0.6953 - val_loss: 0.9352 - val_accuracy: 0.4074\n",
      "Epoch 1890/2020\n",
      "67/67 [==============================] - 0s 4ms/step - loss: 0.5736 - accuracy: 0.6936 - val_loss: 1.0612 - val_accuracy: 0.2791\n",
      "Epoch 1891/2020\n",
      "67/67 [==============================] - 0s 4ms/step - loss: 0.5731 - accuracy: 0.6947 - val_loss: 0.9817 - val_accuracy: 0.2566\n",
      "Epoch 1892/2020\n",
      "67/67 [==============================] - 0s 4ms/step - loss: 0.5726 - accuracy: 0.6942 - val_loss: 0.9988 - val_accuracy: 0.2583\n",
      "Epoch 1893/2020\n",
      "67/67 [==============================] - 0s 4ms/step - loss: 0.5735 - accuracy: 0.6941 - val_loss: 0.9977 - val_accuracy: 0.3935\n",
      "Epoch 1894/2020\n",
      "67/67 [==============================] - 0s 4ms/step - loss: 0.5728 - accuracy: 0.6945 - val_loss: 1.0022 - val_accuracy: 0.2870\n",
      "Epoch 1895/2020\n",
      "67/67 [==============================] - 0s 5ms/step - loss: 0.5738 - accuracy: 0.6945 - val_loss: 0.9466 - val_accuracy: 0.3590\n",
      "Epoch 1896/2020\n",
      "67/67 [==============================] - 0s 4ms/step - loss: 0.5730 - accuracy: 0.6928 - val_loss: 1.0382 - val_accuracy: 0.3516\n",
      "Epoch 1897/2020\n",
      "67/67 [==============================] - 0s 4ms/step - loss: 0.5728 - accuracy: 0.6940 - val_loss: 0.9798 - val_accuracy: 0.2638\n",
      "Epoch 1898/2020\n",
      "67/67 [==============================] - 0s 4ms/step - loss: 0.5741 - accuracy: 0.6931 - val_loss: 1.0978 - val_accuracy: 0.1824\n",
      "Epoch 1899/2020\n",
      "67/67 [==============================] - 0s 5ms/step - loss: 0.5727 - accuracy: 0.6950 - val_loss: 0.9630 - val_accuracy: 0.4418\n",
      "Epoch 1900/2020\n",
      "67/67 [==============================] - 0s 4ms/step - loss: 0.5729 - accuracy: 0.6942 - val_loss: 0.9196 - val_accuracy: 0.4338\n",
      "Epoch 1901/2020\n",
      "67/67 [==============================] - 0s 4ms/step - loss: 0.5742 - accuracy: 0.6947 - val_loss: 1.0998 - val_accuracy: 0.3064\n",
      "Epoch 1902/2020\n",
      "67/67 [==============================] - 0s 4ms/step - loss: 0.5735 - accuracy: 0.6951 - val_loss: 0.8820 - val_accuracy: 0.4414\n",
      "Epoch 1903/2020\n",
      "67/67 [==============================] - 0s 4ms/step - loss: 0.5738 - accuracy: 0.6944 - val_loss: 0.9468 - val_accuracy: 0.3437\n",
      "Epoch 1904/2020\n",
      "67/67 [==============================] - 0s 4ms/step - loss: 0.5730 - accuracy: 0.6950 - val_loss: 1.0693 - val_accuracy: 0.1922\n",
      "Epoch 1905/2020\n",
      "67/67 [==============================] - 0s 4ms/step - loss: 0.5725 - accuracy: 0.6934 - val_loss: 0.9686 - val_accuracy: 0.3537\n",
      "Epoch 1906/2020\n",
      "67/67 [==============================] - 0s 4ms/step - loss: 0.5732 - accuracy: 0.6935 - val_loss: 1.0132 - val_accuracy: 0.4154\n",
      "Epoch 1907/2020\n",
      "67/67 [==============================] - 0s 4ms/step - loss: 0.5734 - accuracy: 0.6942 - val_loss: 1.1037 - val_accuracy: 0.2337\n",
      "Epoch 1908/2020\n",
      "67/67 [==============================] - 0s 4ms/step - loss: 0.5732 - accuracy: 0.6951 - val_loss: 1.0187 - val_accuracy: 0.3114\n",
      "Epoch 1909/2020\n",
      "67/67 [==============================] - 0s 4ms/step - loss: 0.5731 - accuracy: 0.6948 - val_loss: 1.0140 - val_accuracy: 0.2411\n",
      "Epoch 1910/2020\n",
      "67/67 [==============================] - 0s 4ms/step - loss: 0.5737 - accuracy: 0.6941 - val_loss: 1.1931 - val_accuracy: 0.2952\n",
      "Epoch 1911/2020\n",
      "67/67 [==============================] - 0s 4ms/step - loss: 0.5734 - accuracy: 0.6945 - val_loss: 0.9022 - val_accuracy: 0.3439\n",
      "Epoch 1912/2020\n",
      "67/67 [==============================] - 0s 4ms/step - loss: 0.5733 - accuracy: 0.6946 - val_loss: 1.0885 - val_accuracy: 0.3142\n",
      "Epoch 1913/2020\n",
      "67/67 [==============================] - 0s 4ms/step - loss: 0.5728 - accuracy: 0.6944 - val_loss: 1.1282 - val_accuracy: 0.2383\n",
      "Epoch 1914/2020\n",
      "67/67 [==============================] - 0s 4ms/step - loss: 0.5732 - accuracy: 0.6938 - val_loss: 1.0310 - val_accuracy: 0.2692\n",
      "Epoch 1915/2020\n",
      "67/67 [==============================] - 0s 4ms/step - loss: 0.5733 - accuracy: 0.6943 - val_loss: 0.9060 - val_accuracy: 0.3402\n",
      "Epoch 1916/2020\n",
      "67/67 [==============================] - 0s 5ms/step - loss: 0.5730 - accuracy: 0.6945 - val_loss: 0.8342 - val_accuracy: 0.4444\n",
      "Epoch 1917/2020\n",
      "67/67 [==============================] - 0s 4ms/step - loss: 0.5733 - accuracy: 0.6937 - val_loss: 1.1144 - val_accuracy: 0.2276\n",
      "Epoch 1918/2020\n",
      "67/67 [==============================] - 0s 4ms/step - loss: 0.5741 - accuracy: 0.6950 - val_loss: 1.0701 - val_accuracy: 0.2948\n",
      "Epoch 1919/2020\n",
      "67/67 [==============================] - 0s 4ms/step - loss: 0.5728 - accuracy: 0.6943 - val_loss: 0.8876 - val_accuracy: 0.4138\n",
      "Epoch 1920/2020\n",
      "67/67 [==============================] - 0s 4ms/step - loss: 0.5732 - accuracy: 0.6947 - val_loss: 1.1457 - val_accuracy: 0.3375\n",
      "Epoch 1921/2020\n",
      "67/67 [==============================] - 0s 4ms/step - loss: 0.5738 - accuracy: 0.6941 - val_loss: 1.0159 - val_accuracy: 0.2823\n",
      "Epoch 1922/2020\n",
      "67/67 [==============================] - 0s 4ms/step - loss: 0.5728 - accuracy: 0.6945 - val_loss: 0.9494 - val_accuracy: 0.3758\n",
      "Epoch 1923/2020\n",
      "67/67 [==============================] - 0s 4ms/step - loss: 0.5733 - accuracy: 0.6936 - val_loss: 1.1011 - val_accuracy: 0.2520\n",
      "Epoch 1924/2020\n",
      "67/67 [==============================] - 0s 4ms/step - loss: 0.5736 - accuracy: 0.6947 - val_loss: 1.0834 - val_accuracy: 0.2164\n",
      "Epoch 1925/2020\n",
      "67/67 [==============================] - 0s 4ms/step - loss: 0.5731 - accuracy: 0.6939 - val_loss: 1.0269 - val_accuracy: 0.2726\n",
      "Epoch 1926/2020\n",
      "67/67 [==============================] - 0s 4ms/step - loss: 0.5733 - accuracy: 0.6939 - val_loss: 0.9229 - val_accuracy: 0.4986\n",
      "Epoch 1927/2020\n",
      "67/67 [==============================] - 0s 4ms/step - loss: 0.5731 - accuracy: 0.6947 - val_loss: 1.0807 - val_accuracy: 0.2814\n",
      "Epoch 1928/2020\n",
      "67/67 [==============================] - 0s 4ms/step - loss: 0.5737 - accuracy: 0.6937 - val_loss: 0.9496 - val_accuracy: 0.3058\n",
      "Epoch 1929/2020\n",
      "67/67 [==============================] - 0s 4ms/step - loss: 0.5738 - accuracy: 0.6955 - val_loss: 1.1243 - val_accuracy: 0.3374\n",
      "Epoch 1930/2020\n",
      "67/67 [==============================] - 0s 4ms/step - loss: 0.5733 - accuracy: 0.6943 - val_loss: 0.8463 - val_accuracy: 0.3634\n",
      "Epoch 1931/2020\n",
      "67/67 [==============================] - 0s 4ms/step - loss: 0.5726 - accuracy: 0.6942 - val_loss: 1.0041 - val_accuracy: 0.2458\n",
      "Epoch 1932/2020\n",
      "67/67 [==============================] - 0s 4ms/step - loss: 0.5730 - accuracy: 0.6952 - val_loss: 1.0759 - val_accuracy: 0.2773\n",
      "Epoch 1933/2020\n",
      "67/67 [==============================] - 0s 4ms/step - loss: 0.5732 - accuracy: 0.6945 - val_loss: 0.9696 - val_accuracy: 0.3906\n",
      "Epoch 1934/2020\n",
      "67/67 [==============================] - 0s 4ms/step - loss: 0.5728 - accuracy: 0.6944 - val_loss: 1.0303 - val_accuracy: 0.3020\n",
      "Epoch 1935/2020\n",
      "67/67 [==============================] - 0s 4ms/step - loss: 0.5723 - accuracy: 0.6942 - val_loss: 0.8963 - val_accuracy: 0.3637\n",
      "Epoch 1936/2020\n",
      "67/67 [==============================] - 0s 5ms/step - loss: 0.5734 - accuracy: 0.6953 - val_loss: 1.0686 - val_accuracy: 0.2480\n",
      "Epoch 1937/2020\n",
      "67/67 [==============================] - 0s 4ms/step - loss: 0.5724 - accuracy: 0.6952 - val_loss: 0.9949 - val_accuracy: 0.2654\n",
      "Epoch 1938/2020\n",
      "67/67 [==============================] - 0s 4ms/step - loss: 0.5737 - accuracy: 0.6955 - val_loss: 0.8637 - val_accuracy: 0.4223\n",
      "Epoch 1939/2020\n",
      "67/67 [==============================] - 0s 4ms/step - loss: 0.5726 - accuracy: 0.6941 - val_loss: 1.2271 - val_accuracy: 0.2013\n",
      "Epoch 1940/2020\n",
      "67/67 [==============================] - 0s 4ms/step - loss: 0.5727 - accuracy: 0.6952 - val_loss: 1.0216 - val_accuracy: 0.2660\n",
      "Epoch 1941/2020\n",
      "67/67 [==============================] - 0s 4ms/step - loss: 0.5739 - accuracy: 0.6945 - val_loss: 1.1034 - val_accuracy: 0.2756\n",
      "Epoch 1942/2020\n",
      "67/67 [==============================] - 0s 4ms/step - loss: 0.5727 - accuracy: 0.6951 - val_loss: 0.8389 - val_accuracy: 0.5096\n",
      "Epoch 1943/2020\n",
      "67/67 [==============================] - 0s 4ms/step - loss: 0.5731 - accuracy: 0.6940 - val_loss: 0.7898 - val_accuracy: 0.4510\n",
      "Epoch 1944/2020\n",
      "67/67 [==============================] - 0s 4ms/step - loss: 0.5724 - accuracy: 0.6949 - val_loss: 0.8914 - val_accuracy: 0.3776\n",
      "Epoch 1945/2020\n",
      "67/67 [==============================] - 0s 4ms/step - loss: 0.5726 - accuracy: 0.6934 - val_loss: 1.1662 - val_accuracy: 0.2873\n",
      "Epoch 1946/2020\n",
      "67/67 [==============================] - 0s 4ms/step - loss: 0.5726 - accuracy: 0.6952 - val_loss: 1.0256 - val_accuracy: 0.3124\n",
      "Epoch 1947/2020\n",
      "67/67 [==============================] - 0s 4ms/step - loss: 0.5726 - accuracy: 0.6953 - val_loss: 0.8770 - val_accuracy: 0.3489\n",
      "Epoch 1948/2020\n",
      "67/67 [==============================] - 0s 4ms/step - loss: 0.5727 - accuracy: 0.6940 - val_loss: 0.8872 - val_accuracy: 0.3789\n",
      "Epoch 1949/2020\n",
      "67/67 [==============================] - 0s 4ms/step - loss: 0.5724 - accuracy: 0.6950 - val_loss: 0.9779 - val_accuracy: 0.3096\n",
      "Epoch 1950/2020\n",
      "67/67 [==============================] - 0s 4ms/step - loss: 0.5734 - accuracy: 0.6947 - val_loss: 1.0486 - val_accuracy: 0.2536\n",
      "Epoch 1951/2020\n",
      "67/67 [==============================] - 0s 4ms/step - loss: 0.5724 - accuracy: 0.6951 - val_loss: 0.9799 - val_accuracy: 0.3707\n",
      "Epoch 1952/2020\n",
      "67/67 [==============================] - 0s 4ms/step - loss: 0.5735 - accuracy: 0.6948 - val_loss: 0.9514 - val_accuracy: 0.3700\n",
      "Epoch 1953/2020\n",
      "67/67 [==============================] - 0s 5ms/step - loss: 0.5727 - accuracy: 0.6946 - val_loss: 0.9760 - val_accuracy: 0.2916\n",
      "Epoch 1954/2020\n",
      "67/67 [==============================] - 0s 4ms/step - loss: 0.5728 - accuracy: 0.6952 - val_loss: 0.9997 - val_accuracy: 0.3215\n",
      "Epoch 1955/2020\n",
      "67/67 [==============================] - 0s 4ms/step - loss: 0.5733 - accuracy: 0.6943 - val_loss: 0.9979 - val_accuracy: 0.3155\n",
      "Epoch 1956/2020\n",
      "67/67 [==============================] - 0s 4ms/step - loss: 0.5731 - accuracy: 0.6950 - val_loss: 0.9364 - val_accuracy: 0.3017\n",
      "Epoch 1957/2020\n",
      "67/67 [==============================] - 0s 4ms/step - loss: 0.5728 - accuracy: 0.6948 - val_loss: 0.9210 - val_accuracy: 0.3364\n",
      "Epoch 1958/2020\n",
      "67/67 [==============================] - 0s 4ms/step - loss: 0.5733 - accuracy: 0.6936 - val_loss: 1.0483 - val_accuracy: 0.2965\n",
      "Epoch 1959/2020\n",
      "67/67 [==============================] - 0s 4ms/step - loss: 0.5728 - accuracy: 0.6943 - val_loss: 0.8754 - val_accuracy: 0.4394\n",
      "Epoch 1960/2020\n",
      "67/67 [==============================] - 0s 4ms/step - loss: 0.5730 - accuracy: 0.6952 - val_loss: 1.0021 - val_accuracy: 0.3560\n",
      "Epoch 1961/2020\n",
      "67/67 [==============================] - 0s 4ms/step - loss: 0.5725 - accuracy: 0.6942 - val_loss: 0.9844 - val_accuracy: 0.3310\n",
      "Epoch 1962/2020\n",
      "67/67 [==============================] - 0s 5ms/step - loss: 0.5739 - accuracy: 0.6938 - val_loss: 1.0118 - val_accuracy: 0.3554\n",
      "Epoch 1963/2020\n",
      "67/67 [==============================] - 0s 4ms/step - loss: 0.5731 - accuracy: 0.6946 - val_loss: 1.1244 - val_accuracy: 0.1939\n",
      "Epoch 1964/2020\n",
      "67/67 [==============================] - 0s 4ms/step - loss: 0.5734 - accuracy: 0.6943 - val_loss: 1.0235 - val_accuracy: 0.2966\n",
      "Epoch 1965/2020\n",
      "67/67 [==============================] - 0s 4ms/step - loss: 0.5733 - accuracy: 0.6937 - val_loss: 0.9506 - val_accuracy: 0.3006\n",
      "Epoch 1966/2020\n",
      "67/67 [==============================] - 0s 4ms/step - loss: 0.5735 - accuracy: 0.6940 - val_loss: 1.0233 - val_accuracy: 0.2675\n",
      "Epoch 1967/2020\n",
      "67/67 [==============================] - 0s 4ms/step - loss: 0.5721 - accuracy: 0.6946 - val_loss: 0.7888 - val_accuracy: 0.4885\n",
      "Epoch 1968/2020\n",
      "67/67 [==============================] - 0s 4ms/step - loss: 0.5722 - accuracy: 0.6952 - val_loss: 1.0136 - val_accuracy: 0.2697\n",
      "Epoch 1969/2020\n",
      "67/67 [==============================] - 0s 4ms/step - loss: 0.5734 - accuracy: 0.6926 - val_loss: 0.9619 - val_accuracy: 0.4197\n",
      "Epoch 1970/2020\n",
      "67/67 [==============================] - 0s 4ms/step - loss: 0.5724 - accuracy: 0.6947 - val_loss: 0.9902 - val_accuracy: 0.2961\n",
      "Epoch 1971/2020\n",
      "67/67 [==============================] - 0s 4ms/step - loss: 0.5730 - accuracy: 0.6940 - val_loss: 0.9161 - val_accuracy: 0.4356\n",
      "Epoch 1972/2020\n",
      "67/67 [==============================] - 0s 5ms/step - loss: 0.5731 - accuracy: 0.6953 - val_loss: 1.0842 - val_accuracy: 0.2542\n",
      "Epoch 1973/2020\n",
      "67/67 [==============================] - 0s 4ms/step - loss: 0.5734 - accuracy: 0.6944 - val_loss: 0.8692 - val_accuracy: 0.3495\n",
      "Epoch 1974/2020\n",
      "67/67 [==============================] - 0s 4ms/step - loss: 0.5727 - accuracy: 0.6945 - val_loss: 1.1136 - val_accuracy: 0.3404\n",
      "Epoch 1975/2020\n",
      "67/67 [==============================] - 0s 4ms/step - loss: 0.5731 - accuracy: 0.6953 - val_loss: 0.8658 - val_accuracy: 0.4503\n",
      "Epoch 1976/2020\n",
      "67/67 [==============================] - 0s 4ms/step - loss: 0.5730 - accuracy: 0.6938 - val_loss: 0.9251 - val_accuracy: 0.4073\n",
      "Epoch 1977/2020\n",
      "67/67 [==============================] - 0s 4ms/step - loss: 0.5731 - accuracy: 0.6937 - val_loss: 0.9206 - val_accuracy: 0.3550\n",
      "Epoch 1978/2020\n",
      "67/67 [==============================] - 0s 4ms/step - loss: 0.5728 - accuracy: 0.6936 - val_loss: 1.0335 - val_accuracy: 0.3001\n",
      "Epoch 1979/2020\n",
      "67/67 [==============================] - 0s 4ms/step - loss: 0.5721 - accuracy: 0.6947 - val_loss: 1.0459 - val_accuracy: 0.1921\n",
      "Epoch 1980/2020\n",
      "67/67 [==============================] - 0s 4ms/step - loss: 0.5722 - accuracy: 0.6944 - val_loss: 0.9701 - val_accuracy: 0.3155\n",
      "Epoch 1981/2020\n",
      "67/67 [==============================] - 0s 4ms/step - loss: 0.5729 - accuracy: 0.6945 - val_loss: 0.9765 - val_accuracy: 0.2802\n",
      "Epoch 1982/2020\n",
      "67/67 [==============================] - 0s 4ms/step - loss: 0.5726 - accuracy: 0.6945 - val_loss: 1.0011 - val_accuracy: 0.3552\n",
      "Epoch 1983/2020\n",
      "67/67 [==============================] - 0s 4ms/step - loss: 0.5726 - accuracy: 0.6953 - val_loss: 0.9976 - val_accuracy: 0.4179\n",
      "Epoch 1984/2020\n",
      "67/67 [==============================] - 0s 4ms/step - loss: 0.5729 - accuracy: 0.6947 - val_loss: 0.9332 - val_accuracy: 0.3862\n",
      "Epoch 1985/2020\n",
      "67/67 [==============================] - 0s 4ms/step - loss: 0.5729 - accuracy: 0.6940 - val_loss: 0.7628 - val_accuracy: 0.5298\n",
      "Epoch 1986/2020\n",
      "67/67 [==============================] - 0s 4ms/step - loss: 0.5729 - accuracy: 0.6948 - val_loss: 1.0237 - val_accuracy: 0.3120\n",
      "Epoch 1987/2020\n",
      "67/67 [==============================] - 0s 4ms/step - loss: 0.5729 - accuracy: 0.6947 - val_loss: 0.9774 - val_accuracy: 0.3987\n",
      "Epoch 1988/2020\n",
      "67/67 [==============================] - 0s 4ms/step - loss: 0.5727 - accuracy: 0.6943 - val_loss: 0.9049 - val_accuracy: 0.4241\n",
      "Epoch 1989/2020\n",
      "67/67 [==============================] - 0s 4ms/step - loss: 0.5725 - accuracy: 0.6947 - val_loss: 0.9995 - val_accuracy: 0.2924\n",
      "Epoch 1990/2020\n",
      "67/67 [==============================] - 0s 4ms/step - loss: 0.5732 - accuracy: 0.6948 - val_loss: 1.0672 - val_accuracy: 0.2528\n",
      "Epoch 1991/2020\n",
      "67/67 [==============================] - 0s 4ms/step - loss: 0.5725 - accuracy: 0.6953 - val_loss: 1.1328 - val_accuracy: 0.1931\n",
      "Epoch 1992/2020\n",
      "67/67 [==============================] - 0s 4ms/step - loss: 0.5725 - accuracy: 0.6948 - val_loss: 0.8371 - val_accuracy: 0.4428\n",
      "Epoch 1993/2020\n",
      "67/67 [==============================] - 0s 4ms/step - loss: 0.5729 - accuracy: 0.6960 - val_loss: 1.0550 - val_accuracy: 0.2413\n",
      "Epoch 1994/2020\n",
      "67/67 [==============================] - 0s 4ms/step - loss: 0.5736 - accuracy: 0.6926 - val_loss: 0.9141 - val_accuracy: 0.3795\n",
      "Epoch 1995/2020\n",
      "67/67 [==============================] - 0s 4ms/step - loss: 0.5732 - accuracy: 0.6953 - val_loss: 1.0095 - val_accuracy: 0.2966\n",
      "Epoch 1996/2020\n",
      "67/67 [==============================] - 0s 4ms/step - loss: 0.5726 - accuracy: 0.6955 - val_loss: 0.9359 - val_accuracy: 0.3302\n",
      "Epoch 1997/2020\n",
      "67/67 [==============================] - 0s 4ms/step - loss: 0.5729 - accuracy: 0.6940 - val_loss: 1.0867 - val_accuracy: 0.3681\n",
      "Epoch 1998/2020\n",
      "67/67 [==============================] - 0s 4ms/step - loss: 0.5722 - accuracy: 0.6951 - val_loss: 1.0065 - val_accuracy: 0.2704\n",
      "Epoch 1999/2020\n",
      "67/67 [==============================] - 0s 4ms/step - loss: 0.5728 - accuracy: 0.6944 - val_loss: 0.7905 - val_accuracy: 0.5124\n",
      "Epoch 2000/2020\n",
      "67/67 [==============================] - 0s 4ms/step - loss: 0.5731 - accuracy: 0.6951 - val_loss: 0.9355 - val_accuracy: 0.4412\n",
      "Epoch 2001/2020\n",
      "67/67 [==============================] - 0s 4ms/step - loss: 0.5724 - accuracy: 0.6961 - val_loss: 1.0154 - val_accuracy: 0.3156\n",
      "Epoch 2002/2020\n",
      "67/67 [==============================] - 0s 4ms/step - loss: 0.5729 - accuracy: 0.6940 - val_loss: 0.7968 - val_accuracy: 0.4892\n",
      "Epoch 2003/2020\n",
      "67/67 [==============================] - 0s 4ms/step - loss: 0.5723 - accuracy: 0.6949 - val_loss: 0.9528 - val_accuracy: 0.2716\n",
      "Epoch 2004/2020\n",
      "67/67 [==============================] - 0s 4ms/step - loss: 0.5728 - accuracy: 0.6933 - val_loss: 0.9902 - val_accuracy: 0.3895\n",
      "Epoch 2005/2020\n",
      "67/67 [==============================] - 0s 4ms/step - loss: 0.5729 - accuracy: 0.6955 - val_loss: 0.9162 - val_accuracy: 0.3532\n",
      "Epoch 2006/2020\n",
      "67/67 [==============================] - 0s 4ms/step - loss: 0.5726 - accuracy: 0.6953 - val_loss: 0.9681 - val_accuracy: 0.3714\n",
      "Epoch 2007/2020\n",
      "67/67 [==============================] - 0s 4ms/step - loss: 0.5727 - accuracy: 0.6951 - val_loss: 0.9945 - val_accuracy: 0.3215\n",
      "Epoch 2008/2020\n",
      "67/67 [==============================] - 0s 4ms/step - loss: 0.5724 - accuracy: 0.6944 - val_loss: 0.9233 - val_accuracy: 0.3352\n",
      "Epoch 2009/2020\n",
      "67/67 [==============================] - 0s 4ms/step - loss: 0.5724 - accuracy: 0.6956 - val_loss: 1.0217 - val_accuracy: 0.2206\n",
      "Epoch 2010/2020\n",
      "67/67 [==============================] - 0s 4ms/step - loss: 0.5723 - accuracy: 0.6943 - val_loss: 0.9618 - val_accuracy: 0.3722\n",
      "Epoch 2011/2020\n",
      "67/67 [==============================] - 0s 4ms/step - loss: 0.5722 - accuracy: 0.6950 - val_loss: 0.8940 - val_accuracy: 0.4782\n",
      "Epoch 2012/2020\n",
      "67/67 [==============================] - 0s 4ms/step - loss: 0.5727 - accuracy: 0.6939 - val_loss: 0.9412 - val_accuracy: 0.2960\n",
      "Epoch 2013/2020\n",
      "67/67 [==============================] - 0s 4ms/step - loss: 0.5719 - accuracy: 0.6956 - val_loss: 0.8435 - val_accuracy: 0.4057\n",
      "Epoch 2014/2020\n",
      "67/67 [==============================] - 0s 4ms/step - loss: 0.5720 - accuracy: 0.6955 - val_loss: 0.9806 - val_accuracy: 0.3861\n",
      "Epoch 2015/2020\n",
      "67/67 [==============================] - 0s 4ms/step - loss: 0.5732 - accuracy: 0.6951 - val_loss: 0.9576 - val_accuracy: 0.3283\n",
      "Epoch 2016/2020\n",
      "67/67 [==============================] - 0s 4ms/step - loss: 0.5729 - accuracy: 0.6949 - val_loss: 0.8442 - val_accuracy: 0.4164\n",
      "Epoch 2017/2020\n",
      "67/67 [==============================] - 0s 4ms/step - loss: 0.5733 - accuracy: 0.6952 - val_loss: 1.0897 - val_accuracy: 0.3262\n",
      "Epoch 2018/2020\n",
      "67/67 [==============================] - 0s 4ms/step - loss: 0.5726 - accuracy: 0.6949 - val_loss: 1.0667 - val_accuracy: 0.2932\n",
      "Epoch 2019/2020\n",
      "67/67 [==============================] - 0s 4ms/step - loss: 0.5729 - accuracy: 0.6944 - val_loss: 0.9734 - val_accuracy: 0.2988\n",
      "Epoch 2020/2020\n",
      "67/67 [==============================] - 0s 4ms/step - loss: 0.5726 - accuracy: 0.6941 - val_loss: 0.9191 - val_accuracy: 0.3342\n"
     ]
    }
   ],
   "source": [
    "history = model.fit(x=X_train,\n",
    "       y=y_train,\n",
    "       batch_size=1024,  # バッチサイズ\n",
    "       epochs=int(best_param[\"epochs\"]),  # エポック数\n",
    "       validation_split=0.2,  # 検証データの割合\n",
    "       verbose=1)  # 進捗の確認を行うか（0:行わない, 1:行う）"
   ]
  },
  {
   "cell_type": "code",
   "execution_count": 56,
   "metadata": {},
   "outputs": [
    {
     "output_type": "display_data",
     "data": {
      "text/plain": "<Figure size 432x288 with 1 Axes>",
      "image/svg+xml": "<?xml version=\"1.0\" encoding=\"utf-8\" standalone=\"no\"?>\r\n<!DOCTYPE svg PUBLIC \"-//W3C//DTD SVG 1.1//EN\"\r\n  \"http://www.w3.org/Graphics/SVG/1.1/DTD/svg11.dtd\">\r\n<!-- Created with matplotlib (https://matplotlib.org/) -->\r\n<svg height=\"263.63625pt\" version=\"1.1\" viewBox=\"0 0 372.103125 263.63625\" width=\"372.103125pt\" xmlns=\"http://www.w3.org/2000/svg\" xmlns:xlink=\"http://www.w3.org/1999/xlink\">\r\n <defs>\r\n  <style type=\"text/css\">\r\n*{stroke-linecap:butt;stroke-linejoin:round;}\r\n  </style>\r\n </defs>\r\n <g id=\"figure_1\">\r\n  <g id=\"patch_1\">\r\n   <path d=\"M 0 263.63625 \r\nL 372.103125 263.63625 \r\nL 372.103125 0 \r\nL 0 0 \r\nz\r\n\" style=\"fill:none;\"/>\r\n  </g>\r\n  <g id=\"axes_1\">\r\n   <g id=\"patch_2\">\r\n    <path d=\"M 30.103125 239.758125 \r\nL 364.903125 239.758125 \r\nL 364.903125 22.318125 \r\nL 30.103125 22.318125 \r\nz\r\n\" style=\"fill:#ffffff;\"/>\r\n   </g>\r\n   <g id=\"matplotlib.axis_1\">\r\n    <g id=\"xtick_1\">\r\n     <g id=\"line2d_1\">\r\n      <defs>\r\n       <path d=\"M 0 0 \r\nL 0 3.5 \r\n\" id=\"m17ebff74bc\" style=\"stroke:#000000;stroke-width:0.8;\"/>\r\n      </defs>\r\n      <g>\r\n       <use style=\"stroke:#000000;stroke-width:0.8;\" x=\"45.321307\" xlink:href=\"#m17ebff74bc\" y=\"239.758125\"/>\r\n      </g>\r\n     </g>\r\n     <g id=\"text_1\">\r\n      <!-- 0 -->\r\n      <defs>\r\n       <path d=\"M 31.78125 66.40625 \r\nQ 24.171875 66.40625 20.328125 58.90625 \r\nQ 16.5 51.421875 16.5 36.375 \r\nQ 16.5 21.390625 20.328125 13.890625 \r\nQ 24.171875 6.390625 31.78125 6.390625 \r\nQ 39.453125 6.390625 43.28125 13.890625 \r\nQ 47.125 21.390625 47.125 36.375 \r\nQ 47.125 51.421875 43.28125 58.90625 \r\nQ 39.453125 66.40625 31.78125 66.40625 \r\nz\r\nM 31.78125 74.21875 \r\nQ 44.046875 74.21875 50.515625 64.515625 \r\nQ 56.984375 54.828125 56.984375 36.375 \r\nQ 56.984375 17.96875 50.515625 8.265625 \r\nQ 44.046875 -1.421875 31.78125 -1.421875 \r\nQ 19.53125 -1.421875 13.0625 8.265625 \r\nQ 6.59375 17.96875 6.59375 36.375 \r\nQ 6.59375 54.828125 13.0625 64.515625 \r\nQ 19.53125 74.21875 31.78125 74.21875 \r\nz\r\n\" id=\"DejaVuSans-48\"/>\r\n      </defs>\r\n      <g transform=\"translate(42.140057 254.356563)scale(0.1 -0.1)\">\r\n       <use xlink:href=\"#DejaVuSans-48\"/>\r\n      </g>\r\n     </g>\r\n    </g>\r\n    <g id=\"xtick_2\">\r\n     <g id=\"line2d_2\">\r\n      <g>\r\n       <use style=\"stroke:#000000;stroke-width:0.8;\" x=\"83.008731\" xlink:href=\"#m17ebff74bc\" y=\"239.758125\"/>\r\n      </g>\r\n     </g>\r\n     <g id=\"text_2\">\r\n      <!-- 250 -->\r\n      <defs>\r\n       <path d=\"M 19.1875 8.296875 \r\nL 53.609375 8.296875 \r\nL 53.609375 0 \r\nL 7.328125 0 \r\nL 7.328125 8.296875 \r\nQ 12.9375 14.109375 22.625 23.890625 \r\nQ 32.328125 33.6875 34.8125 36.53125 \r\nQ 39.546875 41.84375 41.421875 45.53125 \r\nQ 43.3125 49.21875 43.3125 52.78125 \r\nQ 43.3125 58.59375 39.234375 62.25 \r\nQ 35.15625 65.921875 28.609375 65.921875 \r\nQ 23.96875 65.921875 18.8125 64.3125 \r\nQ 13.671875 62.703125 7.8125 59.421875 \r\nL 7.8125 69.390625 \r\nQ 13.765625 71.78125 18.9375 73 \r\nQ 24.125 74.21875 28.421875 74.21875 \r\nQ 39.75 74.21875 46.484375 68.546875 \r\nQ 53.21875 62.890625 53.21875 53.421875 \r\nQ 53.21875 48.921875 51.53125 44.890625 \r\nQ 49.859375 40.875 45.40625 35.40625 \r\nQ 44.1875 33.984375 37.640625 27.21875 \r\nQ 31.109375 20.453125 19.1875 8.296875 \r\nz\r\n\" id=\"DejaVuSans-50\"/>\r\n       <path d=\"M 10.796875 72.90625 \r\nL 49.515625 72.90625 \r\nL 49.515625 64.59375 \r\nL 19.828125 64.59375 \r\nL 19.828125 46.734375 \r\nQ 21.96875 47.46875 24.109375 47.828125 \r\nQ 26.265625 48.1875 28.421875 48.1875 \r\nQ 40.625 48.1875 47.75 41.5 \r\nQ 54.890625 34.8125 54.890625 23.390625 \r\nQ 54.890625 11.625 47.5625 5.09375 \r\nQ 40.234375 -1.421875 26.90625 -1.421875 \r\nQ 22.3125 -1.421875 17.546875 -0.640625 \r\nQ 12.796875 0.140625 7.71875 1.703125 \r\nL 7.71875 11.625 \r\nQ 12.109375 9.234375 16.796875 8.0625 \r\nQ 21.484375 6.890625 26.703125 6.890625 \r\nQ 35.15625 6.890625 40.078125 11.328125 \r\nQ 45.015625 15.765625 45.015625 23.390625 \r\nQ 45.015625 31 40.078125 35.4375 \r\nQ 35.15625 39.890625 26.703125 39.890625 \r\nQ 22.75 39.890625 18.8125 39.015625 \r\nQ 14.890625 38.140625 10.796875 36.28125 \r\nz\r\n\" id=\"DejaVuSans-53\"/>\r\n      </defs>\r\n      <g transform=\"translate(73.464981 254.356563)scale(0.1 -0.1)\">\r\n       <use xlink:href=\"#DejaVuSans-50\"/>\r\n       <use x=\"63.623047\" xlink:href=\"#DejaVuSans-53\"/>\r\n       <use x=\"127.246094\" xlink:href=\"#DejaVuSans-48\"/>\r\n      </g>\r\n     </g>\r\n    </g>\r\n    <g id=\"xtick_3\">\r\n     <g id=\"line2d_3\">\r\n      <g>\r\n       <use style=\"stroke:#000000;stroke-width:0.8;\" x=\"120.696155\" xlink:href=\"#m17ebff74bc\" y=\"239.758125\"/>\r\n      </g>\r\n     </g>\r\n     <g id=\"text_3\">\r\n      <!-- 500 -->\r\n      <g transform=\"translate(111.152405 254.356563)scale(0.1 -0.1)\">\r\n       <use xlink:href=\"#DejaVuSans-53\"/>\r\n       <use x=\"63.623047\" xlink:href=\"#DejaVuSans-48\"/>\r\n       <use x=\"127.246094\" xlink:href=\"#DejaVuSans-48\"/>\r\n      </g>\r\n     </g>\r\n    </g>\r\n    <g id=\"xtick_4\">\r\n     <g id=\"line2d_4\">\r\n      <g>\r\n       <use style=\"stroke:#000000;stroke-width:0.8;\" x=\"158.383579\" xlink:href=\"#m17ebff74bc\" y=\"239.758125\"/>\r\n      </g>\r\n     </g>\r\n     <g id=\"text_4\">\r\n      <!-- 750 -->\r\n      <defs>\r\n       <path d=\"M 8.203125 72.90625 \r\nL 55.078125 72.90625 \r\nL 55.078125 68.703125 \r\nL 28.609375 0 \r\nL 18.3125 0 \r\nL 43.21875 64.59375 \r\nL 8.203125 64.59375 \r\nz\r\n\" id=\"DejaVuSans-55\"/>\r\n      </defs>\r\n      <g transform=\"translate(148.839829 254.356563)scale(0.1 -0.1)\">\r\n       <use xlink:href=\"#DejaVuSans-55\"/>\r\n       <use x=\"63.623047\" xlink:href=\"#DejaVuSans-53\"/>\r\n       <use x=\"127.246094\" xlink:href=\"#DejaVuSans-48\"/>\r\n      </g>\r\n     </g>\r\n    </g>\r\n    <g id=\"xtick_5\">\r\n     <g id=\"line2d_5\">\r\n      <g>\r\n       <use style=\"stroke:#000000;stroke-width:0.8;\" x=\"196.071003\" xlink:href=\"#m17ebff74bc\" y=\"239.758125\"/>\r\n      </g>\r\n     </g>\r\n     <g id=\"text_5\">\r\n      <!-- 1000 -->\r\n      <defs>\r\n       <path d=\"M 12.40625 8.296875 \r\nL 28.515625 8.296875 \r\nL 28.515625 63.921875 \r\nL 10.984375 60.40625 \r\nL 10.984375 69.390625 \r\nL 28.421875 72.90625 \r\nL 38.28125 72.90625 \r\nL 38.28125 8.296875 \r\nL 54.390625 8.296875 \r\nL 54.390625 0 \r\nL 12.40625 0 \r\nz\r\n\" id=\"DejaVuSans-49\"/>\r\n      </defs>\r\n      <g transform=\"translate(183.346003 254.356563)scale(0.1 -0.1)\">\r\n       <use xlink:href=\"#DejaVuSans-49\"/>\r\n       <use x=\"63.623047\" xlink:href=\"#DejaVuSans-48\"/>\r\n       <use x=\"127.246094\" xlink:href=\"#DejaVuSans-48\"/>\r\n       <use x=\"190.869141\" xlink:href=\"#DejaVuSans-48\"/>\r\n      </g>\r\n     </g>\r\n    </g>\r\n    <g id=\"xtick_6\">\r\n     <g id=\"line2d_6\">\r\n      <g>\r\n       <use style=\"stroke:#000000;stroke-width:0.8;\" x=\"233.758427\" xlink:href=\"#m17ebff74bc\" y=\"239.758125\"/>\r\n      </g>\r\n     </g>\r\n     <g id=\"text_6\">\r\n      <!-- 1250 -->\r\n      <g transform=\"translate(221.033427 254.356563)scale(0.1 -0.1)\">\r\n       <use xlink:href=\"#DejaVuSans-49\"/>\r\n       <use x=\"63.623047\" xlink:href=\"#DejaVuSans-50\"/>\r\n       <use x=\"127.246094\" xlink:href=\"#DejaVuSans-53\"/>\r\n       <use x=\"190.869141\" xlink:href=\"#DejaVuSans-48\"/>\r\n      </g>\r\n     </g>\r\n    </g>\r\n    <g id=\"xtick_7\">\r\n     <g id=\"line2d_7\">\r\n      <g>\r\n       <use style=\"stroke:#000000;stroke-width:0.8;\" x=\"271.445851\" xlink:href=\"#m17ebff74bc\" y=\"239.758125\"/>\r\n      </g>\r\n     </g>\r\n     <g id=\"text_7\">\r\n      <!-- 1500 -->\r\n      <g transform=\"translate(258.720851 254.356563)scale(0.1 -0.1)\">\r\n       <use xlink:href=\"#DejaVuSans-49\"/>\r\n       <use x=\"63.623047\" xlink:href=\"#DejaVuSans-53\"/>\r\n       <use x=\"127.246094\" xlink:href=\"#DejaVuSans-48\"/>\r\n       <use x=\"190.869141\" xlink:href=\"#DejaVuSans-48\"/>\r\n      </g>\r\n     </g>\r\n    </g>\r\n    <g id=\"xtick_8\">\r\n     <g id=\"line2d_8\">\r\n      <g>\r\n       <use style=\"stroke:#000000;stroke-width:0.8;\" x=\"309.133275\" xlink:href=\"#m17ebff74bc\" y=\"239.758125\"/>\r\n      </g>\r\n     </g>\r\n     <g id=\"text_8\">\r\n      <!-- 1750 -->\r\n      <g transform=\"translate(296.408275 254.356563)scale(0.1 -0.1)\">\r\n       <use xlink:href=\"#DejaVuSans-49\"/>\r\n       <use x=\"63.623047\" xlink:href=\"#DejaVuSans-55\"/>\r\n       <use x=\"127.246094\" xlink:href=\"#DejaVuSans-53\"/>\r\n       <use x=\"190.869141\" xlink:href=\"#DejaVuSans-48\"/>\r\n      </g>\r\n     </g>\r\n    </g>\r\n    <g id=\"xtick_9\">\r\n     <g id=\"line2d_9\">\r\n      <g>\r\n       <use style=\"stroke:#000000;stroke-width:0.8;\" x=\"346.820699\" xlink:href=\"#m17ebff74bc\" y=\"239.758125\"/>\r\n      </g>\r\n     </g>\r\n     <g id=\"text_9\">\r\n      <!-- 2000 -->\r\n      <g transform=\"translate(334.095699 254.356563)scale(0.1 -0.1)\">\r\n       <use xlink:href=\"#DejaVuSans-50\"/>\r\n       <use x=\"63.623047\" xlink:href=\"#DejaVuSans-48\"/>\r\n       <use x=\"127.246094\" xlink:href=\"#DejaVuSans-48\"/>\r\n       <use x=\"190.869141\" xlink:href=\"#DejaVuSans-48\"/>\r\n      </g>\r\n     </g>\r\n    </g>\r\n   </g>\r\n   <g id=\"matplotlib.axis_2\">\r\n    <g id=\"ytick_1\">\r\n     <g id=\"line2d_10\">\r\n      <defs>\r\n       <path d=\"M 0 0 \r\nL -3.5 0 \r\n\" id=\"m33abf689b1\" style=\"stroke:#000000;stroke-width:0.8;\"/>\r\n      </defs>\r\n      <g>\r\n       <use style=\"stroke:#000000;stroke-width:0.8;\" x=\"30.103125\" xlink:href=\"#m33abf689b1\" y=\"229.874489\"/>\r\n      </g>\r\n     </g>\r\n     <g id=\"text_10\">\r\n      <!-- 0.0 -->\r\n      <defs>\r\n       <path d=\"M 10.6875 12.40625 \r\nL 21 12.40625 \r\nL 21 0 \r\nL 10.6875 0 \r\nz\r\n\" id=\"DejaVuSans-46\"/>\r\n      </defs>\r\n      <g transform=\"translate(7.2 233.673707)scale(0.1 -0.1)\">\r\n       <use xlink:href=\"#DejaVuSans-48\"/>\r\n       <use x=\"63.623047\" xlink:href=\"#DejaVuSans-46\"/>\r\n       <use x=\"95.410156\" xlink:href=\"#DejaVuSans-48\"/>\r\n      </g>\r\n     </g>\r\n    </g>\r\n    <g id=\"ytick_2\">\r\n     <g id=\"line2d_11\">\r\n      <g>\r\n       <use style=\"stroke:#000000;stroke-width:0.8;\" x=\"30.103125\" xlink:href=\"#m33abf689b1\" y=\"201.477315\"/>\r\n      </g>\r\n     </g>\r\n     <g id=\"text_11\">\r\n      <!-- 0.1 -->\r\n      <g transform=\"translate(7.2 205.276533)scale(0.1 -0.1)\">\r\n       <use xlink:href=\"#DejaVuSans-48\"/>\r\n       <use x=\"63.623047\" xlink:href=\"#DejaVuSans-46\"/>\r\n       <use x=\"95.410156\" xlink:href=\"#DejaVuSans-49\"/>\r\n      </g>\r\n     </g>\r\n    </g>\r\n    <g id=\"ytick_3\">\r\n     <g id=\"line2d_12\">\r\n      <g>\r\n       <use style=\"stroke:#000000;stroke-width:0.8;\" x=\"30.103125\" xlink:href=\"#m33abf689b1\" y=\"173.080141\"/>\r\n      </g>\r\n     </g>\r\n     <g id=\"text_12\">\r\n      <!-- 0.2 -->\r\n      <g transform=\"translate(7.2 176.879359)scale(0.1 -0.1)\">\r\n       <use xlink:href=\"#DejaVuSans-48\"/>\r\n       <use x=\"63.623047\" xlink:href=\"#DejaVuSans-46\"/>\r\n       <use x=\"95.410156\" xlink:href=\"#DejaVuSans-50\"/>\r\n      </g>\r\n     </g>\r\n    </g>\r\n    <g id=\"ytick_4\">\r\n     <g id=\"line2d_13\">\r\n      <g>\r\n       <use style=\"stroke:#000000;stroke-width:0.8;\" x=\"30.103125\" xlink:href=\"#m33abf689b1\" y=\"144.682967\"/>\r\n      </g>\r\n     </g>\r\n     <g id=\"text_13\">\r\n      <!-- 0.3 -->\r\n      <defs>\r\n       <path d=\"M 40.578125 39.3125 \r\nQ 47.65625 37.796875 51.625 33 \r\nQ 55.609375 28.21875 55.609375 21.1875 \r\nQ 55.609375 10.40625 48.1875 4.484375 \r\nQ 40.765625 -1.421875 27.09375 -1.421875 \r\nQ 22.515625 -1.421875 17.65625 -0.515625 \r\nQ 12.796875 0.390625 7.625 2.203125 \r\nL 7.625 11.71875 \r\nQ 11.71875 9.328125 16.59375 8.109375 \r\nQ 21.484375 6.890625 26.8125 6.890625 \r\nQ 36.078125 6.890625 40.9375 10.546875 \r\nQ 45.796875 14.203125 45.796875 21.1875 \r\nQ 45.796875 27.640625 41.28125 31.265625 \r\nQ 36.765625 34.90625 28.71875 34.90625 \r\nL 20.21875 34.90625 \r\nL 20.21875 43.015625 \r\nL 29.109375 43.015625 \r\nQ 36.375 43.015625 40.234375 45.921875 \r\nQ 44.09375 48.828125 44.09375 54.296875 \r\nQ 44.09375 59.90625 40.109375 62.90625 \r\nQ 36.140625 65.921875 28.71875 65.921875 \r\nQ 24.65625 65.921875 20.015625 65.03125 \r\nQ 15.375 64.15625 9.8125 62.3125 \r\nL 9.8125 71.09375 \r\nQ 15.4375 72.65625 20.34375 73.4375 \r\nQ 25.25 74.21875 29.59375 74.21875 \r\nQ 40.828125 74.21875 47.359375 69.109375 \r\nQ 53.90625 64.015625 53.90625 55.328125 \r\nQ 53.90625 49.265625 50.4375 45.09375 \r\nQ 46.96875 40.921875 40.578125 39.3125 \r\nz\r\n\" id=\"DejaVuSans-51\"/>\r\n      </defs>\r\n      <g transform=\"translate(7.2 148.482185)scale(0.1 -0.1)\">\r\n       <use xlink:href=\"#DejaVuSans-48\"/>\r\n       <use x=\"63.623047\" xlink:href=\"#DejaVuSans-46\"/>\r\n       <use x=\"95.410156\" xlink:href=\"#DejaVuSans-51\"/>\r\n      </g>\r\n     </g>\r\n    </g>\r\n    <g id=\"ytick_5\">\r\n     <g id=\"line2d_14\">\r\n      <g>\r\n       <use style=\"stroke:#000000;stroke-width:0.8;\" x=\"30.103125\" xlink:href=\"#m33abf689b1\" y=\"116.285793\"/>\r\n      </g>\r\n     </g>\r\n     <g id=\"text_14\">\r\n      <!-- 0.4 -->\r\n      <defs>\r\n       <path d=\"M 37.796875 64.3125 \r\nL 12.890625 25.390625 \r\nL 37.796875 25.390625 \r\nz\r\nM 35.203125 72.90625 \r\nL 47.609375 72.90625 \r\nL 47.609375 25.390625 \r\nL 58.015625 25.390625 \r\nL 58.015625 17.1875 \r\nL 47.609375 17.1875 \r\nL 47.609375 0 \r\nL 37.796875 0 \r\nL 37.796875 17.1875 \r\nL 4.890625 17.1875 \r\nL 4.890625 26.703125 \r\nz\r\n\" id=\"DejaVuSans-52\"/>\r\n      </defs>\r\n      <g transform=\"translate(7.2 120.085011)scale(0.1 -0.1)\">\r\n       <use xlink:href=\"#DejaVuSans-48\"/>\r\n       <use x=\"63.623047\" xlink:href=\"#DejaVuSans-46\"/>\r\n       <use x=\"95.410156\" xlink:href=\"#DejaVuSans-52\"/>\r\n      </g>\r\n     </g>\r\n    </g>\r\n    <g id=\"ytick_6\">\r\n     <g id=\"line2d_15\">\r\n      <g>\r\n       <use style=\"stroke:#000000;stroke-width:0.8;\" x=\"30.103125\" xlink:href=\"#m33abf689b1\" y=\"87.888619\"/>\r\n      </g>\r\n     </g>\r\n     <g id=\"text_15\">\r\n      <!-- 0.5 -->\r\n      <g transform=\"translate(7.2 91.687837)scale(0.1 -0.1)\">\r\n       <use xlink:href=\"#DejaVuSans-48\"/>\r\n       <use x=\"63.623047\" xlink:href=\"#DejaVuSans-46\"/>\r\n       <use x=\"95.410156\" xlink:href=\"#DejaVuSans-53\"/>\r\n      </g>\r\n     </g>\r\n    </g>\r\n    <g id=\"ytick_7\">\r\n     <g id=\"line2d_16\">\r\n      <g>\r\n       <use style=\"stroke:#000000;stroke-width:0.8;\" x=\"30.103125\" xlink:href=\"#m33abf689b1\" y=\"59.491445\"/>\r\n      </g>\r\n     </g>\r\n     <g id=\"text_16\">\r\n      <!-- 0.6 -->\r\n      <defs>\r\n       <path d=\"M 33.015625 40.375 \r\nQ 26.375 40.375 22.484375 35.828125 \r\nQ 18.609375 31.296875 18.609375 23.390625 \r\nQ 18.609375 15.53125 22.484375 10.953125 \r\nQ 26.375 6.390625 33.015625 6.390625 \r\nQ 39.65625 6.390625 43.53125 10.953125 \r\nQ 47.40625 15.53125 47.40625 23.390625 \r\nQ 47.40625 31.296875 43.53125 35.828125 \r\nQ 39.65625 40.375 33.015625 40.375 \r\nz\r\nM 52.59375 71.296875 \r\nL 52.59375 62.3125 \r\nQ 48.875 64.0625 45.09375 64.984375 \r\nQ 41.3125 65.921875 37.59375 65.921875 \r\nQ 27.828125 65.921875 22.671875 59.328125 \r\nQ 17.53125 52.734375 16.796875 39.40625 \r\nQ 19.671875 43.65625 24.015625 45.921875 \r\nQ 28.375 48.1875 33.59375 48.1875 \r\nQ 44.578125 48.1875 50.953125 41.515625 \r\nQ 57.328125 34.859375 57.328125 23.390625 \r\nQ 57.328125 12.15625 50.6875 5.359375 \r\nQ 44.046875 -1.421875 33.015625 -1.421875 \r\nQ 20.359375 -1.421875 13.671875 8.265625 \r\nQ 6.984375 17.96875 6.984375 36.375 \r\nQ 6.984375 53.65625 15.1875 63.9375 \r\nQ 23.390625 74.21875 37.203125 74.21875 \r\nQ 40.921875 74.21875 44.703125 73.484375 \r\nQ 48.484375 72.75 52.59375 71.296875 \r\nz\r\n\" id=\"DejaVuSans-54\"/>\r\n      </defs>\r\n      <g transform=\"translate(7.2 63.290663)scale(0.1 -0.1)\">\r\n       <use xlink:href=\"#DejaVuSans-48\"/>\r\n       <use x=\"63.623047\" xlink:href=\"#DejaVuSans-46\"/>\r\n       <use x=\"95.410156\" xlink:href=\"#DejaVuSans-54\"/>\r\n      </g>\r\n     </g>\r\n    </g>\r\n    <g id=\"ytick_8\">\r\n     <g id=\"line2d_17\">\r\n      <g>\r\n       <use style=\"stroke:#000000;stroke-width:0.8;\" x=\"30.103125\" xlink:href=\"#m33abf689b1\" y=\"31.094271\"/>\r\n      </g>\r\n     </g>\r\n     <g id=\"text_17\">\r\n      <!-- 0.7 -->\r\n      <g transform=\"translate(7.2 34.893489)scale(0.1 -0.1)\">\r\n       <use xlink:href=\"#DejaVuSans-48\"/>\r\n       <use x=\"63.623047\" xlink:href=\"#DejaVuSans-46\"/>\r\n       <use x=\"95.410156\" xlink:href=\"#DejaVuSans-55\"/>\r\n      </g>\r\n     </g>\r\n    </g>\r\n   </g>\r\n   <g id=\"line2d_18\">\r\n    <path clip-path=\"url(#p1c0ee04cc7)\" d=\"M 45.321307 47.00605 \r\nL 45.472057 41.265365 \r\nL 45.924306 38.210639 \r\nL 46.075055 38.239972 \r\nL 46.225805 37.477336 \r\nL 46.376555 37.854465 \r\nL 46.678054 37.188205 \r\nL 46.828804 37.184024 \r\nL 47.130303 37.00383 \r\nL 47.281053 36.869742 \r\nL 47.431803 37.049936 \r\nL 47.582552 36.87812 \r\nL 47.733302 36.932605 \r\nL 47.884052 36.647655 \r\nL 48.034801 36.852985 \r\nL 48.185551 36.41719 \r\nL 48.336301 36.714699 \r\nL 48.6378 36.526143 \r\nL 48.78855 36.396236 \r\nL 48.9393 36.66861 \r\nL 49.090049 36.568052 \r\nL 49.391549 36.773365 \r\nL 49.542298 36.538719 \r\nL 49.693048 36.630898 \r\nL 49.843798 36.182545 \r\nL 49.994547 36.505189 \r\nL 50.296047 36.237013 \r\nL 50.446796 36.350146 \r\nL 50.597546 36.274724 \r\nL 50.748296 36.392055 \r\nL 50.899046 36.350146 \r\nL 51.049795 35.901793 \r\nL 51.200545 36.266345 \r\nL 51.351295 36.00235 \r\nL 51.502044 36.325011 \r\nL 51.652794 35.960458 \r\nL 51.954293 36.597385 \r\nL 52.105043 36.123879 \r\nL 52.557292 36.253769 \r\nL 52.708042 36.086168 \r\nL 52.858792 36.429766 \r\nL 53.009541 36.320813 \r\nL 53.160291 36.044259 \r\nL 53.46179 36.178347 \r\nL 53.61254 36.136438 \r\nL 53.76329 36.253769 \r\nL 54.064789 35.998169 \r\nL 54.517038 35.859884 \r\nL 54.667788 36.149014 \r\nL 54.818538 36.136438 \r\nL 54.969287 35.95208 \r\nL 55.120037 35.947882 \r\nL 55.421536 36.107122 \r\nL 55.723036 35.889217 \r\nL 56.024535 36.031683 \r\nL 56.175285 35.868262 \r\nL 56.326035 35.964639 \r\nL 56.476784 35.62104 \r\nL 56.627534 36.199301 \r\nL 56.778284 35.918549 \r\nL 57.079783 36.019124 \r\nL 57.230533 35.960458 \r\nL 57.381283 36.056835 \r\nL 57.532032 35.675508 \r\nL 57.833532 35.947882 \r\nL 57.984281 35.943684 \r\nL 58.135031 36.12806 \r\nL 58.285781 35.859884 \r\nL 58.73803 35.797037 \r\nL 58.888779 35.910171 \r\nL 59.039529 35.82637 \r\nL 59.341029 35.851505 \r\nL 59.491778 35.45762 \r\nL 59.944027 36.16159 \r\nL 60.094777 35.662949 \r\nL 60.245527 35.725796 \r\nL 60.547026 35.461817 \r\nL 60.697776 35.943684 \r\nL 61.150025 35.465998 \r\nL 61.451524 35.956261 \r\nL 61.903773 35.74675 \r\nL 62.054523 35.960458 \r\nL 62.205273 35.671328 \r\nL 62.356022 35.742552 \r\nL 62.506772 35.45762 \r\nL 62.808272 35.742552 \r\nL 62.959021 35.780264 \r\nL 63.109771 35.646176 \r\nL 63.260521 35.830551 \r\nL 63.41127 35.45762 \r\nL 63.71277 35.679706 \r\nL 63.863519 35.499528 \r\nL 64.466518 35.74675 \r\nL 64.918767 35.495331 \r\nL 65.371016 35.683887 \r\nL 65.823265 35.398954 \r\nL 65.974015 35.45762 \r\nL 66.124765 35.641995 \r\nL 66.275515 35.264866 \r\nL 66.426264 35.654571 \r\nL 66.727764 35.641995 \r\nL 66.878513 35.520466 \r\nL 67.029263 35.579132 \r\nL 67.180013 35.503709 \r\nL 67.330762 35.654571 \r\nL 67.481512 35.243911 \r\nL 67.783012 35.528861 \r\nL 67.933761 35.361243 \r\nL 68.084511 35.507907 \r\nL 68.38601 35.197822 \r\nL 68.53676 35.570753 \r\nL 68.989009 35.524664 \r\nL 69.139759 35.361243 \r\nL 69.441258 35.512088 \r\nL 69.592008 35.53724 \r\nL 69.893507 35.449241 \r\nL 70.044257 35.528861 \r\nL 70.345756 35.273244 \r\nL 70.496506 35.361243 \r\nL 70.647256 35.595905 \r\nL 70.798005 35.373819 \r\nL 71.099505 35.562375 \r\nL 71.401004 35.143354 \r\nL 71.551754 35.327712 \r\nL 71.702504 35.160111 \r\nL 72.154753 35.407332 \r\nL 72.456252 35.172687 \r\nL 72.607002 35.390576 \r\nL 73.059251 35.093067 \r\nL 73.210001 35.415711 \r\nL 73.36075 35.093067 \r\nL 73.66225 35.264866 \r\nL 73.963749 35.105643 \r\nL 74.114499 35.088869 \r\nL 74.265248 35.470196 \r\nL 74.415998 35.28582 \r\nL 74.566748 35.369621 \r\nL 74.868247 35.155913 \r\nL 75.018997 35.147535 \r\nL 75.169747 35.336108 \r\nL 75.320496 35.055355 \r\nL 75.772745 35.222957 \r\nL 75.923495 35.009266 \r\nL 76.375744 35.45762 \r\nL 76.526494 34.975735 \r\nL 76.677244 35.038599 \r\nL 76.827993 34.862602 \r\nL 77.430992 35.080491 \r\nL 77.732491 35.084688 \r\nL 77.883241 35.118202 \r\nL 78.184741 34.812314 \r\nL 78.33549 35.118202 \r\nL 78.63699 34.938024 \r\nL 78.787739 34.824891 \r\nL 79.089239 34.979933 \r\nL 79.239988 35.281623 \r\nL 79.390738 34.862602 \r\nL 79.541488 35.114021 \r\nL 79.842987 34.891935 \r\nL 79.993737 34.975735 \r\nL 80.144487 34.782982 \r\nL 80.295236 35.168489 \r\nL 80.445986 34.782982 \r\nL 80.596736 35.143354 \r\nL 80.898235 34.87098 \r\nL 81.048985 35.168489 \r\nL 81.350484 34.963159 \r\nL 81.501234 34.958979 \r\nL 81.651984 35.164291 \r\nL 81.802733 34.963159 \r\nL 81.953483 35.07631 \r\nL 82.707231 34.782982 \r\nL 82.857981 34.967357 \r\nL 83.008731 34.904494 \r\nL 83.159481 35.172687 \r\nL 83.46098 34.845845 \r\nL 83.762479 35.013447 \r\nL 83.913229 34.682424 \r\nL 84.063979 34.820693 \r\nL 84.365478 34.657272 \r\nL 84.516228 34.824891 \r\nL 84.666977 34.636318 \r\nL 84.817727 34.845845 \r\nL 84.968477 34.741073 \r\nL 85.269976 35.013447 \r\nL 85.722225 34.732694 \r\nL 85.872975 34.820693 \r\nL 86.023725 34.590228 \r\nL 86.174474 34.866782 \r\nL 86.475974 34.845845 \r\nL 86.626724 34.858404 \r\nL 86.777473 34.703362 \r\nL 87.078973 34.875161 \r\nL 87.229722 34.66565 \r\nL 87.380472 34.99669 \r\nL 87.531222 34.9506 \r\nL 87.832721 34.674029 \r\nL 88.134221 34.648894 \r\nL 88.43572 34.829071 \r\nL 88.58647 34.615363 \r\nL 88.887969 34.87098 \r\nL 89.038719 34.678226 \r\nL 89.340218 35.005068 \r\nL 89.641717 34.741073 \r\nL 89.792467 34.766225 \r\nL 90.093967 34.623758 \r\nL 90.244716 34.602804 \r\nL 90.395466 34.875161 \r\nL 90.546216 34.594426 \r\nL 90.696965 34.565093 \r\nL 90.847715 34.393294 \r\nL 91.149214 35.055355 \r\nL 91.299964 34.464518 \r\nL 91.450714 34.803936 \r\nL 91.601464 34.48967 \r\nL 91.752213 34.774603 \r\nL 92.053713 34.45614 \r\nL 92.204462 34.447762 \r\nL 92.505962 34.829071 \r\nL 92.958211 34.586047 \r\nL 93.10896 34.498049 \r\nL 93.25971 34.896115 \r\nL 93.56121 34.380718 \r\nL 93.711959 34.925448 \r\nL 94.013459 34.431005 \r\nL 94.314958 34.732694 \r\nL 94.616457 34.686605 \r\nL 94.767207 34.862602 \r\nL 95.068707 34.619561 \r\nL 95.370206 34.510608 \r\nL 95.973205 34.669848 \r\nL 96.123954 34.401672 \r\nL 96.576203 34.552517 \r\nL 96.726953 34.288521 \r\nL 96.877703 34.632137 \r\nL 97.179202 34.384898 \r\nL 97.631451 34.833269 \r\nL 97.782201 34.518986 \r\nL 98.0837 34.606985 \r\nL 98.3852 34.569274 \r\nL 98.53595 34.686605 \r\nL 98.686699 34.565093 \r\nL 98.837449 34.858404 \r\nL 99.138948 34.393294 \r\nL 99.289698 34.284341 \r\nL 99.440448 34.45614 \r\nL 99.591197 34.175388 \r\nL 99.892697 34.569274 \r\nL 100.043446 34.586047 \r\nL 100.194196 34.724316 \r\nL 100.344946 34.317854 \r\nL 100.495696 34.753649 \r\nL 100.646445 34.363961 \r\nL 100.797195 34.359763 \r\nL 100.947945 34.481275 \r\nL 101.098694 34.389096 \r\nL 101.249444 34.468716 \r\nL 101.400194 34.326233 \r\nL 101.550943 34.606985 \r\nL 101.701693 34.414231 \r\nL 102.153942 34.389096 \r\nL 102.304692 34.66147 \r\nL 102.455442 34.401672 \r\nL 102.606191 34.598606 \r\nL 102.756941 34.363961 \r\nL 102.907691 34.518986 \r\nL 103.05844 34.204721 \r\nL 103.20919 34.45614 \r\nL 103.35994 34.167009 \r\nL 103.51069 34.468716 \r\nL 103.661439 34.397474 \r\nL 103.812189 34.129298 \r\nL 104.264438 34.674029 \r\nL 104.415188 34.569274 \r\nL 104.565937 34.674029 \r\nL 104.716687 34.37652 \r\nL 105.168936 34.405853 \r\nL 105.319686 34.586047 \r\nL 105.621185 34.217297 \r\nL 105.771935 34.389096 \r\nL 105.922685 34.162812 \r\nL 106.073434 34.167009 \r\nL 106.224184 34.405853 \r\nL 106.676433 34.292719 \r\nL 106.827183 34.129298 \r\nL 107.128682 34.636318 \r\nL 107.279432 34.426807 \r\nL 107.580931 34.594426 \r\nL 107.882431 34.225675 \r\nL 108.03318 34.640515 \r\nL 108.33468 34.393294 \r\nL 108.636179 34.539941 \r\nL 108.786929 34.196342 \r\nL 109.088428 34.460338 \r\nL 109.239178 34.288521 \r\nL 109.540677 34.699181 \r\nL 109.691427 34.288521 \r\nL 109.842177 34.531562 \r\nL 109.992926 34.351385 \r\nL 110.445176 34.45614 \r\nL 110.595925 34.749468 \r\nL 110.897425 34.229873 \r\nL 111.198924 34.263386 \r\nL 111.500423 34.070633 \r\nL 111.651173 34.07483 \r\nL 111.952672 34.280143 \r\nL 113.00792 34.393294 \r\nL 113.15867 34.146055 \r\nL 113.761669 34.623758 \r\nL 113.912419 34.171207 \r\nL 114.063168 34.510608 \r\nL 114.213918 33.991012 \r\nL 114.364668 34.091587 \r\nL 114.515417 34.41005 \r\nL 114.666167 34.422609 \r\nL 114.816917 34.255008 \r\nL 114.967666 34.292719 \r\nL 115.118416 34.531562 \r\nL 115.419915 33.991012 \r\nL 116.022914 34.48967 \r\nL 116.324414 34.292719 \r\nL 116.475163 34.472897 \r\nL 116.776663 34.045497 \r\nL 116.927412 34.326233 \r\nL 117.228912 33.991012 \r\nL 117.379662 34.368141 \r\nL 117.98266 34.141874 \r\nL 118.13341 34.447762 \r\nL 118.28416 34.242432 \r\nL 118.434909 34.514806 \r\nL 118.585659 34.242432 \r\nL 118.887158 34.560895 \r\nL 119.037908 34.221477 \r\nL 119.339408 34.317854 \r\nL 119.490157 34.263386 \r\nL 119.640907 34.016165 \r\nL 119.942406 34.305295 \r\nL 120.093156 34.397474 \r\nL 120.243906 34.234053 \r\nL 120.394655 34.305295 \r\nL 120.545405 34.167009 \r\nL 120.696155 34.468716 \r\nL 120.846905 34.037119 \r\nL 121.299154 34.355565 \r\nL 121.449903 33.99521 \r\nL 121.751403 34.33043 \r\nL 122.052902 33.919788 \r\nL 122.354402 34.267584 \r\nL 122.505151 34.045497 \r\nL 122.655901 34.213099 \r\nL 122.806651 33.970058 \r\nL 123.10815 34.468716 \r\nL 123.2589 34.011967 \r\nL 123.409649 34.007786 \r\nL 123.711149 34.221477 \r\nL 123.861898 33.982634 \r\nL 124.012648 34.422609 \r\nL 124.314148 34.091587 \r\nL 124.464897 34.460338 \r\nL 124.615647 34.053876 \r\nL 124.766397 34.003589 \r\nL 125.520145 34.351385 \r\nL 125.670895 34.070633 \r\nL 125.821645 34.368141 \r\nL 125.972394 34.414231 \r\nL 126.273894 33.777321 \r\nL 126.424643 34.326233 \r\nL 126.575393 34.380718 \r\nL 126.876892 33.940742 \r\nL 127.178392 34.493851 \r\nL 127.329141 33.70608 \r\nL 127.479891 34.301097 \r\nL 127.630641 33.953301 \r\nL 127.781391 34.20054 \r\nL 128.08289 33.777321 \r\nL 128.23364 34.284341 \r\nL 128.384389 34.125101 \r\nL 128.685889 34.162812 \r\nL 128.836638 33.936545 \r\nL 128.987388 34.284341 \r\nL 129.138138 34.255008 \r\nL 129.439637 33.932347 \r\nL 129.590387 33.99521 \r\nL 129.741137 34.418429 \r\nL 129.891886 34.091587 \r\nL 130.042636 34.271765 \r\nL 130.344135 34.007786 \r\nL 130.494885 33.970058 \r\nL 130.645635 34.167009 \r\nL 130.947134 33.877879 \r\nL 131.097884 34.028724 \r\nL 131.248634 33.903014 \r\nL 131.399383 33.974256 \r\nL 131.550133 33.886257 \r\nL 131.700883 34.116722 \r\nL 131.851632 34.141874 \r\nL 132.303881 33.798259 \r\nL 132.454631 33.919788 \r\nL 132.605381 34.41005 \r\nL 132.756131 33.957499 \r\nL 133.05763 33.982634 \r\nL 133.509879 34.196342 \r\nL 133.660629 33.911409 \r\nL 133.811378 34.099965 \r\nL 133.962128 33.756367 \r\nL 134.263627 34.305295 \r\nL 134.565127 33.764745 \r\nL 134.715877 34.259189 \r\nL 134.866626 34.196342 \r\nL 135.017376 33.844365 \r\nL 135.168126 34.468716 \r\nL 135.469625 34.137677 \r\nL 135.620375 34.523184 \r\nL 135.921874 33.727034 \r\nL 136.223374 34.288521 \r\nL 136.374123 34.020345 \r\nL 136.675623 34.213099 \r\nL 136.977122 33.735412 \r\nL 137.127872 34.141874 \r\nL 137.429371 34.091587 \r\nL 137.88162 34.125101 \r\nL 138.03237 33.919788 \r\nL 138.18312 33.919788 \r\nL 138.333869 34.0413 \r\nL 138.484619 33.944923 \r\nL 138.936868 34.12092 \r\nL 139.087618 34.003589 \r\nL 139.238367 34.158631 \r\nL 139.389117 34.037119 \r\nL 139.539867 33.756367 \r\nL 139.690617 34.049678 \r\nL 139.992116 33.739593 \r\nL 140.142866 34.192145 \r\nL 140.444365 33.911409 \r\nL 140.745864 34.133496 \r\nL 140.896614 33.735412 \r\nL 141.047364 34.183766 \r\nL 141.650363 33.970058 \r\nL 141.951862 34.12092 \r\nL 142.102612 33.70608 \r\nL 142.253361 34.175388 \r\nL 142.404111 34.062254 \r\nL 142.554861 33.794078 \r\nL 142.70561 33.840168 \r\nL 142.85636 34.234053 \r\nL 143.00711 33.756367 \r\nL 143.308609 33.827592 \r\nL 143.459359 34.255008 \r\nL 143.911608 33.856924 \r\nL 144.062358 34.116722 \r\nL 144.213107 33.676747 \r\nL 144.363857 34.158631 \r\nL 144.514607 33.957499 \r\nL 144.665357 34.007786 \r\nL 144.816106 33.903014 \r\nL 144.966856 34.07483 \r\nL 145.117606 34.07483 \r\nL 145.268355 33.798259 \r\nL 145.871354 33.856924 \r\nL 146.022104 33.815033 \r\nL 146.172853 33.639036 \r\nL 146.323603 34.037119 \r\nL 146.474353 33.856924 \r\nL 146.625103 33.907212 \r\nL 146.775852 34.20054 \r\nL 146.926602 33.877879 \r\nL 147.228101 34.062254 \r\nL 147.378851 33.848546 \r\nL 147.529601 34.137677 \r\nL 147.68035 33.664171 \r\nL 148.1326 33.982634 \r\nL 148.283349 34.020345 \r\nL 148.434099 33.936545 \r\nL 148.584849 33.576172 \r\nL 148.735598 33.978453 \r\nL 149.037098 33.886257 \r\nL 149.187847 33.991012 \r\nL 149.489347 33.865303 \r\nL 149.790846 33.676747 \r\nL 150.092346 34.213099 \r\nL 150.243095 33.634838 \r\nL 150.393845 33.932347 \r\nL 150.846094 33.882077 \r\nL 150.996844 33.601324 \r\nL 151.298343 33.815033 \r\nL 151.599843 33.865303 \r\nL 151.750592 34.112541 \r\nL 151.901342 33.936545 \r\nL 152.052092 33.970058 \r\nL 152.353591 33.546839 \r\nL 152.504341 33.643216 \r\nL 152.65509 33.936545 \r\nL 153.258089 33.91559 \r\nL 153.559589 33.718656 \r\nL 153.710338 33.856924 \r\nL 153.861088 33.777321 \r\nL 154.162587 33.890455 \r\nL 154.313337 33.777321 \r\nL 154.464087 34.183766 \r\nL 154.765586 33.685125 \r\nL 155.067086 34.125101 \r\nL 155.217835 33.781502 \r\nL 155.368585 33.852744 \r\nL 155.519335 33.630657 \r\nL 155.670084 33.953301 \r\nL 156.122333 33.856924 \r\nL 156.273083 33.605505 \r\nL 156.423833 34.007786 \r\nL 156.574583 33.747988 \r\nL 157.026832 33.978453 \r\nL 157.177581 33.907212 \r\nL 157.328331 33.609703 \r\nL 157.479081 34.167009 \r\nL 157.62983 33.592946 \r\nL 157.78058 33.949121 \r\nL 157.93133 33.768926 \r\nL 158.082079 34.032921 \r\nL 158.232829 33.634838 \r\nL 158.534329 34.045497 \r\nL 158.685078 33.768926 \r\nL 158.835828 33.773124 \r\nL 159.137327 33.944923 \r\nL 159.288077 33.919788 \r\nL 159.438827 33.58037 \r\nL 159.589576 33.668368 \r\nL 159.740326 33.919788 \r\nL 159.891076 33.563613 \r\nL 160.192575 33.944923 \r\nL 160.343325 33.597127 \r\nL 160.494075 34.053876 \r\nL 160.644824 34.011967 \r\nL 160.946324 33.634838 \r\nL 161.097073 34.141874 \r\nL 161.247823 33.953301 \r\nL 161.398573 33.446282 \r\nL 161.700072 34.066435 \r\nL 161.850822 33.70608 \r\nL 162.001572 33.810835 \r\nL 162.152321 33.525902 \r\nL 162.303071 33.773124 \r\nL 162.453821 33.555235 \r\nL 162.60457 33.911409 \r\nL 162.75532 33.45466 \r\nL 162.90607 33.890455 \r\nL 163.056819 33.680944 \r\nL 163.509069 33.735412 \r\nL 163.810568 33.676747 \r\nL 164.262817 34.058057 \r\nL 164.413567 33.542659 \r\nL 164.564316 33.483993 \r\nL 164.865816 33.743791 \r\nL 165.016565 33.634838 \r\nL 165.318065 33.861122 \r\nL 165.468815 33.605505 \r\nL 165.770314 33.815033 \r\nL 165.921064 33.756367 \r\nL 166.071813 33.970058 \r\nL 166.524062 33.463039 \r\nL 166.674812 33.911409 \r\nL 166.825562 33.521704 \r\nL 166.976312 34.037119 \r\nL 167.127061 33.643216 \r\nL 167.277811 33.739593 \r\nL 167.428561 33.50075 \r\nL 167.57931 33.513326 \r\nL 167.73006 33.752169 \r\nL 167.88081 33.630657 \r\nL 168.031559 34.024543 \r\nL 168.182309 33.877879 \r\nL 168.333059 33.362481 \r\nL 168.483809 33.831789 \r\nL 168.634558 33.496569 \r\nL 168.785308 33.986832 \r\nL 168.936058 33.379238 \r\nL 169.086807 33.877879 \r\nL 169.237557 33.639036 \r\nL 169.539056 33.894636 \r\nL 169.689806 33.479795 \r\nL 169.840556 33.794078 \r\nL 169.991305 33.513326 \r\nL 170.292805 33.928166 \r\nL 170.443555 33.718656 \r\nL 170.745054 33.794078 \r\nL 170.895804 33.613884 \r\nL 171.046553 33.609703 \r\nL 171.197303 33.7857 \r\nL 171.348053 33.630657 \r\nL 171.498802 33.886257 \r\nL 171.649552 33.58037 \r\nL 171.951052 33.798259 \r\nL 172.101801 33.395995 \r\nL 172.252551 33.433706 \r\nL 172.403301 33.940742 \r\nL 172.55405 33.953301 \r\nL 172.7048 33.83597 \r\nL 172.85555 34.070633 \r\nL 173.006299 33.605505 \r\nL 173.307799 33.634838 \r\nL 173.458548 33.664171 \r\nL 173.609298 33.492372 \r\nL 173.760048 33.010487 \r\nL 173.910798 33.643216 \r\nL 174.061547 33.605505 \r\nL 174.212297 33.127819 \r\nL 174.513796 33.768926 \r\nL 174.815296 33.676747 \r\nL 174.966045 33.978453 \r\nL 175.116795 33.391814 \r\nL 175.267545 33.479795 \r\nL 175.418295 33.83597 \r\nL 175.569044 33.404373 \r\nL 175.870544 33.848546 \r\nL 176.021293 33.563613 \r\nL 176.172043 33.819213 \r\nL 176.322793 33.609703 \r\nL 176.473542 33.643216 \r\nL 176.624292 33.333148 \r\nL 176.775042 33.919788 \r\nL 176.925791 33.307996 \r\nL 177.076541 33.680944 \r\nL 177.378041 33.647414 \r\nL 177.52879 33.794078 \r\nL 177.67954 33.781502 \r\nL 177.83029 33.53428 \r\nL 177.981039 33.78988 \r\nL 178.131789 33.412751 \r\nL 178.433288 33.949121 \r\nL 178.584038 33.71026 \r\nL 178.885538 33.877879 \r\nL 179.036287 33.366662 \r\nL 179.187037 33.714458 \r\nL 179.337787 33.542659 \r\nL 179.488536 33.71026 \r\nL 179.639286 33.542659 \r\nL 179.790036 33.584568 \r\nL 179.940785 33.806637 \r\nL 180.091535 33.282861 \r\nL 180.242285 33.496569 \r\nL 180.393034 33.136197 \r\nL 180.543784 33.743791 \r\nL 180.694534 33.739593 \r\nL 180.845284 33.446282 \r\nL 180.996033 33.546839 \r\nL 181.146783 33.819213 \r\nL 181.297533 33.819213 \r\nL 181.448282 33.513326 \r\nL 181.599032 33.747988 \r\nL 181.749782 33.584568 \r\nL 181.900531 33.634838 \r\nL 182.051281 33.463039 \r\nL 182.202031 33.714458 \r\nL 182.50353 33.270285 \r\nL 182.65428 33.890455 \r\nL 182.80503 33.299618 \r\nL 182.955779 33.664171 \r\nL 183.106529 33.697701 \r\nL 183.257279 33.563613 \r\nL 183.408028 33.253528 \r\nL 183.558778 33.391814 \r\nL 183.709528 33.701882 \r\nL 183.860278 33.630657 \r\nL 184.011027 33.903014 \r\nL 184.161777 33.450463 \r\nL 184.463276 33.664171 \r\nL 184.614026 33.169727 \r\nL 184.764776 33.467236 \r\nL 184.915525 33.463039 \r\nL 185.066275 33.345707 \r\nL 185.217025 33.697701 \r\nL 185.367774 33.760548 \r\nL 185.518524 33.316375 \r\nL 185.669274 33.756367 \r\nL 185.820024 33.521704 \r\nL 185.970773 33.559416 \r\nL 186.121523 33.731215 \r\nL 186.272273 33.291239 \r\nL 186.423022 33.433706 \r\nL 186.573772 33.802456 \r\nL 186.875271 33.274483 \r\nL 187.026021 33.685125 \r\nL 187.327521 33.132016 \r\nL 187.47827 33.722836 \r\nL 187.62902 33.697701 \r\nL 187.77977 33.333148 \r\nL 187.930519 33.261907 \r\nL 188.081269 33.62646 \r\nL 188.533518 33.287042 \r\nL 188.684268 33.50075 \r\nL 188.835017 33.291239 \r\nL 188.985767 33.777321 \r\nL 189.136517 33.328951 \r\nL 189.438016 33.571992 \r\nL 189.588766 33.395995 \r\nL 189.739516 33.576172 \r\nL 189.890265 33.475615 \r\nL 190.041015 33.240952 \r\nL 190.191765 33.530083 \r\nL 190.342514 33.563613 \r\nL 190.493264 33.936545 \r\nL 190.794764 33.383419 \r\nL 191.096263 33.37504 \r\nL 191.247013 33.307996 \r\nL 191.548512 33.609703 \r\nL 191.699262 33.601324 \r\nL 192.000761 33.240952 \r\nL 192.151511 33.676747 \r\nL 192.30226 33.416949 \r\nL 192.45301 33.437904 \r\nL 192.60376 33.722836 \r\nL 192.75451 33.215817 \r\nL 192.905259 33.354086 \r\nL 193.056009 33.760548 \r\nL 193.206759 33.303815 \r\nL 193.508258 33.747988 \r\nL 193.809757 33.341527 \r\nL 194.111257 33.62646 \r\nL 194.412756 33.349905 \r\nL 194.714256 33.865303 \r\nL 195.015755 33.622279 \r\nL 195.317254 33.588748 \r\nL 195.468004 33.634838 \r\nL 195.618754 33.316375 \r\nL 195.769503 33.722836 \r\nL 195.920253 33.24515 \r\nL 196.071003 33.253528 \r\nL 196.221753 33.559416 \r\nL 196.372502 33.605505 \r\nL 196.523252 33.312194 \r\nL 196.824751 33.685125 \r\nL 197.126251 33.236771 \r\nL 197.277 33.442084 \r\nL 197.42775 33.877879 \r\nL 197.5785 33.395995 \r\nL 197.72925 33.651612 \r\nL 197.879999 33.366662 \r\nL 198.030749 33.634838 \r\nL 198.181499 33.571992 \r\nL 198.332248 33.848546 \r\nL 198.633748 33.400192 \r\nL 198.784497 33.689323 \r\nL 198.935247 33.379238 \r\nL 199.236747 33.387616 \r\nL 199.387496 33.140395 \r\nL 199.688996 33.542659 \r\nL 200.141245 33.559416 \r\nL 200.291994 33.291239 \r\nL 200.593494 33.668368 \r\nL 200.744243 33.463039 \r\nL 200.894993 33.546839 \r\nL 201.347242 33.132016 \r\nL 201.497992 33.592946 \r\nL 201.648742 33.194863 \r\nL 201.799491 33.307996 \r\nL 201.950241 33.24515 \r\nL 202.100991 33.731215 \r\nL 202.40249 33.19906 \r\nL 202.55324 33.45466 \r\nL 202.70399 33.37504 \r\nL 203.005489 33.714458 \r\nL 203.156239 33.551037 \r\nL 203.306988 33.186484 \r\nL 203.759237 33.513326 \r\nL 203.909987 33.24515 \r\nL 204.060737 33.664171 \r\nL 204.211486 33.257709 \r\nL 204.362236 33.253528 \r\nL 204.663736 33.819213 \r\nL 204.814485 33.429525 \r\nL 204.965235 33.429525 \r\nL 205.115985 33.064972 \r\nL 205.266734 33.471417 \r\nL 205.417484 33.056577 \r\nL 205.568234 33.136197 \r\nL 205.718983 33.70608 \r\nL 205.869733 33.349905 \r\nL 206.020483 33.450463 \r\nL 206.472732 33.345707 \r\nL 206.774231 33.634838 \r\nL 206.924981 33.157151 \r\nL 207.22648 33.45466 \r\nL 207.37723 33.689323 \r\nL 207.829479 33.341527 \r\nL 207.980229 33.433706 \r\nL 208.281728 33.190665 \r\nL 208.432478 33.777321 \r\nL 208.733977 33.219998 \r\nL 208.884727 33.282861 \r\nL 209.035477 33.106864 \r\nL 209.186226 33.391814 \r\nL 209.638476 33.320572 \r\nL 209.789225 33.458858 \r\nL 209.939975 33.115243 \r\nL 210.090725 33.563613 \r\nL 210.241474 33.50075 \r\nL 210.392224 33.228393 \r\nL 210.693723 33.634838 \r\nL 210.844473 33.24515 \r\nL 210.995223 33.806637 \r\nL 211.145972 33.416949 \r\nL 211.296722 33.425327 \r\nL 211.447472 33.576172 \r\nL 211.748971 33.400192 \r\nL 211.899721 33.32477 \r\nL 212.050471 33.693504 \r\nL 212.35197 33.203241 \r\nL 212.50272 33.475615 \r\nL 212.653469 33.416949 \r\nL 212.804219 33.551037 \r\nL 212.954969 33.123621 \r\nL 213.105719 33.442084 \r\nL 213.256468 33.320572 \r\nL 213.407218 33.488191 \r\nL 213.557968 33.16553 \r\nL 213.708717 33.408571 \r\nL 214.010217 33.182287 \r\nL 214.311716 33.433706 \r\nL 214.462466 33.140395 \r\nL 214.613216 33.358283 \r\nL 214.763965 33.203241 \r\nL 214.914715 33.316375 \r\nL 215.065465 33.613884 \r\nL 215.216214 33.219998 \r\nL 215.668463 33.03982 \r\nL 215.969963 33.341527 \r\nL 216.120712 33.37504 \r\nL 216.422212 33.08591 \r\nL 216.572962 33.559416 \r\nL 216.874461 33.115243 \r\nL 217.17596 33.379238 \r\nL 217.32671 33.395995 \r\nL 217.47746 33.056577 \r\nL 218.381958 33.442084 \r\nL 218.532708 33.094288 \r\nL 218.984957 33.479795 \r\nL 219.135706 33.115243 \r\nL 219.587955 33.416949 \r\nL 219.738705 33.144575 \r\nL 219.889455 33.316375 \r\nL 220.040205 33.274483 \r\nL 220.190954 33.496569 \r\nL 220.492454 33.349905 \r\nL 220.643203 33.647414 \r\nL 220.793953 33.136197 \r\nL 220.944703 33.127819 \r\nL 221.095452 32.951822 \r\nL 221.246202 33.224195 \r\nL 221.698451 32.989533 \r\nL 221.999951 33.328951 \r\nL 222.1507 33.090107 \r\nL 222.30145 33.727034 \r\nL 222.602949 33.002109 \r\nL 222.753699 33.127819 \r\nL 222.904449 33.069153 \r\nL 223.055198 33.207439 \r\nL 223.205948 33.157151 \r\nL 223.356698 32.800977 \r\nL 223.658197 33.362481 \r\nL 223.959697 32.83031 \r\nL 224.110446 33.408571 \r\nL 224.261196 32.805158 \r\nL 224.562695 33.316375 \r\nL 224.864195 33.437904 \r\nL 225.165694 33.08591 \r\nL 225.316444 33.148773 \r\nL 225.467194 32.9602 \r\nL 225.919443 33.400192 \r\nL 226.070192 33.307996 \r\nL 226.220942 33.044018 \r\nL 226.522441 33.249331 \r\nL 226.673191 33.16553 \r\nL 226.823941 32.880597 \r\nL 227.12544 33.337329 \r\nL 227.42694 33.140395 \r\nL 227.879189 33.609703 \r\nL 228.180688 33.287042 \r\nL 228.482188 33.182287 \r\nL 228.632937 33.287042 \r\nL 228.934437 33.169727 \r\nL 229.085186 32.733933 \r\nL 229.235936 32.985352 \r\nL 229.386686 32.683646 \r\nL 229.688185 33.219998 \r\nL 229.989685 33.069153 \r\nL 230.140434 33.190665 \r\nL 230.291184 33.064972 \r\nL 230.441934 33.178106 \r\nL 230.592683 32.855445 \r\nL 230.743433 33.739593 \r\nL 230.894183 33.123621 \r\nL 231.798681 33.232574 \r\nL 231.949431 32.809355 \r\nL 232.25093 33.32477 \r\nL 232.40168 33.144575 \r\nL 232.552429 33.379238 \r\nL 232.853929 33.232574 \r\nL 233.155428 33.157151 \r\nL 233.306178 33.253528 \r\nL 233.456928 33.53428 \r\nL 233.758427 32.838688 \r\nL 233.909177 33.278663 \r\nL 234.059926 33.24515 \r\nL 234.210676 33.333148 \r\nL 234.512175 32.83449 \r\nL 234.813675 33.249331 \r\nL 234.964424 32.939263 \r\nL 235.115174 33.144575 \r\nL 235.265924 33.035639 \r\nL 235.416674 33.299618 \r\nL 235.567423 33.215817 \r\nL 235.718173 32.997911 \r\nL 236.019672 33.178106 \r\nL 236.170422 33.173908 \r\nL 236.321172 33.358283 \r\nL 236.471921 32.985352 \r\nL 236.622671 33.354086 \r\nL 236.924171 33.111062 \r\nL 237.07492 33.471417 \r\nL 237.527169 32.935065 \r\nL 237.677919 33.400192 \r\nL 237.828669 33.169727 \r\nL 237.979418 33.194863 \r\nL 238.130168 32.918308 \r\nL 238.431667 32.9602 \r\nL 238.733167 33.588748 \r\nL 238.883917 33.023063 \r\nL 239.034666 33.278663 \r\nL 239.185416 33.152954 \r\nL 239.336166 33.395995 \r\nL 239.486915 33.027244 \r\nL 239.637665 33.391814 \r\nL 239.939164 33.115243 \r\nL 240.089914 33.463039 \r\nL 240.391414 32.939263 \r\nL 240.843663 33.178106 \r\nL 240.994412 33.060775 \r\nL 241.145162 33.287042 \r\nL 241.295912 33.224195 \r\nL 241.446661 33.446282 \r\nL 241.597411 33.203241 \r\nL 241.748161 32.746509 \r\nL 242.04966 33.132016 \r\nL 242.35116 33.148773 \r\nL 242.652659 32.939263 \r\nL 242.803409 33.190665 \r\nL 243.104908 32.922489 \r\nL 243.255658 33.37086 \r\nL 243.406407 32.964398 \r\nL 243.858657 33.395995 \r\nL 244.160156 32.83449 \r\nL 244.461655 33.203241 \r\nL 244.612405 32.851264 \r\nL 244.763155 33.060775 \r\nL 244.913904 32.956019 \r\nL 245.064654 33.483993 \r\nL 245.215404 33.060775 \r\nL 245.366154 33.333148 \r\nL 245.516903 32.721357 \r\nL 245.667653 32.78422 \r\nL 245.818403 33.219998 \r\nL 245.969152 33.140395 \r\nL 246.119902 32.863823 \r\nL 246.270652 33.148773 \r\nL 246.421401 33.11944 \r\nL 246.572151 33.387616 \r\nL 246.722901 33.219998 \r\nL 246.87365 32.83449 \r\nL 247.0244 33.274483 \r\nL 247.17515 32.75069 \r\nL 247.3259 33.215817 \r\nL 247.627399 32.842886 \r\nL 247.928898 33.475615 \r\nL 248.079648 33.345707 \r\nL 248.230398 33.010487 \r\nL 248.381147 33.32477 \r\nL 248.531897 33.069153 \r\nL 248.682647 33.249331 \r\nL 248.833397 33.178106 \r\nL 248.984146 32.83031 \r\nL 249.134896 33.16553 \r\nL 249.285646 32.935065 \r\nL 249.436395 33.37504 \r\nL 249.737895 33.010487 \r\nL 249.888644 33.433706 \r\nL 250.039394 33.287042 \r\nL 250.190144 32.562134 \r\nL 250.491643 33.542659 \r\nL 250.642393 32.918308 \r\nL 250.793143 32.901534 \r\nL 251.094642 33.437904 \r\nL 251.245392 32.985352 \r\nL 251.396141 33.006307 \r\nL 251.546891 33.333148 \r\nL 251.84839 33.11944 \r\nL 251.99914 33.152954 \r\nL 252.451389 32.83449 \r\nL 252.752889 33.37504 \r\nL 252.903638 33.24515 \r\nL 253.054388 32.809355 \r\nL 253.205138 33.060775 \r\nL 253.355887 32.863823 \r\nL 253.506637 33.253528 \r\nL 253.657387 32.863823 \r\nL 253.808136 33.140395 \r\nL 254.109636 32.868021 \r\nL 254.260386 32.826112 \r\nL 254.411135 33.052396 \r\nL 254.712635 32.842886 \r\nL 255.164884 33.320572 \r\nL 255.315633 32.733933 \r\nL 255.466383 32.91411 \r\nL 255.767883 32.83031 \r\nL 256.069382 33.014685 \r\nL 256.220132 33.044018 \r\nL 256.370881 33.257709 \r\nL 256.521631 32.91411 \r\nL 256.672381 33.064972 \r\nL 256.82313 33.37504 \r\nL 257.12463 32.981154 \r\nL 257.426129 33.19906 \r\nL 257.576879 33.224195 \r\nL 257.727629 32.884778 \r\nL 258.179878 33.299618 \r\nL 258.330627 33.211619 \r\nL 258.481377 32.939263 \r\nL 258.933626 33.173908 \r\nL 259.385875 32.91411 \r\nL 259.687375 33.010487 \r\nL 259.988874 33.132016 \r\nL 260.139624 32.754887 \r\nL 260.290373 32.851264 \r\nL 260.441123 33.169727 \r\nL 260.742623 33.018866 \r\nL 260.893372 33.073351 \r\nL 261.044122 32.951822 \r\nL 261.194872 32.553755 \r\nL 261.345621 32.951822 \r\nL 261.496371 32.742311 \r\nL 261.647121 33.11944 \r\nL 261.79787 33.152954 \r\nL 261.94862 32.901534 \r\nL 262.09937 32.993731 \r\nL 262.250119 33.219998 \r\nL 262.400869 33.132016 \r\nL 262.702369 32.478316 \r\nL 262.853118 33.144575 \r\nL 263.003868 32.897354 \r\nL 263.154618 32.993731 \r\nL 263.305367 33.228393 \r\nL 263.456117 33.056577 \r\nL 263.606867 33.249331 \r\nL 263.757616 32.947641 \r\nL 263.908366 32.922489 \r\nL 264.059116 32.570512 \r\nL 264.209866 33.073351 \r\nL 264.360615 33.03982 \r\nL 264.511365 33.257709 \r\nL 264.812864 32.989533 \r\nL 264.963614 33.211619 \r\nL 265.114364 33.207439 \r\nL 265.566613 32.645934 \r\nL 265.717362 32.863823 \r\nL 265.868112 32.775842 \r\nL 266.018862 32.888975 \r\nL 266.169612 33.307996 \r\nL 266.471111 32.842886 \r\nL 266.621861 32.612421 \r\nL 266.77261 33.37086 \r\nL 266.92336 33.140395 \r\nL 267.224859 33.08591 \r\nL 267.978608 32.842886 \r\nL 268.129358 32.976974 \r\nL 268.430857 32.771644 \r\nL 268.581607 32.993731 \r\nL 268.732356 32.436424 \r\nL 268.883106 32.939263 \r\nL 269.033856 32.54536 \r\nL 269.184605 32.763266 \r\nL 269.335355 32.746509 \r\nL 269.486105 32.947641 \r\nL 269.636855 32.83031 \r\nL 269.787604 33.173908 \r\nL 269.938354 33.052396 \r\nL 270.089104 33.416949 \r\nL 270.239853 32.939263 \r\nL 270.390603 32.847066 \r\nL 270.541353 33.249331 \r\nL 270.692102 32.943443 \r\nL 270.842852 32.930867 \r\nL 270.993602 32.792598 \r\nL 271.144352 33.123621 \r\nL 271.295101 32.888975 \r\nL 271.445851 33.16553 \r\nL 271.596601 32.956019 \r\nL 271.74735 33.010487 \r\nL 271.8981 33.316375 \r\nL 272.199599 33.023063 \r\nL 272.501099 33.169727 \r\nL 272.651848 32.939263 \r\nL 272.953348 33.027244 \r\nL 273.104098 32.893156 \r\nL 273.405597 33.270285 \r\nL 273.707096 32.457378 \r\nL 273.857846 32.813553 \r\nL 274.008596 32.696222 \r\nL 274.310095 33.463039 \r\nL 274.460845 32.687843 \r\nL 274.611595 33.102683 \r\nL 274.762344 32.926687 \r\nL 274.913094 33.002109 \r\nL 275.365343 32.591466 \r\nL 275.516093 33.006307 \r\nL 275.817592 33.152954 \r\nL 275.968342 32.767446 \r\nL 276.119092 33.081729 \r\nL 276.269841 32.641737 \r\nL 276.571341 33.115243 \r\nL 276.72209 32.800977 \r\nL 277.02359 32.964398 \r\nL 277.174339 32.7046 \r\nL 277.475839 33.08591 \r\nL 277.626588 33.173908 \r\nL 277.777338 32.83031 \r\nL 277.928088 32.813553 \r\nL 278.078838 33.299618 \r\nL 278.229587 32.788401 \r\nL 278.681836 33.031442 \r\nL 278.832586 33.002109 \r\nL 278.983336 32.767446 \r\nL 279.284835 33.261907 \r\nL 279.435585 32.838688 \r\nL 279.586335 32.943443 \r\nL 279.737084 33.240952 \r\nL 280.038584 32.633358 \r\nL 280.189333 33.127819 \r\nL 280.340083 32.893156 \r\nL 280.490833 33.366662 \r\nL 280.641582 33.060775 \r\nL 280.792332 33.064972 \r\nL 280.943082 32.868021 \r\nL 281.093831 33.291239 \r\nL 281.244581 32.574693 \r\nL 281.69683 32.67107 \r\nL 281.84758 33.354086 \r\nL 281.99833 32.951822 \r\nL 282.149079 32.888975 \r\nL 282.299829 33.471417 \r\nL 282.601328 32.83449 \r\nL 282.752078 32.620799 \r\nL 282.902828 32.842886 \r\nL 283.053578 32.7046 \r\nL 283.204327 32.746509 \r\nL 283.355077 33.098486 \r\nL 283.505827 33.106864 \r\nL 283.656576 32.922489 \r\nL 283.807326 32.930867 \r\nL 283.958076 33.194863 \r\nL 284.108825 33.136197 \r\nL 284.259575 33.274483 \r\nL 284.561074 32.863823 \r\nL 284.711824 33.136197 \r\nL 284.862574 33.161332 \r\nL 285.013324 32.641737 \r\nL 285.164073 32.90993 \r\nL 285.314823 32.687843 \r\nL 285.616322 32.629178 \r\nL 285.767072 32.901534 \r\nL 286.068571 32.687843 \r\nL 286.219321 32.729735 \r\nL 286.370071 33.303815 \r\nL 286.67157 32.700402 \r\nL 286.82232 33.127819 \r\nL 286.97307 32.662691 \r\nL 287.123819 32.654313 \r\nL 287.425319 32.951822 \r\nL 287.576068 32.708798 \r\nL 287.726818 33.161332 \r\nL 287.877568 32.926687 \r\nL 288.179067 32.997911 \r\nL 288.480567 33.052396 \r\nL 288.631316 33.002109 \r\nL 288.782066 33.081729 \r\nL 288.932816 32.775842 \r\nL 289.083565 33.060775 \r\nL 289.234315 32.780022 \r\nL 289.385065 33.215817 \r\nL 289.535814 32.771644 \r\nL 289.686564 32.901534 \r\nL 289.837314 32.390334 \r\nL 289.988064 32.935065 \r\nL 290.138813 32.918308 \r\nL 290.289563 33.081729 \r\nL 290.591062 32.876399 \r\nL 290.741812 33.194863 \r\nL 290.892562 32.662691 \r\nL 291.194061 33.002109 \r\nL 291.344811 32.75069 \r\nL 291.49556 32.838688 \r\nL 291.64631 32.654313 \r\nL 291.94781 33.010487 \r\nL 292.098559 33.023063 \r\nL 292.400059 32.91411 \r\nL 292.852308 32.964398 \r\nL 293.003057 32.968595 \r\nL 293.153807 32.679465 \r\nL 293.455307 33.228393 \r\nL 293.606056 32.763266 \r\nL 293.756806 33.002109 \r\nL 293.907556 32.62498 \r\nL 294.058305 32.868021 \r\nL 294.359805 32.868021 \r\nL 294.510554 32.872219 \r\nL 294.661304 33.056577 \r\nL 294.962804 32.712978 \r\nL 295.113553 33.215817 \r\nL 295.415053 32.587269 \r\nL 295.565802 32.981154 \r\nL 295.716552 32.620799 \r\nL 295.867302 33.148773 \r\nL 296.018051 32.993731 \r\nL 296.168801 33.064972 \r\nL 296.319551 32.608223 \r\nL 296.92255 33.048199 \r\nL 297.073299 32.733933 \r\nL 297.224049 32.775842 \r\nL 297.525548 32.729735 \r\nL 297.977797 32.775842 \r\nL 298.128547 32.826112 \r\nL 298.279297 32.654313 \r\nL 298.430047 32.683646 \r\nL 298.580796 32.985352 \r\nL 298.731546 32.796779 \r\nL 298.882296 33.132016 \r\nL 299.033045 32.851264 \r\nL 299.183795 33.077531 \r\nL 299.334545 32.993731 \r\nL 299.485294 32.725554 \r\nL 299.636044 32.721357 \r\nL 299.786794 33.006307 \r\nL 299.937543 32.964398 \r\nL 300.239043 32.629178 \r\nL 300.540542 32.759068 \r\nL 300.691292 32.872219 \r\nL 300.842042 32.524422 \r\nL 301.143541 32.838688 \r\nL 301.294291 32.771644 \r\nL 301.59579 33.010487 \r\nL 301.74654 32.696222 \r\nL 301.89729 32.985352 \r\nL 302.048039 32.897354 \r\nL 302.198789 33.169727 \r\nL 302.349539 32.855445 \r\nL 302.801788 33.027244 \r\nL 302.952537 32.897354 \r\nL 303.103287 32.583088 \r\nL 303.254037 33.08591 \r\nL 303.555536 32.712978 \r\nL 303.857036 32.972776 \r\nL 304.007785 32.683646 \r\nL 304.460034 33.027244 \r\nL 304.761534 32.511846 \r\nL 304.912283 33.157151 \r\nL 305.063033 32.712978 \r\nL 305.213783 32.838688 \r\nL 305.364533 32.796779 \r\nL 305.515282 33.044018 \r\nL 305.666032 32.780022 \r\nL 305.816782 32.868021 \r\nL 305.967531 32.767446 \r\nL 306.118281 32.901534 \r\nL 306.269031 32.469937 \r\nL 306.41978 32.972776 \r\nL 306.57053 32.486711 \r\nL 306.72128 33.006307 \r\nL 306.872029 32.666889 \r\nL 307.022779 32.637556 \r\nL 307.173529 32.872219 \r\nL 307.475028 32.599845 \r\nL 307.776528 32.616602 \r\nL 307.927277 32.650132 \r\nL 308.078027 32.884778 \r\nL 308.228777 32.62498 \r\nL 308.379526 33.090107 \r\nL 308.530276 32.469937 \r\nL 308.681026 32.796779 \r\nL 308.831776 32.847066 \r\nL 308.982525 32.591466 \r\nL 309.133275 33.064972 \r\nL 309.284025 32.847066 \r\nL 309.434774 32.918308 \r\nL 309.736274 32.595647 \r\nL 309.887023 33.140395 \r\nL 310.188523 32.759068 \r\nL 310.339273 32.813553 \r\nL 310.490022 33.605505 \r\nL 310.640772 32.863823 \r\nL 311.243771 33.056577 \r\nL 311.39452 32.721357 \r\nL 311.54527 32.976974 \r\nL 311.69602 32.549558 \r\nL 311.846769 32.729735 \r\nL 311.997519 32.7046 \r\nL 312.148269 33.132016 \r\nL 312.449768 32.641737 \r\nL 312.902017 32.939263 \r\nL 313.052767 32.67107 \r\nL 313.203517 32.775842 \r\nL 313.505016 32.486711 \r\nL 313.655766 32.696222 \r\nL 313.806516 32.532801 \r\nL 313.957265 32.599845 \r\nL 314.108015 32.838688 \r\nL 314.258765 32.817734 \r\nL 314.409514 33.002109 \r\nL 314.560264 32.9602 \r\nL 314.711014 32.486711 \r\nL 314.861763 32.587269 \r\nL 315.012513 33.182287 \r\nL 315.163263 32.796779 \r\nL 315.464762 32.851264 \r\nL 315.615512 33.228393 \r\nL 315.917011 32.972776 \r\nL 316.067761 33.035639 \r\nL 316.218511 32.721357 \r\nL 316.36926 32.83449 \r\nL 316.821509 32.541179 \r\nL 316.972259 33.010487 \r\nL 317.123009 32.645934 \r\nL 317.273759 32.956019 \r\nL 317.575258 32.599845 \r\nL 317.726008 32.805158 \r\nL 317.876757 32.595647 \r\nL 318.027507 32.767446 \r\nL 318.329006 32.486711 \r\nL 318.479756 32.604026 \r\nL 318.630506 32.989533 \r\nL 318.932005 32.503468 \r\nL 319.082755 32.75069 \r\nL 319.233505 32.608223 \r\nL 319.384254 32.930867 \r\nL 319.535004 32.528603 \r\nL 319.685754 32.49509 \r\nL 319.987253 32.880597 \r\nL 320.138003 32.876399 \r\nL 320.288752 32.645934 \r\nL 320.439502 32.75069 \r\nL 320.590252 32.57889 \r\nL 320.741002 32.771644 \r\nL 320.891751 32.75069 \r\nL 321.042501 32.570512 \r\nL 321.193251 32.985352 \r\nL 321.344 32.809355 \r\nL 321.49475 33.132016 \r\nL 321.796249 32.83031 \r\nL 321.946999 32.717176 \r\nL 322.248498 32.981154 \r\nL 322.399248 32.696222 \r\nL 322.549998 32.893156 \r\nL 322.851497 32.474135 \r\nL 323.002247 33.111062 \r\nL 323.303746 32.721357 \r\nL 323.454496 32.54536 \r\nL 323.605246 32.612421 \r\nL 323.755995 32.943443 \r\nL 323.906745 32.67107 \r\nL 324.057495 32.792598 \r\nL 324.208245 32.461559 \r\nL 324.509744 33.060775 \r\nL 324.660494 32.775842 \r\nL 324.811243 32.767446 \r\nL 324.961993 32.553755 \r\nL 325.263492 32.905732 \r\nL 325.414242 32.90993 \r\nL 325.715742 32.637556 \r\nL 325.866491 32.993731 \r\nL 326.31874 32.763266 \r\nL 326.46949 32.436424 \r\nL 326.62024 33.027244 \r\nL 326.770989 32.666889 \r\nL 326.921739 32.608223 \r\nL 327.223238 32.805158 \r\nL 327.373988 32.486711 \r\nL 327.524738 32.884778 \r\nL 327.826237 32.729735 \r\nL 327.976987 33.094288 \r\nL 328.278486 32.549558 \r\nL 328.579986 32.9602 \r\nL 328.730735 32.679465 \r\nL 328.881485 32.67107 \r\nL 329.032235 32.390334 \r\nL 329.182985 32.897354 \r\nL 329.333734 32.428046 \r\nL 329.484484 32.956019 \r\nL 329.936733 32.428046 \r\nL 330.087483 32.905732 \r\nL 330.238232 32.595647 \r\nL 330.539732 32.763266 \r\nL 330.841231 32.654313 \r\nL 330.991981 33.132016 \r\nL 331.142731 32.792598 \r\nL 331.29348 33.048199 \r\nL 331.44423 32.524422 \r\nL 331.59498 32.75069 \r\nL 331.896479 32.490892 \r\nL 332.047229 32.687843 \r\nL 332.197978 32.503468 \r\nL 332.348728 32.9602 \r\nL 332.499478 32.935065 \r\nL 332.800977 32.478316 \r\nL 333.253226 32.666889 \r\nL 333.554726 32.679465 \r\nL 333.705475 32.859642 \r\nL 334.006975 32.666889 \r\nL 334.157724 32.897354 \r\nL 334.308474 32.503468 \r\nL 334.459224 32.717176 \r\nL 334.609974 32.604026 \r\nL 334.760723 32.759068 \r\nL 334.911473 32.654313 \r\nL 335.062223 32.922489 \r\nL 335.212972 32.587269 \r\nL 335.363722 32.817734 \r\nL 335.514472 32.821931 \r\nL 335.665221 32.595647 \r\nL 335.815971 32.872219 \r\nL 335.966721 32.386137 \r\nL 336.117471 32.717176 \r\nL 336.26822 32.729735 \r\nL 336.41897 32.448983 \r\nL 336.720469 32.675267 \r\nL 336.871219 32.738114 \r\nL 337.021969 32.440605 \r\nL 337.323468 32.386137 \r\nL 337.474218 32.767446 \r\nL 337.624967 32.469937 \r\nL 337.775717 32.654313 \r\nL 337.926467 32.49509 \r\nL 338.077217 32.800977 \r\nL 338.227966 32.549558 \r\nL 338.378716 32.981154 \r\nL 338.529466 32.461559 \r\nL 338.680215 32.440605 \r\nL 338.830965 32.792598 \r\nL 338.981715 32.503468 \r\nL 339.132464 32.595647 \r\nL 339.283214 32.486711 \r\nL 339.584714 32.616602 \r\nL 339.735463 32.461559 \r\nL 339.886213 32.712978 \r\nL 340.036963 32.516044 \r\nL 340.187712 32.557936 \r\nL 340.338462 32.905732 \r\nL 340.639961 32.453181 \r\nL 340.941461 32.855445 \r\nL 341.092211 32.641737 \r\nL 341.54446 32.805158 \r\nL 341.845959 32.453181 \r\nL 341.996709 33.203241 \r\nL 342.147458 32.595647 \r\nL 342.298208 32.796779 \r\nL 342.448958 32.440605 \r\nL 342.599707 32.687843 \r\nL 342.750457 32.65851 \r\nL 342.901207 32.428046 \r\nL 343.051957 32.855445 \r\nL 343.353456 32.91411 \r\nL 343.504206 32.591466 \r\nL 343.805705 32.666889 \r\nL 343.956455 32.666889 \r\nL 344.107204 32.415469 \r\nL 344.408704 32.792598 \r\nL 344.559454 32.562134 \r\nL 345.011703 32.591466 \r\nL 345.162452 32.574693 \r\nL 345.313202 32.415469 \r\nL 345.463952 32.557936 \r\nL 345.614701 32.226913 \r\nL 345.765451 33.207439 \r\nL 345.916201 32.432226 \r\nL 346.06695 32.386137 \r\nL 346.2177 32.796779 \r\nL 346.36845 32.474135 \r\nL 346.5192 32.675267 \r\nL 346.820699 32.201761 \r\nL 346.971449 32.796779 \r\nL 347.122198 32.532801 \r\nL 347.272948 32.989533 \r\nL 347.423698 32.36938 \r\nL 347.725197 32.490892 \r\nL 347.875947 32.679465 \r\nL 348.026697 32.340047 \r\nL 348.177446 32.721357 \r\nL 348.328196 32.503468 \r\nL 348.478946 32.838688 \r\nL 348.629695 32.331669 \r\nL 349.534193 32.675267 \r\nL 349.684943 32.763266 \r\nL 349.684943 32.763266 \r\n\" style=\"fill:none;stroke:#ff0000;stroke-linecap:square;stroke-width:1.5;\"/>\r\n   </g>\r\n   <g id=\"line2d_19\">\r\n    <path clip-path=\"url(#p1c0ee04cc7)\" d=\"M 45.321307 229.874489 \r\nL 45.924306 229.874489 \r\nL 46.075055 224.410593 \r\nL 46.376555 182.643633 \r\nL 46.828804 125.188927 \r\nL 46.979553 134.440673 \r\nL 47.130303 112.367211 \r\nL 47.431803 145.821002 \r\nL 47.582552 139.770486 \r\nL 47.733302 139.519084 \r\nL 47.884052 130.300852 \r\nL 48.034801 154.838102 \r\nL 48.185551 139.45204 \r\nL 48.336301 140.373866 \r\nL 48.48705 137.591632 \r\nL 48.6378 111.964955 \r\nL 48.78855 127.049336 \r\nL 48.9393 123.663731 \r\nL 49.090049 151.502784 \r\nL 49.240799 139.183872 \r\nL 49.391549 143.105812 \r\nL 49.542298 138.24529 \r\nL 49.693048 154.419089 \r\nL 49.843798 134.306593 \r\nL 49.994547 150.899405 \r\nL 50.145297 126.915248 \r\nL 50.446796 151.251373 \r\nL 50.597546 152.223478 \r\nL 50.748296 139.787252 \r\nL 50.899046 150.145189 \r\nL 51.200545 116.875756 \r\nL 51.351295 142.921445 \r\nL 51.502044 136.988261 \r\nL 51.652794 138.63078 \r\nL 51.803544 135.848555 \r\nL 51.954293 143.07229 \r\nL 52.105043 127.283981 \r\nL 52.255793 147.111553 \r\nL 52.406543 149.390965 \r\nL 52.557292 140.776113 \r\nL 52.708042 151.821231 \r\nL 52.858792 151.150807 \r\nL 53.009541 146.524939 \r\nL 53.160291 126.395678 \r\nL 53.311041 149.206607 \r\nL 53.46179 152.709534 \r\nL 53.61254 129.630437 \r\nL 53.76329 131.407036 \r\nL 53.914039 153.16206 \r\nL 54.064789 139.804008 \r\nL 54.215539 160.301999 \r\nL 54.517038 135.01053 \r\nL 54.667788 142.334831 \r\nL 54.818538 141.932584 \r\nL 54.969287 144.915933 \r\nL 55.120037 133.401533 \r\nL 55.270787 157.151044 \r\nL 55.421536 130.233808 \r\nL 55.572286 147.949569 \r\nL 55.723036 144.362841 \r\nL 55.873786 144.71481 \r\nL 56.024535 120.99882 \r\nL 56.175285 140.558224 \r\nL 56.326035 132.043938 \r\nL 56.476784 144.681288 \r\nL 56.627534 126.982292 \r\nL 57.079783 152.424601 \r\nL 57.230533 134.692084 \r\nL 57.381283 144.832132 \r\nL 57.532032 129.697481 \r\nL 57.833532 155.776684 \r\nL 57.984281 154.838102 \r\nL 58.135031 151.938553 \r\nL 58.285781 143.340458 \r\nL 58.58728 149.893778 \r\nL 58.888779 120.847975 \r\nL 59.039529 139.133594 \r\nL 59.190279 137.591632 \r\nL 59.491778 156.799076 \r\nL 59.793278 126.999048 \r\nL 59.944027 151.067007 \r\nL 60.094777 151.670386 \r\nL 60.245527 144.563965 \r\nL 60.396276 158.659476 \r\nL 60.547026 143.038768 \r\nL 60.848526 154.301766 \r\nL 60.999275 132.278583 \r\nL 61.300775 154.754301 \r\nL 61.451524 151.117294 \r\nL 61.602274 134.943486 \r\nL 61.753024 140.759356 \r\nL 61.903773 136.619527 \r\nL 62.356022 147.999857 \r\nL 62.506772 127.485105 \r\nL 62.657522 147.279155 \r\nL 62.808272 149.106041 \r\nL 62.959021 148.670272 \r\nL 63.109771 123.57993 \r\nL 63.260521 150.312791 \r\nL 63.41127 138.546979 \r\nL 63.56202 142.183987 \r\nL 63.71277 133.250688 \r\nL 63.863519 140.759356 \r\nL 64.165019 106.618385 \r\nL 64.466518 154.28501 \r\nL 64.617268 146.105927 \r\nL 64.768018 103.53447 \r\nL 64.918767 149.491531 \r\nL 65.069517 147.664645 \r\nL 65.220267 152.223478 \r\nL 65.521766 131.373523 \r\nL 65.672516 152.759813 \r\nL 65.823265 146.943943 \r\nL 65.974015 130.501976 \r\nL 66.124765 147.212111 \r\nL 66.275515 150.027866 \r\nL 66.426264 137.474309 \r\nL 66.577014 152.089398 \r\nL 66.727764 151.016728 \r\nL 66.878513 140.2733 \r\nL 67.029263 155.843728 \r\nL 67.180013 138.865426 \r\nL 67.330762 159.195811 \r\nL 67.481512 140.206256 \r\nL 67.783012 137.708955 \r\nL 67.933761 147.882534 \r\nL 68.084511 135.31222 \r\nL 68.235261 150.195468 \r\nL 68.38601 151.452497 \r\nL 68.53676 130.082963 \r\nL 68.68751 149.592089 \r\nL 68.838259 153.480507 \r\nL 68.989009 151.787709 \r\nL 69.139759 138.76486 \r\nL 69.290508 150.614481 \r\nL 69.441258 147.865769 \r\nL 69.592008 149.910544 \r\nL 69.742758 158.59244 \r\nL 69.893507 154.435854 \r\nL 70.044257 133.636178 \r\nL 70.345756 161.391426 \r\nL 70.496506 126.513 \r\nL 70.647256 153.84924 \r\nL 70.948755 143.910315 \r\nL 71.099505 152.106155 \r\nL 71.250255 128.222564 \r\nL 71.551754 145.217623 \r\nL 71.853253 156.463864 \r\nL 72.004003 140.926958 \r\nL 72.154753 154.117408 \r\nL 72.305502 135.69771 \r\nL 72.757752 153.245861 \r\nL 72.908501 158.625954 \r\nL 73.059251 149.575332 \r\nL 73.210001 155.156548 \r\nL 73.36075 152.039111 \r\nL 73.5115 151.770943 \r\nL 73.66225 123.831333 \r\nL 73.963749 144.547208 \r\nL 74.114499 129.546637 \r\nL 74.415998 154.301766 \r\nL 74.566748 146.00536 \r\nL 74.717498 118.602085 \r\nL 74.868247 126.663845 \r\nL 75.169747 152.525167 \r\nL 75.320496 129.244947 \r\nL 75.471246 157.704136 \r\nL 75.621996 133.971381 \r\nL 75.923495 152.843614 \r\nL 76.074245 147.329433 \r\nL 76.375744 155.743162 \r\nL 76.677244 136.60277 \r\nL 76.827993 139.183872 \r\nL 76.978743 152.47488 \r\nL 77.280242 137.759242 \r\nL 77.430992 137.356986 \r\nL 77.732491 158.793564 \r\nL 77.883241 133.099843 \r\nL 78.184741 147.212111 \r\nL 78.33549 148.569706 \r\nL 78.63699 141.211882 \r\nL 78.787739 131.725491 \r\nL 79.089239 159.296373 \r\nL 79.390738 127.03257 \r\nL 79.541488 149.592089 \r\nL 79.692238 137.373751 \r\nL 79.842987 138.463179 \r\nL 79.993737 142.284553 \r\nL 80.144487 128.054954 \r\nL 80.295236 137.843043 \r\nL 80.445986 127.770029 \r\nL 80.596736 126.730881 \r\nL 80.747485 151.134051 \r\nL 81.048985 128.272843 \r\nL 81.199734 143.022011 \r\nL 81.350484 145.737193 \r\nL 81.501234 154.905146 \r\nL 81.651984 117.177446 \r\nL 81.802733 157.922017 \r\nL 81.953483 157.687371 \r\nL 82.254982 148.418861 \r\nL 82.405732 146.122683 \r\nL 82.556482 148.284781 \r\nL 82.707231 155.826971 \r\nL 82.857981 144.362841 \r\nL 83.008731 99.143238 \r\nL 83.31023 160.77129 \r\nL 83.46098 130.217052 \r\nL 83.913229 144.781854 \r\nL 84.214728 154.988946 \r\nL 84.365478 159.162289 \r\nL 84.817727 145.552834 \r\nL 84.968477 159.346656 \r\nL 85.119227 126.445956 \r\nL 85.269976 148.854638 \r\nL 85.420726 144.815376 \r\nL 85.722225 144.262284 \r\nL 85.872975 114.898034 \r\nL 86.023725 152.240235 \r\nL 86.174474 154.184444 \r\nL 86.325224 152.927415 \r\nL 86.475974 154.452611 \r\nL 86.626724 151.603342 \r\nL 86.777473 119.356301 \r\nL 86.928223 167.207292 \r\nL 87.078973 133.099843 \r\nL 87.229722 130.7031 \r\nL 87.380472 137.72572 \r\nL 87.681971 159.882987 \r\nL 87.832721 134.423916 \r\nL 87.983471 149.759699 \r\nL 88.134221 134.440673 \r\nL 88.43572 150.396592 \r\nL 88.58647 136.267559 \r\nL 88.737219 146.139449 \r\nL 89.038719 123.160918 \r\nL 89.189468 142.485676 \r\nL 89.340218 141.681173 \r\nL 89.490968 142.38511 \r\nL 89.792467 156.078374 \r\nL 89.943217 121.853602 \r\nL 90.093967 153.547551 \r\nL 90.244716 160.469605 \r\nL 90.395466 145.469034 \r\nL 90.546216 147.916047 \r\nL 90.696965 131.021554 \r\nL 90.847715 153.229104 \r\nL 90.998465 114.730424 \r\nL 91.149214 141.027524 \r\nL 91.299964 142.100186 \r\nL 91.450714 145.334946 \r\nL 91.601464 144.41312 \r\nL 91.752213 128.222564 \r\nL 92.053713 154.184444 \r\nL 92.204462 119.993193 \r\nL 92.505962 153.446985 \r\nL 92.656711 153.329662 \r\nL 92.958211 141.463293 \r\nL 93.10896 152.055876 \r\nL 93.25971 114.31142 \r\nL 93.41046 157.084 \r\nL 93.56121 148.821116 \r\nL 93.711959 156.547665 \r\nL 93.862709 129.529871 \r\nL 94.013459 147.983091 \r\nL 94.164208 140.440901 \r\nL 94.314958 146.340572 \r\nL 94.465708 137.189385 \r\nL 94.616457 135.982634 \r\nL 94.767207 150.480392 \r\nL 94.917957 129.948884 \r\nL 95.068707 154.988946 \r\nL 95.219456 159.396934 \r\nL 95.370206 147.849012 \r\nL 95.520956 150.597715 \r\nL 95.671705 149.642376 \r\nL 95.822455 153.815718 \r\nL 95.973205 141.379492 \r\nL 96.123954 156.681753 \r\nL 96.274704 151.620107 \r\nL 96.425454 156.849355 \r\nL 96.576203 143.239892 \r\nL 96.726953 158.910886 \r\nL 96.877703 157.90526 \r\nL 97.179202 140.088933 \r\nL 97.329952 152.357557 \r\nL 97.480702 120.630095 \r\nL 97.631451 142.16723 \r\nL 97.932951 127.451583 \r\nL 98.23445 140.306822 \r\nL 98.3852 148.854638 \r\nL 98.53595 141.463293 \r\nL 98.686699 151.033485 \r\nL 98.837449 146.407616 \r\nL 98.988199 154.217966 \r\nL 99.138948 112.870016 \r\nL 99.289698 147.010987 \r\nL 99.440448 141.513572 \r\nL 99.741947 149.390965 \r\nL 99.892697 152.508402 \r\nL 100.043446 139.97161 \r\nL 100.194196 150.983206 \r\nL 100.344946 145.586356 \r\nL 100.495696 152.810092 \r\nL 100.646445 152.424601 \r\nL 100.797195 147.882534 \r\nL 100.947945 148.11718 \r\nL 101.098694 153.614595 \r\nL 101.249444 135.211654 \r\nL 101.400194 152.810092 \r\nL 101.701693 138.479935 \r\nL 101.852443 157.151044 \r\nL 102.003193 149.340686 \r\nL 102.153942 153.212339 \r\nL 102.304692 134.574761 \r\nL 102.455442 136.301081 \r\nL 102.606191 139.938096 \r\nL 102.907691 159.044966 \r\nL 103.05844 154.452611 \r\nL 103.20919 145.586356 \r\nL 103.35994 127.133136 \r\nL 103.51069 157.60357 \r\nL 103.812189 128.926501 \r\nL 103.962939 121.753044 \r\nL 104.113688 103.467426 \r\nL 104.415188 138.010644 \r\nL 104.565937 141.329205 \r\nL 104.716687 148.63675 \r\nL 104.867437 109.300052 \r\nL 105.168936 157.737658 \r\nL 105.319686 149.106041 \r\nL 105.470436 152.106155 \r\nL 105.621185 133.585891 \r\nL 105.771935 160.201437 \r\nL 105.922685 106.383739 \r\nL 106.073434 112.970582 \r\nL 106.224184 152.374323 \r\nL 106.374934 159.665102 \r\nL 106.525683 123.71401 \r\nL 106.676433 140.13922 \r\nL 106.827183 106.869787 \r\nL 106.977933 139.401761 \r\nL 107.128682 115.21648 \r\nL 107.279432 164.056333 \r\nL 107.580931 135.161375 \r\nL 107.731681 159.631584 \r\nL 107.882431 156.933155 \r\nL 108.03318 161.089737 \r\nL 108.18393 156.547665 \r\nL 108.33468 144.245518 \r\nL 108.485429 144.664531 \r\nL 108.636179 137.306707 \r\nL 108.786929 166.603917 \r\nL 109.088428 128.775656 \r\nL 109.239178 148.687028 \r\nL 109.389928 149.038997 \r\nL 109.540677 135.228419 \r\nL 109.691427 139.636407 \r\nL 109.842177 162.715499 \r\nL 109.992926 136.971496 \r\nL 110.143676 152.977693 \r\nL 110.294426 121.099386 \r\nL 110.445176 152.005589 \r\nL 110.595925 113.221992 \r\nL 110.746675 135.429542 \r\nL 110.897425 134.138991 \r\nL 111.048174 131.64169 \r\nL 111.198924 138.11121 \r\nL 111.349674 152.759813 \r\nL 111.500423 126.278355 \r\nL 111.651173 120.512772 \r\nL 111.801923 137.206141 \r\nL 111.952672 125.255972 \r\nL 112.103422 152.608968 \r\nL 112.254172 147.027752 \r\nL 112.404922 145.988604 \r\nL 112.555671 119.808835 \r\nL 112.706421 122.473738 \r\nL 112.857171 159.061727 \r\nL 113.15867 110.858771 \r\nL 113.460169 147.195354 \r\nL 113.610919 127.384539 \r\nL 113.761669 156.530908 \r\nL 114.063168 134.004903 \r\nL 114.213918 159.229333 \r\nL 114.364668 115.266759 \r\nL 114.666167 172.302456 \r\nL 114.816917 130.233808 \r\nL 114.967666 156.564422 \r\nL 115.118416 152.860371 \r\nL 115.269166 123.630209 \r\nL 115.419915 143.457781 \r\nL 115.570665 133.535612 \r\nL 115.721415 157.804694 \r\nL 115.872165 141.111324 \r\nL 116.022914 172.704708 \r\nL 116.173664 142.116951 \r\nL 116.324414 139.921331 \r\nL 116.475163 141.815261 \r\nL 116.625913 141.966106 \r\nL 116.776663 145.48579 \r\nL 116.927412 143.943829 \r\nL 117.078162 141.077802 \r\nL 117.228912 147.631123 \r\nL 117.379662 127.300738 \r\nL 117.530411 134.474195 \r\nL 117.681161 130.619299 \r\nL 117.831911 157.000199 \r\nL 117.98266 127.250459 \r\nL 118.13341 136.720093 \r\nL 118.28416 161.877479 \r\nL 118.434909 152.608968 \r\nL 118.585659 112.903538 \r\nL 118.736409 161.022697 \r\nL 119.037908 138.044166 \r\nL 119.188658 111.914676 \r\nL 119.339408 145.804237 \r\nL 119.490157 144.698053 \r\nL 119.640907 163.637321 \r\nL 119.791657 127.736507 \r\nL 119.942406 157.469491 \r\nL 120.093156 153.095016 \r\nL 120.243906 137.407273 \r\nL 120.394655 157.117522 \r\nL 120.545405 138.999505 \r\nL 120.696155 145.737193 \r\nL 120.846905 145.686914 \r\nL 120.997654 127.568906 \r\nL 121.148404 139.200638 \r\nL 121.299154 104.456287 \r\nL 121.449903 158.508631 \r\nL 121.751403 145.284667 \r\nL 121.902152 155.609083 \r\nL 122.052902 125.959908 \r\nL 122.354402 152.189956 \r\nL 122.655901 137.843043 \r\nL 122.806651 156.664988 \r\nL 123.10815 137.239663 \r\nL 123.2589 152.977693 \r\nL 123.409649 139.619642 \r\nL 123.560399 142.301309 \r\nL 123.711149 135.345742 \r\nL 123.861898 147.379721 \r\nL 124.163398 121.970924 \r\nL 124.464897 154.469376 \r\nL 124.615647 158.391308 \r\nL 124.766397 144.429885 \r\nL 124.917146 156.262741 \r\nL 125.218646 162.246208 \r\nL 125.369395 115.082392 \r\nL 125.520145 133.686457 \r\nL 125.670895 131.021554 \r\nL 125.972394 152.424601 \r\nL 126.273894 119.356301 \r\nL 126.424643 172.3695 \r\nL 126.726143 152.005589 \r\nL 126.876892 146.223249 \r\nL 127.027642 151.117294 \r\nL 127.178392 141.781739 \r\nL 127.329141 97.953245 \r\nL 127.479891 116.523788 \r\nL 127.630641 153.715152 \r\nL 127.781391 127.116371 \r\nL 128.08289 160.285238 \r\nL 128.384389 133.418289 \r\nL 128.535139 160.335521 \r\nL 128.685889 127.937631 \r\nL 128.836638 126.680602 \r\nL 128.987388 154.905146 \r\nL 129.138138 123.378798 \r\nL 129.288888 155.910772 \r\nL 129.439637 157.318646 \r\nL 129.590387 161.827196 \r\nL 130.042636 121.451354 \r\nL 130.193386 155.776684 \r\nL 130.344135 121.283753 \r\nL 130.494885 163.771405 \r\nL 130.645635 137.440787 \r\nL 130.796384 142.670043 \r\nL 130.947134 128.557767 \r\nL 131.097884 158.927643 \r\nL 131.248634 153.68163 \r\nL 131.399383 116.071262 \r\nL 131.700883 146.927186 \r\nL 131.851632 152.843614 \r\nL 132.002382 101.50646 \r\nL 132.153132 134.289836 \r\nL 132.303881 125.74202 \r\nL 132.454631 133.569134 \r\nL 132.605381 163.184791 \r\nL 132.756131 156.530908 \r\nL 132.90688 140.172742 \r\nL 133.05763 99.629286 \r\nL 133.20838 138.211768 \r\nL 133.359129 125.239206 \r\nL 133.509879 155.759927 \r\nL 133.660629 149.290408 \r\nL 133.811378 150.296034 \r\nL 133.962128 143.75947 \r\nL 134.263627 167.274332 \r\nL 134.715877 120.227839 \r\nL 134.866626 116.004218 \r\nL 135.017376 96.89734 \r\nL 135.168126 157.21808 \r\nL 135.318875 107.892179 \r\nL 135.469625 122.943029 \r\nL 135.620375 150.648003 \r\nL 135.771124 157.787937 \r\nL 136.072624 145.050021 \r\nL 136.223374 96.193403 \r\nL 136.524873 124.082735 \r\nL 136.675623 124.518513 \r\nL 136.826372 156.664988 \r\nL 136.977122 144.362841 \r\nL 137.127872 114.328177 \r\nL 137.278621 138.865426 \r\nL 137.429371 131.239435 \r\nL 137.730871 96.24369 \r\nL 137.88162 133.719979 \r\nL 138.03237 114.22761 \r\nL 138.18312 124.552026 \r\nL 138.333869 106.232894 \r\nL 138.484619 156.413585 \r\nL 138.786118 137.960365 \r\nL 138.936868 122.524016 \r\nL 139.087618 146.474652 \r\nL 139.389117 131.876336 \r\nL 139.690617 152.508402 \r\nL 139.841366 147.865769 \r\nL 139.992116 132.915476 \r\nL 140.142866 150.53068 \r\nL 140.293615 107.707812 \r\nL 140.444365 150.044623 \r\nL 140.595115 136.116714 \r\nL 140.896614 161.257343 \r\nL 141.198114 142.318075 \r\nL 141.348863 106.618385 \r\nL 141.499613 162.564655 \r\nL 141.650363 163.737883 \r\nL 141.801112 136.267559 \r\nL 141.951862 138.597258 \r\nL 142.102612 146.156205 \r\nL 142.253361 144.513686 \r\nL 142.404111 108.093302 \r\nL 142.554861 153.212339 \r\nL 142.70561 145.301424 \r\nL 142.85636 131.172391 \r\nL 143.00711 164.525625 \r\nL 143.15786 151.469262 \r\nL 143.308609 154.083886 \r\nL 143.610109 119.255735 \r\nL 143.760858 157.871738 \r\nL 143.911608 158.341029 \r\nL 144.062358 129.596915 \r\nL 144.213107 122.239092 \r\nL 144.363857 139.736964 \r\nL 144.514607 114.512543 \r\nL 144.665357 133.6697 \r\nL 144.816106 117.613215 \r\nL 145.117606 157.771172 \r\nL 145.419105 116.088019 \r\nL 145.569855 150.312791 \r\nL 145.720604 133.954625 \r\nL 145.871354 149.977579 \r\nL 146.022104 105.730081 \r\nL 146.172853 149.659133 \r\nL 146.323603 119.188699 \r\nL 146.625103 152.139677 \r\nL 146.775852 123.982177 \r\nL 146.926602 158.994687 \r\nL 147.077352 145.016499 \r\nL 147.228101 149.055762 \r\nL 147.378851 158.642719 \r\nL 147.529601 115.618727 \r\nL 147.68035 114.680145 \r\nL 147.98185 153.245861 \r\nL 148.1326 155.35768 \r\nL 148.283349 151.318417 \r\nL 148.434099 140.910201 \r\nL 148.584849 116.205341 \r\nL 148.886348 155.659361 \r\nL 149.037098 147.161832 \r\nL 149.187847 154.938668 \r\nL 149.338597 121.803323 \r\nL 149.489347 156.782311 \r\nL 149.640096 152.189956 \r\nL 149.790846 172.034289 \r\nL 149.941596 122.121769 \r\nL 150.092346 143.792992 \r\nL 150.243095 138.228533 \r\nL 150.393845 153.195582 \r\nL 150.544595 120.747418 \r\nL 150.846094 161.559032 \r\nL 150.996844 128.524245 \r\nL 151.147593 161.123259 \r\nL 151.599843 107.942458 \r\nL 151.750592 140.005132 \r\nL 151.901342 116.590832 \r\nL 152.052092 152.94418 \r\nL 152.353591 129.714238 \r\nL 152.504341 114.881269 \r\nL 152.80584 158.542153 \r\nL 152.95659 110.674404 \r\nL 153.10734 124.065978 \r\nL 153.258089 151.56982 \r\nL 153.408839 121.970924 \r\nL 153.710338 161.20706 \r\nL 154.011838 146.960708 \r\nL 154.313337 158.508631 \r\nL 154.464087 110.037511 \r\nL 154.614836 156.866111 \r\nL 154.765586 161.173542 \r\nL 154.916336 131.122112 \r\nL 155.067086 170.090084 \r\nL 155.217835 162.849583 \r\nL 155.820834 103.551226 \r\nL 155.971584 150.949684 \r\nL 156.122333 139.284438 \r\nL 156.273083 138.798382 \r\nL 156.574583 110.020746 \r\nL 156.725332 118.736165 \r\nL 156.876082 142.787366 \r\nL 157.026832 144.446642 \r\nL 157.177581 154.871624 \r\nL 157.479081 125.423573 \r\nL 157.62983 147.5138 \r\nL 157.78058 126.999048 \r\nL 157.93133 133.166887 \r\nL 158.082079 147.530565 \r\nL 158.383579 133.150122 \r\nL 158.534329 148.11718 \r\nL 158.685078 131.842814 \r\nL 158.986578 159.983553 \r\nL 159.137327 160.670729 \r\nL 159.438827 121.836845 \r\nL 159.740326 147.765211 \r\nL 159.891076 149.726177 \r\nL 160.041826 75.427249 \r\nL 160.192575 131.742248 \r\nL 160.494075 101.539982 \r\nL 160.644824 159.296373 \r\nL 160.795574 93.863704 \r\nL 161.097073 168.766011 \r\nL 161.398573 138.563736 \r\nL 161.549322 158.408073 \r\nL 161.700072 119.2725 \r\nL 161.850822 139.250916 \r\nL 162.001572 117.948427 \r\nL 162.152321 144.061152 \r\nL 162.303071 111.713553 \r\nL 162.453821 145.368468 \r\nL 162.60457 134.993773 \r\nL 162.75532 155.424716 \r\nL 163.056819 102.84729 \r\nL 163.207569 150.279269 \r\nL 163.358319 136.51897 \r\nL 163.509069 167.475456 \r\nL 163.659818 134.541239 \r\nL 163.810568 131.440558 \r\nL 163.961318 109.635256 \r\nL 164.112067 122.406694 \r\nL 164.262817 170.190646 \r\nL 164.413567 171.16275 \r\nL 164.715066 113.62424 \r\nL 164.865816 135.429542 \r\nL 165.167315 111.864398 \r\nL 165.318065 164.45858 \r\nL 165.468815 96.444814 \r\nL 165.619564 149.340686 \r\nL 166.071813 122.121769 \r\nL 166.222563 115.182958 \r\nL 166.373313 168.682206 \r\nL 166.524062 155.106269 \r\nL 166.674812 152.458123 \r\nL 166.825562 122.473738 \r\nL 166.976312 160.704251 \r\nL 167.127061 105.713324 \r\nL 167.277811 142.368353 \r\nL 167.428561 134.675318 \r\nL 167.57931 159.363417 \r\nL 167.73006 109.618499 \r\nL 167.88081 136.937982 \r\nL 168.182309 110.188356 \r\nL 168.483809 158.81032 \r\nL 168.634558 124.468225 \r\nL 168.936058 165.263083 \r\nL 169.237557 139.854287 \r\nL 169.388307 156.715267 \r\nL 169.689806 120.496007 \r\nL 169.840556 114.445499 \r\nL 169.991305 145.368468 \r\nL 170.292805 131.608168 \r\nL 170.443555 171.011905 \r\nL 170.594304 147.379721 \r\nL 170.745054 146.038882 \r\nL 170.895804 125.758776 \r\nL 171.046553 175.419893 \r\nL 171.197303 107.221755 \r\nL 171.348053 143.37398 \r\nL 171.498802 136.870938 \r\nL 171.649552 171.397396 \r\nL 171.951052 118.75293 \r\nL 172.101801 103.23278 \r\nL 172.252551 140.223021 \r\nL 172.403301 121.769801 \r\nL 172.7048 136.552492 \r\nL 172.85555 162.816061 \r\nL 173.006299 147.329433 \r\nL 173.307799 101.188013 \r\nL 173.458548 125.356529 \r\nL 173.609298 172.587385 \r\nL 173.760048 112.920303 \r\nL 173.910798 150.044623 \r\nL 174.061547 145.92156 \r\nL 174.363047 91.299367 \r\nL 174.513796 146.122683 \r\nL 174.815296 159.028209 \r\nL 174.966045 91.500491 \r\nL 175.116795 140.759356 \r\nL 175.267545 149.273642 \r\nL 175.418295 129.244947 \r\nL 175.569044 131.64169 \r\nL 175.870544 147.899291 \r\nL 176.021293 173.727091 \r\nL 176.172043 109.517933 \r\nL 176.322793 121.451354 \r\nL 176.473542 154.536412 \r\nL 176.624292 129.798039 \r\nL 176.775042 144.899176 \r\nL 176.925791 67.583369 \r\nL 177.076541 144.161718 \r\nL 177.227291 140.642033 \r\nL 177.378041 150.664759 \r\nL 177.52879 119.222221 \r\nL 177.67954 147.681402 \r\nL 177.83029 121.30051 \r\nL 178.131789 151.754187 \r\nL 178.282539 136.317846 \r\nL 178.433288 141.681173 \r\nL 178.584038 101.975751 \r\nL 178.885538 148.368582 \r\nL 179.187037 160.151154 \r\nL 179.337787 136.569248 \r\nL 179.488536 132.932241 \r\nL 179.639286 153.145304 \r\nL 179.790036 76.868653 \r\nL 180.242285 159.028209 \r\nL 180.543784 161.341143 \r\nL 180.694534 160.100876 \r\nL 180.845284 138.379378 \r\nL 180.996033 92.757519 \r\nL 181.297533 127.166658 \r\nL 181.599032 155.692883 \r\nL 181.749782 108.88104 \r\nL 182.051281 147.463521 \r\nL 182.352781 143.491303 \r\nL 182.50353 110.707926 \r\nL 182.65428 136.502204 \r\nL 182.80503 131.122112 \r\nL 182.955779 131.055068 \r\nL 183.106529 103.635027 \r\nL 183.257279 150.547436 \r\nL 183.408028 149.994344 \r\nL 183.558778 175.252292 \r\nL 183.709528 156.530908 \r\nL 183.860278 123.144152 \r\nL 184.011027 138.127967 \r\nL 184.161777 134.524482 \r\nL 184.312527 137.356986 \r\nL 184.463276 165.296601 \r\nL 184.614026 154.268253 \r\nL 184.764776 135.060809 \r\nL 185.066275 152.558689 \r\nL 185.217025 132.59703 \r\nL 185.518524 157.60357 \r\nL 185.669274 149.055762 \r\nL 185.970773 105.109945 \r\nL 186.121523 148.066892 \r\nL 186.272273 81.913525 \r\nL 186.875271 151.167573 \r\nL 187.026021 146.709297 \r\nL 187.327521 152.743048 \r\nL 187.47827 143.239892 \r\nL 187.62902 172.419779 \r\nL 187.77977 113.959443 \r\nL 187.930519 137.826277 \r\nL 188.081269 119.121655 \r\nL 188.232019 130.18353 \r\nL 188.382768 149.877022 \r\nL 188.533518 115.400839 \r\nL 188.684268 144.96622 \r\nL 188.835017 95.891722 \r\nL 188.985767 99.629286 \r\nL 189.136517 145.251145 \r\nL 189.438016 129.06058 \r\nL 189.588766 175.6713 \r\nL 189.739516 158.843842 \r\nL 189.890265 166.084343 \r\nL 190.041015 128.440444 \r\nL 190.191765 151.536298 \r\nL 190.493264 118.132794 \r\nL 190.644014 140.206256 \r\nL 190.945513 106.266416 \r\nL 191.096263 133.636178 \r\nL 191.247013 135.077574 \r\nL 191.397762 117.663502 \r\nL 191.699262 158.944404 \r\nL 192.000761 134.340115 \r\nL 192.151511 106.85303 \r\nL 192.30226 144.228762 \r\nL 192.45301 126.462722 \r\nL 192.60376 122.289371 \r\nL 192.75451 159.162289 \r\nL 192.905259 116.842234 \r\nL 193.056009 126.077231 \r\nL 193.206759 156.681753 \r\nL 193.508258 141.949341 \r\nL 193.659008 108.076537 \r\nL 193.809757 148.502661 \r\nL 193.960507 131.272957 \r\nL 194.111257 165.732375 \r\nL 194.262007 145.78748 \r\nL 194.412756 146.30705 \r\nL 194.714256 162.698738 \r\nL 194.865005 125.708498 \r\nL 195.015755 128.892979 \r\nL 195.166505 122.239092 \r\nL 195.317254 160.68749 \r\nL 195.468004 125.356529 \r\nL 195.618754 139.468805 \r\nL 195.769503 92.556396 \r\nL 196.071003 155.793449 \r\nL 196.221753 161.039458 \r\nL 196.372502 139.653164 \r\nL 196.523252 182.07378 \r\nL 196.674002 118.048984 \r\nL 196.824751 126.848204 \r\nL 196.975501 156.882877 \r\nL 197.126251 118.183072 \r\nL 197.42775 153.547551 \r\nL 197.72925 135.127853 \r\nL 197.879999 163.452958 \r\nL 198.030749 150.329548 \r\nL 198.181499 160.452844 \r\nL 198.332248 151.033485 \r\nL 198.482998 150.564193 \r\nL 198.633748 147.228876 \r\nL 198.784497 136.954739 \r\nL 198.935247 151.234617 \r\nL 199.085997 142.368353 \r\nL 199.236747 159.93327 \r\nL 199.387496 150.36307 \r\nL 199.538246 131.742248 \r\nL 199.688996 170.509092 \r\nL 199.839745 150.497158 \r\nL 199.990495 156.514143 \r\nL 200.291994 106.618385 \r\nL 200.442744 137.42403 \r\nL 200.593494 126.999048 \r\nL 200.744243 103.953482 \r\nL 200.894993 150.849126 \r\nL 201.648742 103.048413 \r\nL 201.799491 166.285467 \r\nL 201.950241 150.715038 \r\nL 202.100991 155.793449 \r\nL 202.25174 101.89195 \r\nL 202.40249 114.328177 \r\nL 202.55324 108.244147 \r\nL 202.70399 126.278355 \r\nL 202.854739 160.251716 \r\nL 203.306988 133.719979 \r\nL 203.457738 153.815718 \r\nL 203.759237 114.763946 \r\nL 203.909987 152.257 \r\nL 204.060737 140.491188 \r\nL 204.211486 162.933384 \r\nL 204.362236 105.227268 \r\nL 204.663736 150.262512 \r\nL 204.814485 117.981949 \r\nL 204.965235 150.597715 \r\nL 205.266734 129.999163 \r\nL 205.417484 154.083886 \r\nL 205.568234 141.86554 \r\nL 205.718983 152.910658 \r\nL 205.869733 117.37857 \r\nL 206.171233 144.19524 \r\nL 206.321982 141.195125 \r\nL 206.623482 173.877936 \r\nL 206.924981 98.120855 \r\nL 207.22648 157.268367 \r\nL 207.37723 112.233123 \r\nL 207.52798 145.888038 \r\nL 207.678729 151.217851 \r\nL 207.829479 134.775884 \r\nL 207.980229 144.748332 \r\nL 208.130979 134.977008 \r\nL 208.432478 157.653849 \r\nL 208.583228 133.753501 \r\nL 208.733977 136.820659 \r\nL 208.884727 129.663959 \r\nL 209.035477 149.206607 \r\nL 209.186226 137.491074 \r\nL 209.336976 160.335521 \r\nL 209.789225 102.864055 \r\nL 209.939975 110.77497 \r\nL 210.090725 100.215909 \r\nL 210.392224 145.519312 \r\nL 210.542974 115.21648 \r\nL 210.693723 148.938439 \r\nL 210.995223 124.635835 \r\nL 211.145972 134.842928 \r\nL 211.296722 94.902852 \r\nL 211.447472 157.637092 \r\nL 211.598222 155.542039 \r\nL 211.748971 117.697016 \r\nL 211.899721 158.42483 \r\nL 212.20122 144.79861 \r\nL 212.35197 146.876907 \r\nL 212.50272 138.530214 \r\nL 212.653469 137.340229 \r\nL 212.804219 161.961279 \r\nL 212.954969 108.713438 \r\nL 213.256468 159.916509 \r\nL 213.407218 134.407159 \r\nL 213.557968 163.989289 \r\nL 213.708717 141.731461 \r\nL 213.859467 95.925235 \r\nL 214.160966 148.33506 \r\nL 214.462466 100.182387 \r\nL 214.613216 143.709183 \r\nL 214.763965 119.875871 \r\nL 214.914715 121.853602 \r\nL 215.065465 112.870016 \r\nL 215.216214 164.777031 \r\nL 215.366964 150.111667 \r\nL 215.517714 91.014434 \r\nL 215.668463 150.899405 \r\nL 215.969963 93.394412 \r\nL 216.120712 133.954625 \r\nL 216.271462 129.127624 \r\nL 216.422212 156.748789 \r\nL 216.723711 113.289028 \r\nL 216.874461 144.647766 \r\nL 217.025211 132.412663 \r\nL 217.17596 141.664417 \r\nL 217.32671 116.926044 \r\nL 217.47746 123.747532 \r\nL 217.778959 163.587042 \r\nL 217.929709 147.681402 \r\nL 218.080459 95.120741 \r\nL 218.381958 151.770943 \r\nL 218.532708 147.932813 \r\nL 218.683457 138.044166 \r\nL 218.834207 161.441705 \r\nL 218.984957 151.95531 \r\nL 219.135706 163.352396 \r\nL 219.437206 132.412663 \r\nL 219.587955 167.492217 \r\nL 219.738705 144.144961 \r\nL 219.889455 146.99423 \r\nL 220.040205 128.406922 \r\nL 220.190954 147.564079 \r\nL 220.341704 137.139106 \r\nL 220.643203 166.302228 \r\nL 220.793953 136.954739 \r\nL 220.944703 131.90985 \r\nL 221.095452 149.055762 \r\nL 221.246202 136.636292 \r\nL 221.396952 111.378341 \r\nL 221.547702 182.962084 \r\nL 221.698451 142.602999 \r\nL 221.849201 187.973447 \r\nL 222.1507 120.78094 \r\nL 222.30145 160.989175 \r\nL 222.4522 137.859799 \r\nL 222.602949 162.078602 \r\nL 222.753699 165.866458 \r\nL 223.055198 109.031885 \r\nL 223.205948 168.766011 \r\nL 223.507448 114.646623 \r\nL 223.658197 114.948313 \r\nL 223.808947 123.864855 \r\nL 223.959697 118.719408 \r\nL 224.110446 139.234151 \r\nL 224.261196 193.001571 \r\nL 224.411946 118.250116 \r\nL 224.562695 105.663037 \r\nL 224.713445 107.204999 \r\nL 224.864195 160.301999 \r\nL 225.014945 170.240924 \r\nL 225.165694 138.982749 \r\nL 225.316444 165.129 \r\nL 225.467194 139.368239 \r\nL 225.768693 170.458813 \r\nL 225.919443 108.294426 \r\nL 226.070192 158.03934 \r\nL 226.220942 130.116485 \r\nL 226.371692 130.401418 \r\nL 226.823941 140.474423 \r\nL 226.974691 131.608168 \r\nL 227.12544 129.764517 \r\nL 227.27619 143.776227 \r\nL 227.42694 115.317038 \r\nL 227.728439 149.089284 \r\nL 227.879189 149.072519 \r\nL 228.029938 121.551912 \r\nL 228.180688 130.26733 \r\nL 228.331438 153.698396 \r\nL 228.482188 145.502547 \r\nL 228.632937 119.238978 \r\nL 228.783687 163.654082 \r\nL 228.934437 140.507945 \r\nL 229.085186 161.223821 \r\nL 229.235936 108.612872 \r\nL 229.386686 116.825478 \r\nL 229.537435 147.329433 \r\nL 229.688185 111.998477 \r\nL 229.838935 117.227725 \r\nL 229.989685 128.390165 \r\nL 230.140434 111.227496 \r\nL 230.291184 128.189042 \r\nL 230.441934 92.32175 \r\nL 230.592683 150.53068 \r\nL 230.743433 162.179164 \r\nL 230.894183 84.109137 \r\nL 231.044932 98.92535 \r\nL 231.195682 125.323007 \r\nL 231.346432 83.908021 \r\nL 231.497181 137.977122 \r\nL 231.647931 140.038654 \r\nL 231.798681 133.300967 \r\nL 231.949431 98.187891 \r\nL 232.10018 171.347113 \r\nL 232.25093 126.764403 \r\nL 232.40168 166.302228 \r\nL 232.703179 117.697016 \r\nL 232.853929 120.261361 \r\nL 233.004678 159.044966 \r\nL 233.155428 118.66912 \r\nL 233.306178 165.648574 \r\nL 233.456928 124.0995 \r\nL 233.607677 120.462485 \r\nL 233.758427 139.636407 \r\nL 233.909177 142.100186 \r\nL 234.210676 86.723769 \r\nL 234.361426 170.458813 \r\nL 234.662925 133.854059 \r\nL 234.964424 101.908707 \r\nL 235.265924 171.68232 \r\nL 235.416674 153.899519 \r\nL 235.567423 161.89424 \r\nL 235.718173 110.372715 \r\nL 235.868923 110.858771 \r\nL 236.019672 127.116371 \r\nL 236.170422 98.908593 \r\nL 236.321172 121.736279 \r\nL 236.471921 119.2725 \r\nL 236.622671 111.478907 \r\nL 236.773421 116.691398 \r\nL 236.924171 133.133365 \r\nL 237.07492 174.380749 \r\nL 237.22567 160.402561 \r\nL 237.37642 112.93706 \r\nL 237.677919 144.362841 \r\nL 237.828669 147.748446 \r\nL 237.979418 164.257457 \r\nL 238.130168 159.480739 \r\nL 238.280918 89.254592 \r\nL 238.582417 142.921445 \r\nL 238.883917 121.535155 \r\nL 239.034666 149.458009 \r\nL 239.185416 140.155977 \r\nL 239.336166 162.598177 \r\nL 239.486915 99.260561 \r\nL 239.788415 168.732489 \r\nL 240.089914 115.333803 \r\nL 240.240664 117.395335 \r\nL 240.391414 126.228076 \r\nL 240.692913 107.456401 \r\nL 240.994412 174.682434 \r\nL 241.145162 98.288457 \r\nL 241.446661 141.764974 \r\nL 241.597411 162.749021 \r\nL 241.748161 129.412549 \r\nL 241.89891 178.420008 \r\nL 242.04966 119.95968 \r\nL 242.35116 151.167573 \r\nL 242.501909 112.1158 \r\nL 242.652659 171.581758 \r\nL 242.803409 72.10868 \r\nL 242.954158 127.803551 \r\nL 243.104908 141.99962 \r\nL 243.255658 131.272957 \r\nL 243.406407 158.793564 \r\nL 243.707907 107.841892 \r\nL 243.858657 139.653164 \r\nL 244.009406 133.787023 \r\nL 244.160156 156.430342 \r\nL 244.310906 138.060923 \r\nL 244.461655 138.11121 \r\nL 244.612405 137.055305 \r\nL 244.763155 144.865654 \r\nL 244.913904 92.020061 \r\nL 245.064654 105.093188 \r\nL 245.215404 134.993773 \r\nL 245.366154 139.100071 \r\nL 245.516903 167.341372 \r\nL 245.667653 112.400724 \r\nL 245.818403 137.172628 \r\nL 246.119902 107.439644 \r\nL 246.270652 109.115686 \r\nL 246.421401 156.547665 \r\nL 246.572151 144.480164 \r\nL 246.722901 111.478907 \r\nL 247.0244 151.033485 \r\nL 247.17515 150.580959 \r\nL 247.3259 135.278698 \r\nL 247.476649 157.117522 \r\nL 247.627399 138.429657 \r\nL 247.778149 101.288571 \r\nL 247.928898 112.199601 \r\nL 248.079648 136.954739 \r\nL 248.230398 130.18353 \r\nL 248.381147 100.584634 \r\nL 248.682647 106.517819 \r\nL 248.833397 124.753158 \r\nL 248.984146 121.98769 \r\nL 249.134896 149.424487 \r\nL 249.285646 121.551912 \r\nL 249.436395 148.821116 \r\nL 249.587145 110.657647 \r\nL 249.737895 147.212111 \r\nL 249.888644 105.311069 \r\nL 250.039394 141.295683 \r\nL 250.190144 125.30625 \r\nL 250.340893 84.595202 \r\nL 250.491643 135.228419 \r\nL 250.642393 148.402104 \r\nL 250.793143 126.144267 \r\nL 250.943892 151.469262 \r\nL 251.094642 134.859685 \r\nL 251.245392 149.793221 \r\nL 251.396141 130.552263 \r\nL 251.546891 90.025573 \r\nL 251.697641 159.346656 \r\nL 251.84839 118.266873 \r\nL 251.99914 123.445842 \r\nL 252.14989 158.357794 \r\nL 252.30064 107.305565 \r\nL 252.451389 135.01053 \r\nL 252.602139 125.490617 \r\nL 252.752889 159.279612 \r\nL 252.903638 140.859914 \r\nL 253.054388 161.911001 \r\nL 253.205138 156.229219 \r\nL 253.355887 133.736736 \r\nL 253.657387 179.023383 \r\nL 253.958886 130.468454 \r\nL 254.109636 154.603456 \r\nL 254.260386 116.289142 \r\nL 254.411135 128.825935 \r\nL 254.561885 156.597944 \r\nL 254.712635 157.335403 \r\nL 254.863384 108.076537 \r\nL 255.164884 138.496701 \r\nL 255.315633 140.3571 \r\nL 255.466383 106.953596 \r\nL 255.617133 119.121655 \r\nL 255.767883 112.065521 \r\nL 255.918632 129.36227 \r\nL 256.069382 131.876336 \r\nL 256.220132 120.86474 \r\nL 256.521631 166.888842 \r\nL 256.672381 139.736964 \r\nL 256.82313 144.848898 \r\nL 257.12463 161.20706 \r\nL 257.275379 66.209026 \r\nL 257.426129 95.020175 \r\nL 257.576879 147.245633 \r\nL 257.727629 125.423573 \r\nL 257.878378 121.702757 \r\nL 258.029128 103.283059 \r\nL 258.179878 141.161603 \r\nL 258.330627 105.026144 \r\nL 258.481377 123.797811 \r\nL 258.632127 127.082849 \r\nL 258.782876 87.813196 \r\nL 258.933626 179.643519 \r\nL 259.084376 119.456867 \r\nL 259.235126 145.569591 \r\nL 259.536625 121.099386 \r\nL 259.687375 148.653506 \r\nL 259.838124 111.59623 \r\nL 259.988874 142.837645 \r\nL 260.139624 147.966335 \r\nL 260.290373 124.23358 \r\nL 260.441123 145.066778 \r\nL 260.591873 131.960137 \r\nL 260.893372 164.089851 \r\nL 261.044122 155.273871 \r\nL 261.194872 153.84924 \r\nL 261.345621 139.703451 \r\nL 261.496371 136.954739 \r\nL 261.647121 123.697253 \r\nL 261.79787 153.564308 \r\nL 261.94862 134.692084 \r\nL 262.09937 78.695531 \r\nL 262.400869 128.909735 \r\nL 262.551619 148.133936 \r\nL 262.702369 104.171362 \r\nL 262.853118 125.926386 \r\nL 263.003868 112.099043 \r\nL 263.154618 134.524482 \r\nL 263.305367 129.127624 \r\nL 263.606867 143.558347 \r\nL 263.757616 149.977579 \r\nL 264.059116 106.232894 \r\nL 264.209866 157.60357 \r\nL 264.360615 94.701728 \r\nL 264.662115 112.333689 \r\nL 264.812864 108.596116 \r\nL 264.963614 131.122112 \r\nL 265.114364 114.026487 \r\nL 265.265113 151.938553 \r\nL 265.566613 129.915362 \r\nL 265.717362 144.077917 \r\nL 265.868112 114.512543 \r\nL 266.018862 130.535498 \r\nL 266.169612 112.920303 \r\nL 266.320361 116.859 \r\nL 266.621861 159.447217 \r\nL 266.77261 96.712981 \r\nL 267.07411 135.69771 \r\nL 267.224859 117.814339 \r\nL 267.375609 144.044395 \r\nL 267.526359 130.719865 \r\nL 267.827858 152.189956 \r\nL 268.129358 102.243919 \r\nL 268.280107 151.603342 \r\nL 268.430857 124.753158 \r\nL 268.581607 176.073551 \r\nL 268.732356 136.401647 \r\nL 268.883106 147.379721 \r\nL 269.033856 113.490152 \r\nL 269.184605 181.638011 \r\nL 269.335355 157.90526 \r\nL 269.486105 169.536988 \r\nL 269.636855 145.770715 \r\nL 269.787604 145.938325 \r\nL 269.938354 162.095363 \r\nL 270.089104 143.575103 \r\nL 270.239853 148.469148 \r\nL 270.390603 114.495778 \r\nL 270.541353 105.579236 \r\nL 270.692102 162.598177 \r\nL 270.842852 123.211197 \r\nL 270.993602 122.389937 \r\nL 271.144352 125.842586 \r\nL 271.295101 140.256543 \r\nL 271.445851 140.440901 \r\nL 271.596601 136.787137 \r\nL 271.74735 120.227839 \r\nL 271.8981 130.652821 \r\nL 272.04885 128.926501 \r\nL 272.199599 154.620221 \r\nL 272.350349 153.614595 \r\nL 272.501099 111.395106 \r\nL 272.651848 121.736279 \r\nL 272.802598 123.546408 \r\nL 272.953348 143.323693 \r\nL 273.104098 94.584406 \r\nL 273.254847 107.305565 \r\nL 273.405597 165.464207 \r\nL 273.707096 139.569363 \r\nL 273.857846 124.904003 \r\nL 274.008596 144.362841 \r\nL 274.159345 103.0987 \r\nL 274.310095 127.233694 \r\nL 274.460845 120.043481 \r\nL 274.762344 127.46834 \r\nL 274.913094 125.457095 \r\nL 275.063844 169.402904 \r\nL 275.214593 118.870253 \r\nL 275.365343 177.26354 \r\nL 275.666842 137.289951 \r\nL 275.817592 151.703908 \r\nL 275.968342 146.457895 \r\nL 276.119092 152.608968 \r\nL 276.269841 135.949112 \r\nL 276.420591 156.262741 \r\nL 276.571341 119.741791 \r\nL 276.72209 139.284438 \r\nL 277.02359 100.266188 \r\nL 277.325089 133.233923 \r\nL 277.475839 153.229104 \r\nL 277.928088 92.891599 \r\nL 278.229587 171.699081 \r\nL 278.380337 132.915476 \r\nL 278.531087 165.397167 \r\nL 278.681836 155.558804 \r\nL 278.983336 117.177446 \r\nL 279.134085 171.866687 \r\nL 279.284835 143.340458 \r\nL 279.435585 136.669815 \r\nL 279.586335 106.769229 \r\nL 279.737084 149.005475 \r\nL 280.038584 109.735822 \r\nL 280.189333 126.479478 \r\nL 280.340083 120.060237 \r\nL 280.641582 166.754758 \r\nL 280.792332 118.233351 \r\nL 280.943082 152.541924 \r\nL 281.093831 117.663502 \r\nL 281.395331 153.98332 \r\nL 281.546081 66.661543 \r\nL 281.69683 147.413243 \r\nL 281.84758 127.702985 \r\nL 282.149079 137.072062 \r\nL 282.299829 147.044509 \r\nL 282.450579 113.004104 \r\nL 282.601328 173.408644 \r\nL 282.902828 111.81411 \r\nL 283.053578 117.663502 \r\nL 283.204327 155.87725 \r\nL 283.355077 139.97161 \r\nL 283.505827 98.908593 \r\nL 283.958076 156.581187 \r\nL 284.108825 108.260904 \r\nL 284.259575 137.55811 \r\nL 284.410325 117.009844 \r\nL 284.711824 141.697939 \r\nL 284.862574 144.563965 \r\nL 285.013324 170.056562 \r\nL 285.314823 99.545486 \r\nL 285.465573 138.697824 \r\nL 285.767072 153.178826 \r\nL 285.917822 151.972075 \r\nL 286.068571 108.009502 \r\nL 286.219321 106.316695 \r\nL 286.370071 120.529529 \r\nL 286.520821 152.072633 \r\nL 286.67157 87.159547 \r\nL 286.82232 144.58073 \r\nL 286.97307 126.999048 \r\nL 287.123819 132.781397 \r\nL 287.274569 120.060237 \r\nL 287.425319 139.83753 \r\nL 287.576068 140.910201 \r\nL 287.877568 104.121084 \r\nL 288.179067 190.169062 \r\nL 288.480567 101.188013 \r\nL 288.631316 110.22187 \r\nL 288.782066 149.15632 \r\nL 288.932816 73.097549 \r\nL 289.083565 122.440216 \r\nL 289.234315 115.534927 \r\nL 289.385065 146.122683 \r\nL 289.535814 84.880118 \r\nL 289.837314 168.162636 \r\nL 289.988064 121.736279 \r\nL 290.138813 170.307968 \r\nL 290.289563 125.423573 \r\nL 290.440313 134.608283 \r\nL 290.591062 102.394755 \r\nL 290.741812 155.391194 \r\nL 291.043311 138.965992 \r\nL 291.194061 107.741334 \r\nL 291.344811 145.502547 \r\nL 291.64631 133.652935 \r\nL 291.79706 153.095016 \r\nL 291.94781 152.290522 \r\nL 292.249309 100.584634 \r\nL 292.550808 159.430456 \r\nL 292.701558 126.613558 \r\nL 292.852308 174.682434 \r\nL 293.455307 116.004218 \r\nL 293.606056 155.558804 \r\nL 293.756806 141.748217 \r\nL 293.907556 146.726063 \r\nL 294.058305 124.350903 \r\nL 294.209055 122.976551 \r\nL 294.510554 139.854287 \r\nL 294.661304 135.412777 \r\nL 294.812054 148.485905 \r\nL 294.962804 137.172628 \r\nL 295.113553 96.461571 \r\nL 295.264303 138.597258 \r\nL 295.415053 97.919732 \r\nL 295.867302 117.026601 \r\nL 296.018051 119.741791 \r\nL 296.168801 143.290179 \r\nL 296.319551 90.176418 \r\nL 296.62105 141.027524 \r\nL 296.7718 133.787023 \r\nL 296.92255 139.049793 \r\nL 297.073299 178.604374 \r\nL 297.224049 124.686114 \r\nL 297.374799 124.820194 \r\nL 297.525548 149.189842 \r\nL 297.676298 135.69771 \r\nL 297.827048 177.447907 \r\nL 297.977797 82.785064 \r\nL 298.128547 166.872081 \r\nL 298.279297 132.98252 \r\nL 298.430047 141.530328 \r\nL 298.580796 122.172048 \r\nL 298.731546 150.111667 \r\nL 299.033045 118.819965 \r\nL 299.334545 157.201323 \r\nL 299.485294 103.651792 \r\nL 299.636044 155.810206 \r\nL 299.786794 137.775999 \r\nL 299.937543 102.864055 \r\nL 300.088293 146.00536 \r\nL 300.239043 115.937174 \r\nL 300.389793 178.554091 \r\nL 300.691292 114.277898 \r\nL 300.842042 172.587385 \r\nL 300.992791 96.126367 \r\nL 301.143541 93.494978 \r\nL 301.294291 125.591175 \r\nL 301.59579 111.629752 \r\nL 301.74654 145.48579 \r\nL 301.89729 94.064836 \r\nL 302.048039 151.871509 \r\nL 302.198789 147.262398 \r\nL 302.349539 103.718828 \r\nL 302.500288 107.590489 \r\nL 302.801788 155.441481 \r\nL 302.952537 128.457209 \r\nL 303.103287 147.195354 \r\nL 303.254037 124.300624 \r\nL 303.404786 126.714124 \r\nL 303.555536 89.656839 \r\nL 303.857036 163.771405 \r\nL 304.007785 111.026373 \r\nL 304.309285 160.251716 \r\nL 304.460034 143.575103 \r\nL 304.610784 149.122798 \r\nL 304.761534 148.988718 \r\nL 304.912283 137.005018 \r\nL 305.063033 105.244033 \r\nL 305.213783 102.227153 \r\nL 305.364533 139.083315 \r\nL 305.515282 65.840292 \r\nL 305.666032 136.032913 \r\nL 305.816782 128.457209 \r\nL 306.118281 165.430685 \r\nL 306.269031 191.426091 \r\nL 306.41978 91.953017 \r\nL 306.57053 145.653392 \r\nL 306.72128 156.480621 \r\nL 306.872029 137.72572 \r\nL 307.022779 162.614938 \r\nL 307.173529 121.518398 \r\nL 307.324279 125.959908 \r\nL 307.475028 145.234388 \r\nL 307.625778 184.839248 \r\nL 307.776528 94.450318 \r\nL 308.078027 184.688404 \r\nL 308.228777 158.056105 \r\nL 308.379526 86.958415 \r\nL 308.831776 142.401875 \r\nL 308.982525 117.345048 \r\nL 309.133275 138.412891 \r\nL 309.284025 143.156091 \r\nL 309.434774 174.296948 \r\nL 309.585524 107.087676 \r\nL 309.736274 119.205456 \r\nL 309.887023 156.044852 \r\nL 310.037773 98.824792 \r\nL 310.339273 143.508059 \r\nL 310.791522 108.05978 \r\nL 310.942271 114.043252 \r\nL 311.093021 101.774627 \r\nL 311.243771 149.307164 \r\nL 311.39452 110.288914 \r\nL 311.54527 128.742134 \r\nL 311.69602 106.249651 \r\nL 311.997519 148.150693 \r\nL 312.148269 130.384653 \r\nL 312.299019 127.753273 \r\nL 312.449768 156.313019 \r\nL 312.751268 90.763032 \r\nL 312.902017 127.63595 \r\nL 313.052767 126.563279 \r\nL 313.203517 139.250916 \r\nL 313.354266 136.820659 \r\nL 313.505016 113.70804 \r\nL 313.655766 152.759813 \r\nL 313.957265 102.344476 \r\nL 314.108015 115.099157 \r\nL 314.258765 149.256886 \r\nL 314.409514 106.316695 \r\nL 314.560264 136.183758 \r\nL 314.711014 142.301309 \r\nL 314.861763 157.050478 \r\nL 315.012513 135.178132 \r\nL 315.163263 150.480392 \r\nL 315.464762 78.846375 \r\nL 315.615512 105.277555 \r\nL 315.766262 110.355958 \r\nL 315.917011 154.15093 \r\nL 316.067761 121.568677 \r\nL 316.218511 163.067468 \r\nL 316.52001 123.630209 \r\nL 316.67076 153.212339 \r\nL 316.972259 118.099272 \r\nL 317.123009 147.698167 \r\nL 317.273759 104.456287 \r\nL 317.424508 114.244376 \r\nL 317.575258 162.983667 \r\nL 317.726008 139.703451 \r\nL 317.876757 94.031314 \r\nL 318.027507 123.663731 \r\nL 318.178257 130.753387 \r\nL 318.329006 163.587042 \r\nL 318.479756 149.893778 \r\nL 318.630506 95.25482 \r\nL 318.781255 129.697481 \r\nL 318.932005 121.065864 \r\nL 319.233505 144.563965 \r\nL 319.384254 143.792992 \r\nL 319.535004 117.797582 \r\nL 319.836503 149.944057 \r\nL 319.987253 137.641919 \r\nL 320.138003 161.173542 \r\nL 320.288752 117.814339 \r\nL 320.439502 118.887009 \r\nL 320.590252 114.495778 \r\nL 320.741002 136.669815 \r\nL 320.891751 195.666477 \r\nL 321.193251 136.183758 \r\nL 321.344 153.614595 \r\nL 321.49475 118.400961 \r\nL 321.6455 116.322664 \r\nL 321.946999 136.334603 \r\nL 322.097749 128.926501 \r\nL 322.248498 162.765778 \r\nL 322.399248 77.62286 \r\nL 322.700748 132.932241 \r\nL 322.851497 100.048299 \r\nL 323.002247 155.324158 \r\nL 323.152997 122.792184 \r\nL 323.303746 160.369039 \r\nL 323.454496 77.153569 \r\nL 323.605246 149.826734 \r\nL 323.906745 120.764174 \r\nL 324.057495 152.826857 \r\nL 324.208245 119.171934 \r\nL 324.358994 119.054611 \r\nL 324.509744 135.848555 \r\nL 324.660494 173.542728 \r\nL 324.811243 136.686571 \r\nL 324.961993 148.871395 \r\nL 325.112743 146.172971 \r\nL 325.263492 101.573495 \r\nL 325.414242 113.557196 \r\nL 325.564992 95.439187 \r\nL 325.715742 112.316924 \r\nL 325.866491 157.553292 \r\nL 326.017241 143.524825 \r\nL 326.167991 167.961508 \r\nL 326.46949 109.735822 \r\nL 326.62024 116.55731 \r\nL 326.770989 57.225431 \r\nL 327.072489 192.09651 \r\nL 327.223238 96.89734 \r\nL 327.373988 80.9917 \r\nL 327.524738 143.189613 \r\nL 327.826237 118.937288 \r\nL 327.976987 131.407036 \r\nL 328.127737 126.714124 \r\nL 328.278486 149.458009 \r\nL 328.429236 99.361127 \r\nL 328.579986 107.3726 \r\nL 328.730735 104.707698 \r\nL 328.881485 114.210854 \r\nL 329.032235 165.531251 \r\nL 329.182985 144.681288 \r\nL 329.333734 151.703908 \r\nL 329.484484 100.098586 \r\nL 329.635234 109.517933 \r\nL 329.785983 84.192954 \r\nL 330.238232 157.016956 \r\nL 330.388982 156.530908 \r\nL 330.539732 118.132794 \r\nL 330.690481 148.368582 \r\nL 330.841231 127.937631 \r\nL 330.991981 130.015928 \r\nL 331.29348 178.068039 \r\nL 331.44423 104.406008 \r\nL 331.59498 106.685429 \r\nL 331.745729 142.871167 \r\nL 331.896479 104.523331 \r\nL 332.197978 175.30257 \r\nL 332.499478 111.914676 \r\nL 332.650228 163.503237 \r\nL 332.800977 141.446528 \r\nL 332.951727 161.408187 \r\nL 333.253226 132.228305 \r\nL 333.403976 140.642033 \r\nL 333.554726 162.195925 \r\nL 333.705475 153.430228 \r\nL 334.006975 103.685314 \r\nL 334.157724 165.229561 \r\nL 334.308474 146.172971 \r\nL 334.459224 112.367211 \r\nL 334.760723 149.709412 \r\nL 334.911473 123.144152 \r\nL 335.212972 168.430799 \r\nL 335.363722 152.458123 \r\nL 335.514472 88.299253 \r\nL 335.665221 149.977579 \r\nL 336.117471 126.680602 \r\nL 336.26822 160.084115 \r\nL 336.41897 151.134051 \r\nL 336.56972 118.954053 \r\nL 336.720469 144.111439 \r\nL 336.871219 126.596801 \r\nL 337.021969 159.447217 \r\nL 337.172718 154.502898 \r\nL 337.323468 109.953711 \r\nL 337.474218 172.704708 \r\nL 337.624967 154.335288 \r\nL 337.775717 151.603342 \r\nL 337.926467 85.148294 \r\nL 338.227966 122.641339 \r\nL 338.378716 148.284781 \r\nL 338.830965 122.289371 \r\nL 339.132464 157.871738 \r\nL 339.283214 124.61907 \r\nL 339.433964 124.803437 \r\nL 339.584714 147.078031 \r\nL 339.735463 138.580501 \r\nL 339.886213 140.2733 \r\nL 340.036963 144.19524 \r\nL 340.187712 134.340115 \r\nL 340.338462 145.670157 \r\nL 340.489212 105.109945 \r\nL 340.790711 135.882068 \r\nL 340.941461 128.943257 \r\nL 341.092211 174.799761 \r\nL 341.24296 145.653392 \r\nL 341.39371 144.513686 \r\nL 341.54446 153.916276 \r\nL 341.695209 91.148522 \r\nL 341.845959 153.279383 \r\nL 341.996709 110.691169 \r\nL 342.147458 145.804237 \r\nL 342.298208 106.16585 \r\nL 342.448958 157.687371 \r\nL 342.599707 130.619299 \r\nL 342.750457 133.217166 \r\nL 342.901207 101.992508 \r\nL 343.353456 144.664531 \r\nL 343.504206 175.336092 \r\nL 343.654955 140.2733 \r\nL 343.805705 150.296034 \r\nL 344.107204 111.210739 \r\nL 344.257954 120.211082 \r\nL 344.408704 79.416224 \r\nL 344.559454 141.278926 \r\nL 344.860953 109.450897 \r\nL 345.162452 158.072862 \r\nL 345.313202 175.051164 \r\nL 345.463952 104.13784 \r\nL 345.614701 161.357904 \r\nL 345.765451 122.105012 \r\nL 345.916201 145.653392 \r\nL 346.2177 125.356529 \r\nL 346.36845 153.07826 \r\nL 346.5192 84.360556 \r\nL 346.669949 104.590375 \r\nL 346.820699 140.239778 \r\nL 346.971449 90.947399 \r\nL 347.122198 152.743048 \r\nL 347.272948 119.255735 \r\nL 347.423698 129.563393 \r\nL 347.574447 124.40119 \r\nL 347.725197 138.580501 \r\nL 347.875947 134.675318 \r\nL 348.026697 167.24081 \r\nL 348.328196 94.081592 \r\nL 348.478946 145.821002 \r\nL 348.629695 114.680145 \r\nL 348.780445 120.227839 \r\nL 348.931195 136.636292 \r\nL 349.081944 111.629752 \r\nL 349.383444 146.60874 \r\nL 349.534193 145.016499 \r\nL 349.684943 134.977008 \r\nL 349.684943 134.977008 \r\n\" style=\"fill:none;stroke:#0000ff;stroke-linecap:square;stroke-width:1.5;\"/>\r\n   </g>\r\n   <g id=\"patch_3\">\r\n    <path d=\"M 30.103125 239.758125 \r\nL 30.103125 22.318125 \r\n\" style=\"fill:none;stroke:#000000;stroke-linecap:square;stroke-linejoin:miter;stroke-width:0.8;\"/>\r\n   </g>\r\n   <g id=\"patch_4\">\r\n    <path d=\"M 364.903125 239.758125 \r\nL 364.903125 22.318125 \r\n\" style=\"fill:none;stroke:#000000;stroke-linecap:square;stroke-linejoin:miter;stroke-width:0.8;\"/>\r\n   </g>\r\n   <g id=\"patch_5\">\r\n    <path d=\"M 30.103125 239.758125 \r\nL 364.903125 239.758125 \r\n\" style=\"fill:none;stroke:#000000;stroke-linecap:square;stroke-linejoin:miter;stroke-width:0.8;\"/>\r\n   </g>\r\n   <g id=\"patch_6\">\r\n    <path d=\"M 30.103125 22.318125 \r\nL 364.903125 22.318125 \r\n\" style=\"fill:none;stroke:#000000;stroke-linecap:square;stroke-linejoin:miter;stroke-width:0.8;\"/>\r\n   </g>\r\n   <g id=\"text_18\">\r\n    <!-- accuracy -->\r\n    <defs>\r\n     <path d=\"M 34.28125 27.484375 \r\nQ 23.390625 27.484375 19.1875 25 \r\nQ 14.984375 22.515625 14.984375 16.5 \r\nQ 14.984375 11.71875 18.140625 8.90625 \r\nQ 21.296875 6.109375 26.703125 6.109375 \r\nQ 34.1875 6.109375 38.703125 11.40625 \r\nQ 43.21875 16.703125 43.21875 25.484375 \r\nL 43.21875 27.484375 \r\nz\r\nM 52.203125 31.203125 \r\nL 52.203125 0 \r\nL 43.21875 0 \r\nL 43.21875 8.296875 \r\nQ 40.140625 3.328125 35.546875 0.953125 \r\nQ 30.953125 -1.421875 24.3125 -1.421875 \r\nQ 15.921875 -1.421875 10.953125 3.296875 \r\nQ 6 8.015625 6 15.921875 \r\nQ 6 25.140625 12.171875 29.828125 \r\nQ 18.359375 34.515625 30.609375 34.515625 \r\nL 43.21875 34.515625 \r\nL 43.21875 35.40625 \r\nQ 43.21875 41.609375 39.140625 45 \r\nQ 35.0625 48.390625 27.6875 48.390625 \r\nQ 23 48.390625 18.546875 47.265625 \r\nQ 14.109375 46.140625 10.015625 43.890625 \r\nL 10.015625 52.203125 \r\nQ 14.9375 54.109375 19.578125 55.046875 \r\nQ 24.21875 56 28.609375 56 \r\nQ 40.484375 56 46.34375 49.84375 \r\nQ 52.203125 43.703125 52.203125 31.203125 \r\nz\r\n\" id=\"DejaVuSans-97\"/>\r\n     <path d=\"M 48.78125 52.59375 \r\nL 48.78125 44.1875 \r\nQ 44.96875 46.296875 41.140625 47.34375 \r\nQ 37.3125 48.390625 33.40625 48.390625 \r\nQ 24.65625 48.390625 19.8125 42.84375 \r\nQ 14.984375 37.3125 14.984375 27.296875 \r\nQ 14.984375 17.28125 19.8125 11.734375 \r\nQ 24.65625 6.203125 33.40625 6.203125 \r\nQ 37.3125 6.203125 41.140625 7.25 \r\nQ 44.96875 8.296875 48.78125 10.40625 \r\nL 48.78125 2.09375 \r\nQ 45.015625 0.34375 40.984375 -0.53125 \r\nQ 36.96875 -1.421875 32.421875 -1.421875 \r\nQ 20.0625 -1.421875 12.78125 6.34375 \r\nQ 5.515625 14.109375 5.515625 27.296875 \r\nQ 5.515625 40.671875 12.859375 48.328125 \r\nQ 20.21875 56 33.015625 56 \r\nQ 37.15625 56 41.109375 55.140625 \r\nQ 45.0625 54.296875 48.78125 52.59375 \r\nz\r\n\" id=\"DejaVuSans-99\"/>\r\n     <path d=\"M 8.5 21.578125 \r\nL 8.5 54.6875 \r\nL 17.484375 54.6875 \r\nL 17.484375 21.921875 \r\nQ 17.484375 14.15625 20.5 10.265625 \r\nQ 23.53125 6.390625 29.59375 6.390625 \r\nQ 36.859375 6.390625 41.078125 11.03125 \r\nQ 45.3125 15.671875 45.3125 23.6875 \r\nL 45.3125 54.6875 \r\nL 54.296875 54.6875 \r\nL 54.296875 0 \r\nL 45.3125 0 \r\nL 45.3125 8.40625 \r\nQ 42.046875 3.421875 37.71875 1 \r\nQ 33.40625 -1.421875 27.6875 -1.421875 \r\nQ 18.265625 -1.421875 13.375 4.4375 \r\nQ 8.5 10.296875 8.5 21.578125 \r\nz\r\nM 31.109375 56 \r\nz\r\n\" id=\"DejaVuSans-117\"/>\r\n     <path d=\"M 41.109375 46.296875 \r\nQ 39.59375 47.171875 37.8125 47.578125 \r\nQ 36.03125 48 33.890625 48 \r\nQ 26.265625 48 22.1875 43.046875 \r\nQ 18.109375 38.09375 18.109375 28.8125 \r\nL 18.109375 0 \r\nL 9.078125 0 \r\nL 9.078125 54.6875 \r\nL 18.109375 54.6875 \r\nL 18.109375 46.1875 \r\nQ 20.953125 51.171875 25.484375 53.578125 \r\nQ 30.03125 56 36.53125 56 \r\nQ 37.453125 56 38.578125 55.875 \r\nQ 39.703125 55.765625 41.0625 55.515625 \r\nz\r\n\" id=\"DejaVuSans-114\"/>\r\n     <path d=\"M 32.171875 -5.078125 \r\nQ 28.375 -14.84375 24.75 -17.8125 \r\nQ 21.140625 -20.796875 15.09375 -20.796875 \r\nL 7.90625 -20.796875 \r\nL 7.90625 -13.28125 \r\nL 13.1875 -13.28125 \r\nQ 16.890625 -13.28125 18.9375 -11.515625 \r\nQ 21 -9.765625 23.484375 -3.21875 \r\nL 25.09375 0.875 \r\nL 2.984375 54.6875 \r\nL 12.5 54.6875 \r\nL 29.59375 11.921875 \r\nL 46.6875 54.6875 \r\nL 56.203125 54.6875 \r\nz\r\n\" id=\"DejaVuSans-121\"/>\r\n    </defs>\r\n    <g transform=\"translate(170.431875 16.318125)scale(0.12 -0.12)\">\r\n     <use xlink:href=\"#DejaVuSans-97\"/>\r\n     <use x=\"61.279297\" xlink:href=\"#DejaVuSans-99\"/>\r\n     <use x=\"116.259766\" xlink:href=\"#DejaVuSans-99\"/>\r\n     <use x=\"171.240234\" xlink:href=\"#DejaVuSans-117\"/>\r\n     <use x=\"234.619141\" xlink:href=\"#DejaVuSans-114\"/>\r\n     <use x=\"275.732422\" xlink:href=\"#DejaVuSans-97\"/>\r\n     <use x=\"337.011719\" xlink:href=\"#DejaVuSans-99\"/>\r\n     <use x=\"391.992188\" xlink:href=\"#DejaVuSans-121\"/>\r\n    </g>\r\n   </g>\r\n  </g>\r\n </g>\r\n <defs>\r\n  <clipPath id=\"p1c0ee04cc7\">\r\n   <rect height=\"217.44\" width=\"334.8\" x=\"30.103125\" y=\"22.318125\"/>\r\n  </clipPath>\r\n </defs>\r\n</svg>\r\n",
      "image/png": "[encoded data removed]"
     },
     "metadata": {
      "needs_background": "light"
     }
    }
   ],
   "source": [
    "import matplotlib.pyplot as plt\n",
    "#% matplotlib inline\n",
    "x = range(int(best_param[\"epochs\"]))  # 演習D epoch数をx軸に指定する。range()の()のなかに、数字を入力してください。数字はepochsで指定した数と同じにしてください。\n",
    "plt.plot(x, history.history[\"accuracy\"], c=\"red\")\n",
    "plt.plot(x, history.history[\"val_accuracy\"], c=\"blue\")\n",
    "plt.title(\"accuracy\")\n",
    "plt.show()"
   ]
  },
  {
   "cell_type": "code",
   "execution_count": 68,
   "metadata": {},
   "outputs": [
    {
     "output_type": "stream",
     "name": "stdout",
     "text": [
      "[[42356     0]\n",
      " [42356     0]]\n"
     ]
    }
   ],
   "source": [
    "# 混同行列による評価\n",
    "y_proba = model.predict(X_train)\n",
    "y_pred = np.argmax(y_proba, axis=1)\n",
    "confmat = confusion_matrix(y_test, y_pred)\n",
    "print(confmat)"
   ]
  },
  {
   "cell_type": "code",
   "execution_count": 58,
   "metadata": {},
   "outputs": [
    {
     "output_type": "stream",
     "name": "stdout",
     "text": [
      "正解率: 0.5\n"
     ]
    }
   ],
   "source": [
    "# 正答率による評価\n",
    "print(\"正解率:\", accuracy_score(y_test, y_pred))"
   ]
  },
  {
   "cell_type": "code",
   "execution_count": 59,
   "metadata": {},
   "outputs": [
    {
     "output_type": "stream",
     "name": "stdout",
     "text": [
      "    y  y_pred\n",
      "1   1       0\n",
      "7   1       0\n",
      "9   1       0\n",
      "12  1       0\n",
      "24  1       0\n"
     ]
    }
   ],
   "source": [
    "print(pd.DataFrame({'y': y_test, 'y_pred': y_pred}).head())  # 実際のクラスと分類結果を上から5つだけ表示"
   ]
  },
  {
   "cell_type": "code",
   "execution_count": 60,
   "metadata": {},
   "outputs": [
    {
     "output_type": "stream",
     "name": "stdout",
     "text": [
      "回帰係数:\n",
      "                         Name  Coefficients\n",
      "5                credit_score     -0.194555\n",
      "4           employment_length      0.018616\n",
      "7  purpose_debt_consolidation      0.029884\n",
      "6            application_type      0.042618\n",
      "1                        term      0.049006\n",
      "0                   loan_amnt      0.051940\n",
      "3                       grade      0.172597\n",
      "2               interest_rate      0.630886\n",
      "切片: 0.1686028\n",
      "決定係数: 0.1196709971096984\n"
     ]
    }
   ],
   "source": [
    "# 重回帰\n",
    "from sklearn import linear_model  # 線形回帰を行うためのモジュール\n",
    "# 変数の準備\n",
    "# X = data_oh.drop([\"loan_status_ChargedOff\", \"loan_status_FullyPaid\"], axis=1)  # 説明変数の設定\n",
    "# y = data_oh[\"loan_status_FullyPaid\"]  # 目的変数の設定\n",
    "\n",
    "# 学習\n",
    "lr = linear_model.LinearRegression()  # 線形回帰モデルのインスタンスを作成\n",
    "lr.fit(X_train, y_train)  # 回帰の実行\n",
    "\n",
    "# 結果の確認\n",
    "print(\"回帰係数:\")\n",
    "print(pd.DataFrame({\"Name\": X_train.columns,\n",
    "                    \"Coefficients\": lr.coef_}).sort_values(by='Coefficients'))  # 回帰係数\n",
    "print(\"切片:\", lr.intercept_)  # 切片\n",
    "print(\"決定係数:\", lr.score(X_train, y_train))  # 決定係数"
   ]
  },
  {
   "cell_type": "code",
   "execution_count": 61,
   "metadata": {},
   "outputs": [
    {
     "output_type": "execute_result",
     "data": {
      "text/plain": [
       "    loan_amnt  term  interest_rate  grade  employment_length  credit_score  \\\n",
       "1    0.242699     1       0.206435      0                  1      0.278140   \n",
       "7    0.516423     1       0.814364      0                  1      0.008612   \n",
       "9    0.106075     0       0.253206      0                  0      0.007425   \n",
       "12   0.260113     0       0.597179      0                  0      0.009559   \n",
       "24   0.553377     1       0.363311      0                  0      0.418657   \n",
       "\n",
       "    application_type  purpose_debt_consolidation  \n",
       "1                  1                           0  \n",
       "7                  1                           1  \n",
       "9                  1                           0  \n",
       "12                 1                           1  \n",
       "24                 1                           0  "
      ],
      "text/html": "<div>\n<style scoped>\n    .dataframe tbody tr th:only-of-type {\n        vertical-align: middle;\n    }\n\n    .dataframe tbody tr th {\n        vertical-align: top;\n    }\n\n    .dataframe thead th {\n        text-align: right;\n    }\n</style>\n<table border=\"1\" class=\"dataframe\">\n  <thead>\n    <tr style=\"text-align: right;\">\n      <th></th>\n      <th>loan_amnt</th>\n      <th>term</th>\n      <th>interest_rate</th>\n      <th>grade</th>\n      <th>employment_length</th>\n      <th>credit_score</th>\n      <th>application_type</th>\n      <th>purpose_debt_consolidation</th>\n    </tr>\n  </thead>\n  <tbody>\n    <tr>\n      <th>1</th>\n      <td>0.242699</td>\n      <td>1</td>\n      <td>0.206435</td>\n      <td>0</td>\n      <td>1</td>\n      <td>0.278140</td>\n      <td>1</td>\n      <td>0</td>\n    </tr>\n    <tr>\n      <th>7</th>\n      <td>0.516423</td>\n      <td>1</td>\n      <td>0.814364</td>\n      <td>0</td>\n      <td>1</td>\n      <td>0.008612</td>\n      <td>1</td>\n      <td>1</td>\n    </tr>\n    <tr>\n      <th>9</th>\n      <td>0.106075</td>\n      <td>0</td>\n      <td>0.253206</td>\n      <td>0</td>\n      <td>0</td>\n      <td>0.007425</td>\n      <td>1</td>\n      <td>0</td>\n    </tr>\n    <tr>\n      <th>12</th>\n      <td>0.260113</td>\n      <td>0</td>\n      <td>0.597179</td>\n      <td>0</td>\n      <td>0</td>\n      <td>0.009559</td>\n      <td>1</td>\n      <td>1</td>\n    </tr>\n    <tr>\n      <th>24</th>\n      <td>0.553377</td>\n      <td>1</td>\n      <td>0.363311</td>\n      <td>0</td>\n      <td>0</td>\n      <td>0.418657</td>\n      <td>1</td>\n      <td>0</td>\n    </tr>\n  </tbody>\n</table>\n</div>"
     },
     "metadata": {},
     "execution_count": 61
    }
   ],
   "source": [
    "X_train.head()"
   ]
  },
  {
   "cell_type": "code",
   "execution_count": 62,
   "metadata": {},
   "outputs": [],
   "source": [
    "# # ランダムフォレスト\n",
    "# # データ前処理\n",
    "# # データ分割\n",
    "# X = data.drop([\"id\", \"term\", \"grade\", \"employment_length\", \"purpose\", \"application_type\", \"loan_status\"], axis=1)\n",
    "# y_train = data[\"loan_status\"].values\n",
    "# # # Min-Maxスケーリング\n",
    "# X = ((X - X.min()) / (X.max() - X.min()))"
   ]
  },
  {
   "cell_type": "code",
   "execution_count": 63,
   "metadata": {},
   "outputs": [
    {
     "output_type": "stream",
     "name": "stdout",
     "text": [
      "    y  y_pred\n",
      "1   1       0\n",
      "7   1       1\n",
      "9   1       0\n",
      "12  1       1\n",
      "24  1       0\n"
     ]
    }
   ],
   "source": [
    "from sklearn.ensemble import RandomForestClassifier  # ランダムフォレストを実行するためのクラス\n",
    "# 学習\n",
    "RFC = RandomForestClassifier(max_depth=3, random_state=1)  # ランダムフォレストのインスタンスを作成\n",
    "RFC.fit(X_train, y_train)  # ランダムフォレストの学習\n",
    "\n",
    "# 分類結果の確認\n",
    "y_pred = RFC.predict(X_train)  # 分類結果\n",
    "print(pd.DataFrame({'y': y_train, 'y_pred': y_pred}).head())  # 実際のクラスと分類結果を上から5つだけ表示"
   ]
  },
  {
   "cell_type": "code",
   "execution_count": 64,
   "metadata": {},
   "outputs": [
    {
     "output_type": "stream",
     "name": "stdout",
     "text": [
      "正解率: 0.6356478421002928\n"
     ]
    }
   ],
   "source": [
    "# コード例2\n",
    "# モデルの精度（正解率）の確認\n",
    "print('正解率:', RFC.score(X_train, y_train))"
   ]
  },
  {
   "cell_type": "code",
   "execution_count": 65,
   "metadata": {},
   "outputs": [
    {
     "output_type": "stream",
     "name": "stdout",
     "text": [
      "[[24866 17490]\n",
      " [13375 28981]]\n"
     ]
    }
   ],
   "source": [
    "# 混同行列による評価\n",
    "y_proba = RFC.predict(X_train)\n",
    "confmat = confusion_matrix(y_train, y_proba)\n",
    "print(confmat)"
   ]
  },
  {
   "cell_type": "code",
   "execution_count": 66,
   "metadata": {},
   "outputs": [],
   "source": [
    "# history.history[\"val_accuracy\"]\n",
    "np.savetxt(\"C:\\work\\AI\\hoge.dat\", y_pred)"
   ]
  },
  {
   "cell_type": "code",
   "execution_count": 433,
   "metadata": {},
   "outputs": [],
   "source": [
    "# データ前処理\n",
    "data_test = pd.read_csv(\"test.csv\")\n",
    "# Chapter3\n",
    "# データ前処理\n",
    "# One-Hotエンコーディング\n",
    "# pre_X = input_data.drop([\"loan_status\", \"id\"], axis=1).replace({\n",
    "pre_X = data_test.drop([\"id\"], axis=1).replace({\n",
    "    \"A1\": 1, \"A2\": 2, \"A3\": 3, \"A4\": 4, \"A5\": 5,\n",
    "    \"B1\": 6, \"B2\": 7, \"B3\": 8, \"B4\": 9, \"B5\": 10,\n",
    "    \"C1\": 11, \"C2\": 12, \"C3\": 13, \"C4\": 14, \"C5\": 15,\n",
    "    \"D1\": 16, \"D2\": 17, \"D3\": 18, \"D4\": 19, \"D5\": 20,\n",
    "    \"E1\": 21, \"E2\": 22, \"E3\": 23, \"E4\": 24, \"E5\": 25,\n",
    "    \"F1\": 26, \"F2\": 27, \"F3\": 28, \"F4\": 29, \"F5\": 30,\n",
    "    \"0 year\": 0, \"0 years\": 0, \"1 years\": 1, \"1 year\": 1, \"2 years\": 2, \"3 years\": 3, \"4 years\": 4, \"5 years\": 5,\n",
    "    \"6 years\": 6, \"7 years\": 7, \"8 years\": 8, \"9 years\": 9, \"10 years\": 10,\n",
    "    \"Individual\": 1, \"Joint App\": 0,\n",
    "    \"purpose_car\": 0,\"purpose_credit_card\": 1,\"purpose_debt_consolidation\": 1,\"purpose_home_improvement\": 0,\"purpose_house\": 0,\"purpose_major_purchase\": 0,\"purpose_medical\": 0,\"purpose_other\": 0,\"purpose_small_business\": 0,\n",
    "}).astype({\n",
    "    \"term\": \"int8\",\n",
    "    \"grade\": \"int8\",\n",
    "    \"employment_length\": \"int8\",\n",
    "    \"application_type\": \"int8\",\n",
    "})\n",
    "X = pd.get_dummies(pre_X)\n",
    "\n",
    "# 加工が終わった時点でCSVに出すと、ほかのモデルでの使いまわしがきく。\n",
    "X_test = ((X - X.min()) / (X.max() - X.min()))"
   ]
  },
  {
   "cell_type": "code",
   "execution_count": 435,
   "metadata": {},
   "outputs": [],
   "source": [
    "X_test = X_test.astype(\"float32\")\n",
    "X_test = X_test.drop([\"purpose_home_improvement\", \"purpose_house\", \"purpose_major_purchase\", \"purpose_medical\", \"purpose_other\", \"purpose_small_business\", \"purpose_car\", \"purpose_credit_card\", \"purpose_moving\"], axis=1).astype({\n",
    "    \"term\": \"int8\",\n",
    "    \"grade\": \"int8\",\n",
    "    \"employment_length\": \"int8\",\n",
    "    \"application_type\": \"int8\",\n",
    "    \"purpose_debt_consolidation\": \"int8\",\n",
    "})"
   ]
  },
  {
   "cell_type": "code",
   "execution_count": 436,
   "metadata": {},
   "outputs": [
    {
     "output_type": "execute_result",
     "data": {
      "text/plain": [
       "   loan_amnt  term  interest_rate  grade  employment_length  credit_score  \\\n",
       "0   0.233748     0       0.338255      0                  1      0.170125   \n",
       "1   0.550417     1       0.388391      0                  1      0.081955   \n",
       "2   0.528645     0       0.117750      0                  1      0.306207   \n",
       "3   0.048324     0       0.055643      0                  0      0.484529   \n",
       "4   0.563678     0       0.271754      0                  0      0.274790   \n",
       "\n",
       "   application_type  purpose_debt_consolidation  \n",
       "0                 1                           0  \n",
       "1                 1                           1  \n",
       "2                 1                           0  \n",
       "3                 1                           1  \n",
       "4                 1                           1  "
      ],
      "text/html": "<div>\n<style scoped>\n    .dataframe tbody tr th:only-of-type {\n        vertical-align: middle;\n    }\n\n    .dataframe tbody tr th {\n        vertical-align: top;\n    }\n\n    .dataframe thead th {\n        text-align: right;\n    }\n</style>\n<table border=\"1\" class=\"dataframe\">\n  <thead>\n    <tr style=\"text-align: right;\">\n      <th></th>\n      <th>loan_amnt</th>\n      <th>term</th>\n      <th>interest_rate</th>\n      <th>grade</th>\n      <th>employment_length</th>\n      <th>credit_score</th>\n      <th>application_type</th>\n      <th>purpose_debt_consolidation</th>\n    </tr>\n  </thead>\n  <tbody>\n    <tr>\n      <th>0</th>\n      <td>0.233748</td>\n      <td>0</td>\n      <td>0.338255</td>\n      <td>0</td>\n      <td>1</td>\n      <td>0.170125</td>\n      <td>1</td>\n      <td>0</td>\n    </tr>\n    <tr>\n      <th>1</th>\n      <td>0.550417</td>\n      <td>1</td>\n      <td>0.388391</td>\n      <td>0</td>\n      <td>1</td>\n      <td>0.081955</td>\n      <td>1</td>\n      <td>1</td>\n    </tr>\n    <tr>\n      <th>2</th>\n      <td>0.528645</td>\n      <td>0</td>\n      <td>0.117750</td>\n      <td>0</td>\n      <td>1</td>\n      <td>0.306207</td>\n      <td>1</td>\n      <td>0</td>\n    </tr>\n    <tr>\n      <th>3</th>\n      <td>0.048324</td>\n      <td>0</td>\n      <td>0.055643</td>\n      <td>0</td>\n      <td>0</td>\n      <td>0.484529</td>\n      <td>1</td>\n      <td>1</td>\n    </tr>\n    <tr>\n      <th>4</th>\n      <td>0.563678</td>\n      <td>0</td>\n      <td>0.271754</td>\n      <td>0</td>\n      <td>0</td>\n      <td>0.274790</td>\n      <td>1</td>\n      <td>1</td>\n    </tr>\n  </tbody>\n</table>\n</div>"
     },
     "metadata": {},
     "execution_count": 436
    }
   ],
   "source": [
    "X_test.head()"
   ]
  },
  {
   "cell_type": "code",
   "execution_count": 437,
   "metadata": {},
   "outputs": [],
   "source": [
    "y_pred = RFC.predict(X_test)\n",
    "np.savetxt(\"C:\\work\\AI\\hoge2.dat\", y_pred)\n"
   ]
  },
  {
   "cell_type": "code",
   "execution_count": 438,
   "metadata": {},
   "outputs": [],
   "source": [
    "y_proba = model.predict(X_test)\n",
    "y_pred = np.argmax(y_proba, axis=1)\n",
    "np.savetxt(\"C:\\work\\AI\\hoge.dat\", y_pred)"
   ]
  },
  {
   "cell_type": "code",
   "execution_count": null,
   "metadata": {},
   "outputs": [],
   "source": []
  }
 ]
}