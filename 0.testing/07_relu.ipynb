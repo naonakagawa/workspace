{
 "metadata": {
  "language_info": {
   "codemirror_mode": {
    "name": "ipython",
    "version": 3
   },
   "file_extension": ".py",
   "mimetype": "text/x-python",
   "name": "python",
   "nbconvert_exporter": "python",
   "pygments_lexer": "ipython3",
   "version": "3.7.6-final"
  },
  "orig_nbformat": 2,
  "kernelspec": {
   "name": "python3",
   "display_name": "Python 3"
  }
 },
 "nbformat": 4,
 "nbformat_minor": 2,
 "cells": [
  {
   "cell_type": "code",
   "execution_count": 5,
   "metadata": {
    "tags": []
   },
   "outputs": [
    {
     "output_type": "stream",
     "name": "stdout",
     "text": "ReLU関数の出力\n0\n0\n5\n\n"
    }
   ],
   "source": [
    "# NumPyの読み込み\n",
    "import numpy as np\n",
    "\n",
    "\n",
    "# ReLU関数の定義\n",
    "def relu(x):\n",
    "    return np.maximum(x, 0)\n",
    "    \n",
    "\n",
    "\n",
    "# ReLU関数の出力\n",
    "print(\"ReLU関数の出力\")\n",
    "print(relu(-5))\n",
    "print(relu(0))\n",
    "print(relu(5))\n",
    "print()"
   ]
  },
  {
   "cell_type": "code",
   "execution_count": null,
   "metadata": {},
   "outputs": [],
   "source": []
  }
 ]
}