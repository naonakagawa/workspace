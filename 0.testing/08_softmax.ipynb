{
 "metadata": {
  "language_info": {
   "codemirror_mode": {
    "name": "ipython",
    "version": 3
   },
   "file_extension": ".py",
   "mimetype": "text/x-python",
   "name": "python",
   "nbconvert_exporter": "python",
   "pygments_lexer": "ipython3",
   "version": "3.7.6-final"
  },
  "orig_nbformat": 2,
  "kernelspec": {
   "name": "python3",
   "display_name": "Python 3"
  }
 },
 "nbformat": 4,
 "nbformat_minor": 2,
 "cells": [
  {
   "cell_type": "code",
   "execution_count": 4,
   "metadata": {
    "tags": []
   },
   "outputs": [
    {
     "output_type": "stream",
     "name": "stdout",
     "text": "[0.09003057 0.24472847 0.66524096]\n[nan nan nan]\n"
    }
   ],
   "source": [
    "# NumPyの読み込み\n",
    "import numpy as np\n",
    "\n",
    "\n",
    "\n",
    "# (1)オーバーフローを回避するための工夫を取り入れたソフトマックス関数を定義してください\n",
    "def softmax_v2(x):\n",
    "    c = np.max(x)\n",
    "    x_new = x-c\n",
    "    return np.exp(x_new)/np.sum(np.exp(x_new))\n",
    "\n",
    "\n",
    "x = np.array([2000, 2001, 2002])\n",
    "print(softmax_v2(x))"
   ]
  },
  {
   "cell_type": "code",
   "execution_count": null,
   "metadata": {},
   "outputs": [],
   "source": []
  }
 ]
}