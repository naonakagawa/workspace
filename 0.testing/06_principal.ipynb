{
 "metadata": {
  "language_info": {
   "codemirror_mode": {
    "name": "ipython",
    "version": 3
   },
   "file_extension": ".py",
   "mimetype": "text/x-python",
   "name": "python",
   "nbconvert_exporter": "python",
   "pygments_lexer": "ipython3",
   "version": "3.7.6-final"
  },
  "orig_nbformat": 2,
  "kernelspec": {
   "name": "python3",
   "display_name": "Python 3"
  }
 },
 "nbformat": 4,
 "nbformat_minor": 2,
 "cells": [
  {
   "cell_type": "code",
   "execution_count": 1,
   "metadata": {
    "tags": []
   },
   "outputs": [
    {
     "output_type": "stream",
     "name": "stdout",
     "text": "次元削減後の特徴量\n[[-3.31675081  1.44346263  0.16573904]\n [-2.20946492 -0.33339289  2.02645737]\n [-2.51674015  1.0311513  -0.98281867]\n [-3.75706561  2.75637191  0.17619184]\n [-1.00890849  0.86983082 -2.02668822]]\n"
    }
   ],
   "source": [
    "import numpy as np  # 数値計算のためのパッケージ\n",
    "import pandas as pd  # データの加工用のパッケージ\n",
    "from sklearn import datasets  # サンプルデータセットをインポートするためのモジュール\n",
    "\n",
    "wine = datasets.load_wine()  # ワインデータの読込\n",
    "\n",
    "dat = pd.DataFrame(data=wine.data, columns=wine.feature_names)  # ワインデータを表形式に変換\n",
    "dat['target'] = wine.target  # ターゲットを表に追加\n",
    "\n",
    "# 特徴量とターゲットの設定\n",
    "X = dat.drop('target', axis=1).values  # 特徴量の設定\n",
    "y = dat['target']  # ターゲットの設定\n",
    "\n",
    "# (1)特徴量Xの標準化をおこなったものをX_stdに格納してください\n",
    "X_std = (X - np.mean(X, axis=0)) / np.std(X, axis=0)\n",
    "\n",
    "# PCAを関数で定義\n",
    "def pca(X, k):\n",
    "    # (2) 共分散行列を作成し、cov_matに格納してください\n",
    "    cov_mat = np.cov(X_std.T)\n",
    "    # (3) 共分散行列の固有値と固有ベクトルを算出し、\n",
    "    #     eigen_vals, eigen_vecsにそれぞれ格納してください\n",
    "    eigen_vals, eigen_vecs = np.linalg.eigh(cov_mat)\n",
    "    # (4) 固有値の大きい方からk個までに対応する固有ベクトルを用いて、\n",
    "    #     射影行列Wを作成してください\n",
    "    W = np.vstack((eigen_vecs[:, -1:-(k+1):-1]))\n",
    "    # (5)射影行列Wを用いて元のデータセットの次元削減を行ったものをX_pcaに格納\n",
    "    X_pca = X.dot(W)\n",
    "    \n",
    "    # 返り値を指定\n",
    "    return X_pca\n",
    "\n",
    "\n",
    "# 定義した関数を用いて、X_stdを3次元データに変換\n",
    "print('次元削減後の特徴量')\n",
    "print(pca(X_std, 3)[0:5])  # 次元削減後の特徴量を5組確認"
   ]
  }
 ]
}