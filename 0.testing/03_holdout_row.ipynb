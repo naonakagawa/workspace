{
 "metadata": {
  "language_info": {
   "codemirror_mode": {
    "name": "ipython",
    "version": 3
   },
   "file_extension": ".py",
   "mimetype": "text/x-python",
   "name": "python",
   "nbconvert_exporter": "python",
   "pygments_lexer": "ipython3",
   "version": "3.7.6-final"
  },
  "orig_nbformat": 2,
  "kernelspec": {
   "name": "python3",
   "display_name": "Python 3"
  }
 },
 "nbformat": 4,
 "nbformat_minor": 2,
 "cells": [
  {
   "cell_type": "code",
   "execution_count": 27,
   "metadata": {
    "tags": []
   },
   "outputs": [
    {
     "output_type": "stream",
     "name": "stdout",
     "text": "Xのサイズ: (150, 2)\nyのサイズ: (150,)\nX_trainのサイズ: (105, 2)\ny_trainのサイズ: (105,)\nX_testのサイズ: (45, 2)\ny_testのサイズ: (45,)\n"
    }
   ],
   "source": [
    "import numpy as np # 数値計算のためのパッケージ\n",
    "import pandas as pd # データの加工用のパッケージ\n",
    "from sklearn import datasets # サンプルデータセットをインポートするためのモジュール\n",
    "iris = datasets.load_iris() # アヤメデータの読込\n",
    " \n",
    "dat = pd.DataFrame(data=iris.data, columns=iris.feature_names) # アヤメデータを表形式に変換\n",
    "dat[\"species\"] = iris.target # ターゲットを表に追加\n",
    " \n",
    "# 特徴量とターゲットの設定\n",
    "X = dat[[\"sepal length (cm)\", \"sepal width (cm)\"]].values # 特徴量の設定\n",
    "y = dat['species'] # ターゲットの設定\n",
    " \n",
    "# ホールドアウト法を行うための関数を定義\n",
    "def Hold_out(X, y, test_size, random_state):\n",
    "    \n",
    "    X_c = X.copy()  # Xの値のコピーを作成\n",
    "    y_c = y.copy()  # yの値のコピーを作成\n",
    "    \n",
    "    # 特徴量とターゲットをシャッフル\n",
    "    for i in [X_c, y_c]:\n",
    "        np.random.seed(random_state)\n",
    "        np.random.shuffle(i)\n",
    "\n",
    "    # シャッフルしたデータを訓練データとテストデータに分割\n",
    "    # (1)テストデータのサンプル数(test_num)を、\n",
    "    # X_cのデータサイズとテストデータの割合(test_size)との積で定義してください\n",
    "    # （積はint()関数を用いて切り捨てを行い整数に変換してください）\n",
    "    test_num = int(len(X_c) * test_size)\n",
    "    X_train = X_c[test_num:, 0:]\n",
    "    X_test = X_c[0: test_num, 0:]\n",
    "    y_train = y_c[test_num:]\n",
    "    y_test = y_c[0: test_num]\n",
    "    \n",
    "    # (2) 返り値を以下の順番で指定する。\n",
    "    # 訓練用の特徴量、テスト用の特徴量、訓練用のターゲット、テスト用のターゲット\n",
    "    return X_train, X_test, y_train, y_test\n",
    "\n",
    "\n",
    "# 定義した関数を用いて元データをトレーニングデータとテストデータに分割\n",
    "X_train, X_test, y_train, y_test = Hold_out(X, y, test_size = 0.3,\n",
    "                                            random_state=0)\n",
    " \n",
    "# 分割前と分割後のデータサイズを確認\n",
    "print('Xのサイズ:', X.shape)\n",
    "print('yのサイズ:', y.shape)\n",
    "print('X_trainのサイズ:', X_train.shape)\n",
    "print('y_trainのサイズ:', y_train.shape)\n",
    "print('X_testのサイズ:', X_test.shape)\n",
    "print('y_testのサイズ:', y_test.shape)"
   ]
  }
 ]
}