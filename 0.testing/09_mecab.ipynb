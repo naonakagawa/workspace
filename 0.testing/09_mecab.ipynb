{
 "metadata": {
  "language_info": {
   "codemirror_mode": {
    "name": "ipython",
    "version": 3
   },
   "file_extension": ".py",
   "mimetype": "text/x-python",
   "name": "python",
   "nbconvert_exporter": "python",
   "pygments_lexer": "ipython3",
   "version": "3.7.6-final"
  },
  "orig_nbformat": 2,
  "kernelspec": {
   "name": "Python 3.7.6 64-bit ('base': conda)",
   "display_name": "Python 3.7.6 64-bit ('base': conda)",
   "metadata": {
    "interpreter": {
     "hash": "b3ba2566441a7c06988d0923437866b63cedc61552a5af99d1f4fb67d367b25f"
    }
   }
  }
 },
 "nbformat": 4,
 "nbformat_minor": 2,
 "cells": [
  {
   "cell_type": "code",
   "execution_count": 34,
   "metadata": {},
   "outputs": [],
   "source": [
    "import MeCab\n",
    "IN_FILE_UTF8 = r\"C:\\\\work\\\\AI\\\\test.txt\""
   ]
  },
  {
   "cell_type": "code",
   "execution_count": 35,
   "metadata": {},
   "outputs": [],
   "source": [
    "with open(IN_FILE_UTF8, \"r\", encoding=\"utf-8\") as f:\n",
    "    data_u = f.read()"
   ]
  },
  {
   "cell_type": "code",
   "execution_count": 37,
   "metadata": {},
   "outputs": [],
   "source": [
    "# パース\n",
    "mecab = MeCab.Tagger('-Owakati -U\"%M,未知語\\n')\n",
    "parse_u = mecab.parse(data_u)\n",
    "lines_u = parse_u.split('\\n')"
   ]
  },
  {
   "cell_type": "code",
   "execution_count": 39,
   "metadata": {},
   "outputs": [
    {
     "output_type": "execute_result",
     "data": {
      "text/plain": [
       "['AIR 3 で は 、 サイバー 攻撃 に 対抗 す べく 、 サイバー 攻撃 に関する 情報 を 積極 的 に 収集 ・ 分析 し 、 これら の 情報 を 基 に セキュリティ 対策 や インシデント 対応 を 実施 し て いる 。 この よう な サイバー 攻撃 情報 の 収集 ・ 加工 ・ 分析 ・ 配布 の 活動 を Cyber Threat Intelligence （ 以降 、 インテリジェンス ） と いう 。 ',\n",
       " '']"
      ]
     },
     "metadata": {},
     "execution_count": 39
    }
   ],
   "source": [
    "lines_u"
   ]
  },
  {
   "cell_type": "code",
   "execution_count": null,
   "metadata": {},
   "outputs": [],
   "source": []
  }
 ]
}