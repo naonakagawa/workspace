{
 "metadata": {
  "language_info": {
   "codemirror_mode": {
    "name": "ipython",
    "version": 3
   },
   "file_extension": ".py",
   "mimetype": "text/x-python",
   "name": "python",
   "nbconvert_exporter": "python",
   "pygments_lexer": "ipython3",
   "version": "3.7.6-final"
  },
  "orig_nbformat": 2,
  "kernelspec": {
   "name": "python3",
   "display_name": "Python 3"
  }
 },
 "nbformat": 4,
 "nbformat_minor": 2,
 "cells": [
  {
   "cell_type": "code",
   "execution_count": 1,
   "metadata": {
    "tags": []
   },
   "outputs": [
    {
     "output_type": "stream",
     "name": "stdout",
     "text": "R2: 0.962\nRMSE: 0.27568097504180444\nMAE: 0.24000000000000005\nRMSLE: 0.11909315947364169\n"
    }
   ],
   "source": [
    "import numpy as np  # 数値計算用のパッケージ\n",
    "\n",
    "# 実際の観測値(y_true)と予測値（y_pred）の準備\n",
    "y_true = np.array([0, 1, 2, 3, 4])\n",
    "y_pred = np.array([-0.2, 0.9, 1.8, 2.8, 3.5])\n",
    "y_mean = np.mean(y_true)  # 観測値の平均を算出\n",
    "\n",
    "# 各種指標の算出\n",
    "# (1)決定係数R2を算出してください\n",
    "R2 = 1 - ((sum((y_true-y_pred)**2)/(sum((y_true-y_mean)**2))))\n",
    "\n",
    "# (2)2乗平均平方根誤差RMSEを算出してください\n",
    "RMSE = np.sqrt((1/len(y_true)*sum((y_true-y_pred)**2)))\n",
    "\n",
    "# (3)平均絶対誤差RMSEを算出してください\n",
    "MAE = (1/len(y_true))*sum(np.abs(y_true-y_pred))\n",
    "\n",
    "# (4)対数2乗平均平方根誤差RMSLEを算出してください\n",
    "RMSLE = np.sqrt((1/len(y_true)*sum((np.log(y_true+1)-np.log(y_pred+1))**2)))\n",
    "\n",
    "# 結果の確認\n",
    "print(\"R2:\", R2)\n",
    "print(\"RMSE:\", RMSE)\n",
    "print(\"MAE:\", MAE)\n",
    "print(\"RMSLE:\", RMSLE)"
   ]
  }
 ]
}