{
 "metadata": {
  "language_info": {
   "codemirror_mode": {
    "name": "ipython",
    "version": 3
   },
   "file_extension": ".py",
   "mimetype": "text/x-python",
   "name": "python",
   "nbconvert_exporter": "python",
   "pygments_lexer": "ipython3",
   "version": "3.7.6-final"
  },
  "orig_nbformat": 2,
  "kernelspec": {
   "name": "python3",
   "display_name": "Python 3"
  }
 },
 "nbformat": 4,
 "nbformat_minor": 2,
 "cells": [
  {
   "cell_type": "code",
   "execution_count": 1,
   "metadata": {
    "tags": []
   },
   "outputs": [
    {
     "output_type": "stream",
     "name": "stdout",
     "text": "チューニングなしの正解率： 0.8222222222222222\n\nベストパラメータ： {'C': 1000, 'gamma': 0.001}\nチューニング後の正解率： 0.8444444444444444\n"
    }
   ],
   "source": [
    "import pandas as pd  # データの加工用のパッケージ\n",
    "from sklearn.model_selection import train_test_split  # データを分割するための関数\n",
    "from sklearn.svm import SVC  # サポートベクトルマシンを用いるためのクラス\n",
    "from sklearn import datasets  # サンプルデータセットをインポートするためのモジュール\n",
    "# (1)グリッドサーチを行うためのクラスをインポートしてください\n",
    "from sklearn.model_selection import GridSearchCV \n",
    "\n",
    "iris = datasets.load_iris()  # アヤメデータの読込\n",
    "\n",
    "dat = pd.DataFrame(data=iris.data, columns=iris.feature_names)  # アヤメデータを表形式に変換\n",
    "dat[\"species\"] = iris.target  # ターゲットを表に追加\n",
    "\n",
    "# 特徴量とターゲットの設定\n",
    "X = dat[[\"sepal length (cm)\", \"sepal width (cm)\"]].values  # 特徴量の設定\n",
    "y = dat['species']  # ターゲットの設定\n",
    "\n",
    "# 訓練データとテストデータの分割\n",
    "X_train, X_test, y_train, y_test = train_test_split(X, y,\n",
    "                                                    test_size=0.3, random_state=2)\n",
    "\n",
    "# 学習\n",
    "svm = SVC(kernel='rbf', random_state=1)  # RBFカーネルを用いたSVM：rbf（RBFカーネル）を指定\n",
    "svm.fit(X_train, y_train)  # SVMの学習\n",
    "\n",
    "# 予測の実行\n",
    "y_pred_rbf = svm.predict(X_test)  # RBFカーネルを用いたSVMによる分類の結果\n",
    "\n",
    "# 分類結果の確認\n",
    "print('チューニングなしの正解率：', svm.score(X_test, y_test))\n",
    "print()\n",
    "\n",
    "# (2)グリッドサーチのインスタンスを作成してください\n",
    "# アルゴリズム ⇒ svm を指定\n",
    "# パラメータ(C)の探索範囲 ⇒　10**-3~10**9まで、指数スケールで10**3刻み\n",
    "# パラメータ(gamma)の探索範囲 ⇒　10**-9~10**3まで、指数スケールで10**3刻み\n",
    "# 評価基準 ⇒ 正解率(accuracy)を指定\n",
    "# 交差検証の分割数 ⇒ 3 を指定\n",
    "gs = GridSearchCV(estimator=svm,\n",
    "                  param_grid={'C': [10**i for i in [-3, 0, 3, 6, 9]],\n",
    "                  'gamma': [10**i for i in [-9, -6, -3, 0, 3]]},\n",
    "                  scoring='accuracy',\n",
    "                  cv=3)\n",
    "\n",
    "# (3)グリッドサーチを実行してください\n",
    "gs = gs.fit(X_train, y_train)\n",
    "\n",
    "# グリッドサーチの結果の保存\n",
    "gs_result = pd.DataFrame(gs.cv_results_)\n",
    "\n",
    "# グリッドサーチの結果求まったベストパラメータを表示\n",
    "print('ベストパラメータ：', gs.best_params_)\n",
    "\n",
    "# (4)グリッドサーチの結果に合わせ、最適なパラメータの学習器(svm_best)を作成してください\n",
    "svm_best = gs.best_estimator_\n",
    "\n",
    "# ベストモデルの作成\n",
    "svm_best.fit(X_train, y_train)\n",
    "\n",
    "# チューニング結果の確認\n",
    "print('チューニング後の正解率：', svm_best.score(X_test, y_test))"
   ]
  }
 ]
}